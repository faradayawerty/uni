{
 "cells": [
  {
   "cell_type": "markdown",
   "metadata": {},
   "source": [
    "                                                              Ф.И.О."
   ]
  },
  {
   "cell_type": "markdown",
   "metadata": {},
   "source": [
    "#                                    Лабораторная работа №2"
   ]
  },
  {
   "cell_type": "markdown",
   "metadata": {},
   "source": [
    "## Строки в Python"
   ]
  },
  {
   "cell_type": "markdown",
   "metadata": {},
   "source": [
    "Каждая задача должна быть реализована в 2 вариантах – с использованием и без использования регулярных выражений."
   ]
  },
  {
   "cell_type": "markdown",
   "metadata": {},
   "source": [
    "**1.** В исходной строке после каждой заданной пользователем\n",
    "буквы вставьте заданную подстроку."
   ]
  },
  {
   "cell_type": "code",
   "execution_count": 27,
   "metadata": {},
   "outputs": [
    {
     "name": "stdin",
     "output_type": "stream",
     "text": [
      "введите строку:  bananas\n",
      "введите подстроку:  pple\n",
      "введите символ:  a\n"
     ]
    },
    {
     "name": "stdout",
     "output_type": "stream",
     "text": [
      "без регулярных выражений:  bapplenapplenapples\n",
      "с регулярными выражениями:  bapplenapplenapples\n"
     ]
    }
   ],
   "source": [
    "import re\n",
    "\n",
    "# make sure character is character before calling the function\n",
    "def insert_substring_after_character_1(string : str, substring : str, character : str) -> str:\n",
    "    return string.replace(character, character + substring)\n",
    "\n",
    "# make sure character is character before calling the function\n",
    "def insert_substring_after_character_2(string : str, substring : str, character : str) -> str:\n",
    "    return re.sub(character, character + substring, string)\n",
    "\n",
    "def main():\n",
    "    string = input(\"введите строку: \")\n",
    "    substring = input(\"введите подстроку: \")\n",
    "    character = input(\"введите символ: \")\n",
    "    \n",
    "    if(len(character) != 1 or re.compile(r'[^a-zA-Z]').match(character)):\n",
    "        print('> введён не символ')\n",
    "        return\n",
    "    \n",
    "    print(\"без регулярных выражений: \", insert_substring_after_character_1(string, substring, character))\n",
    "    print(\"с регулярными выражениями: \", insert_substring_after_character_2(string, substring, character))\n",
    "\n",
    "main()\n"
   ]
  },
  {
   "cell_type": "markdown",
   "metadata": {},
   "source": [
    "**2.** Подсчитайте сумму чисел, встречающихся в строке. Символ ‘–’ перед числом считается знаком отрицательного числа. Все остальные символы (кроме цифр и минуса) считаются разделителями между числами."
   ]
  },
  {
   "cell_type": "code",
   "execution_count": 71,
   "metadata": {},
   "outputs": [
    {
     "name": "stdin",
     "output_type": "stream",
     "text": [
      "введите строку:  wertg7wergerg6ergerg54\n"
     ]
    },
    {
     "name": "stdout",
     "output_type": "stream",
     "text": [
      "['7', '6', '54']\n",
      "без регулярных выражений:  67.0\n",
      "['7', '6', '54']\n",
      "с регулярными выражениями:  67.0\n"
     ]
    }
   ],
   "source": [
    "import re\n",
    "\n",
    "def is_float(string : str) -> bool:\n",
    "    try:\n",
    "        float(string)\n",
    "    except:\n",
    "        return False\n",
    "    return True\n",
    "        \n",
    "def sum_numbers(string : str) -> float:\n",
    "    numbers_from_string = []\n",
    "    while string != \"\":\n",
    "        substring = \"\"\n",
    "        while(is_float(substring) or substring == \"\"):\n",
    "            try:\n",
    "                if (string[0] == '.') or (string[0] == '-' and substring == \"\"):\n",
    "                    substring += string[0:2]\n",
    "                    string = string[2:]\n",
    "                else:\n",
    "                    substring += string[0]\n",
    "                    string = string[1:]\n",
    "            except IndexError:\n",
    "                break\n",
    "        if string == \"\" and is_float(substring):\n",
    "            numbers_from_string += [substring]\n",
    "        elif is_float(substring[:-1]):\n",
    "            numbers_from_string += [substring[:-1]]\n",
    "    print(numbers_from_string)\n",
    "    sum = 0.0\n",
    "    for f in numbers_from_string:\n",
    "        sum += float(f)\n",
    "    return sum\n",
    "    \n",
    "def sum_numbers_regex(string : str) -> float:\n",
    "    numbers_from_string = re.findall(r\"[-+]?(?:\\d*\\.\\d+|\\d+)\", string)\n",
    "    print(numbers_from_string)\n",
    "    sum = 0.0\n",
    "    for f in numbers_from_string:\n",
    "        sum += float(f)\n",
    "    return sum\n",
    "    \n",
    "def main():\n",
    "    string = input(\"введите строку: \")\n",
    "    \n",
    "    print(\"без регулярных выражений: \", sum_numbers(string))\n",
    "    print(\"с регулярными выражениями: \", sum_numbers_regex(string))\n",
    "\n",
    "main()"
   ]
  },
  {
   "cell_type": "markdown",
   "metadata": {},
   "source": [
    "**3.** Сформируйте новую строку, отличающуюся от исходной тем, что группы идущих подряд одинаковых символов разделены символом \\*. Пример ееннне -> ее\\*ннн\\*е, ппрол-> пп\\*р\\*о\\*л."
   ]
  },
  {
   "cell_type": "code",
   "execution_count": 120,
   "metadata": {},
   "outputs": [
    {
     "name": "stdin",
     "output_type": "stream",
     "text": [
      "введите строку:  ggggggggggggghhhhhhhhhhhiiiiiiiiiiiiiooooooooooojjkkkkkkk\n"
     ]
    },
    {
     "name": "stdout",
     "output_type": "stream",
     "text": [
      "без регулярных выражений:  None\n",
      "['g', 'h', 'i', 'o', 'j', 'k']\n",
      "с регулярными выражениями:  None\n"
     ]
    }
   ],
   "source": [
    "import re\n",
    "\n",
    "def insert_separator_after_group_of_same_characters(string : str, separator : str) -> str:\n",
    "    return \n",
    "    \n",
    "def insert_separator_after_group_of_same_characters_with_regex(string : str, separator : str) -> str:\n",
    "    print(re.findall(r'(.)\\1+', string))\n",
    "    \n",
    "def main():\n",
    "    string = input(\"введите строку: \")\n",
    "    print(\"без регулярных выражений: \", insert_separator_after_group_of_same_characters(string, '*'))\n",
    "    print(\"с регулярными выражениями: \", insert_separator_after_group_of_same_characters_with_regex(string, '*'))\n",
    "    pass\n",
    "    \n",
    "main()"
   ]
  },
  {
   "cell_type": "markdown",
   "metadata": {},
   "source": [
    "**4.** Удалите из строки последовательности символов, расположенные между круглыми скобками вместе со скобками (считается, что скобки в строке расставлены без ошибок)."
   ]
  },
  {
   "cell_type": "code",
   "execution_count": null,
   "metadata": {},
   "outputs": [],
   "source": [
    "import re\n",
    "\n",
    "def delete_around_brackets(string : str) -> str:\n",
    "    \n",
    "    \n",
    "def delete_around_brackets_with_regex(string : str) -> str:\n",
    "    \n",
    "\n",
    "def main():\n",
    "    string = input(\"введите строку: \")\n",
    "    print(\"без регулярных выражений: \", sum_numbers(string))\n",
    "    print(\"с регулярными выражениями: \", sum_numbers_regex(string))\n",
    "\n",
    "main()"
   ]
  },
  {
   "cell_type": "markdown",
   "metadata": {},
   "source": [
    "**5.** Преобразовать сегодняшнюю дату в системном представлении (2018-09-17) в привычный для нас формат день/месяц/год (17/09/2018). Известно, что на год выделено всегда 4 цифры, а на день и месяц – всегда 2 цифры.\n",
    "\n",
    "Примечание:\n",
    "за работу с датами и временем в Python отвечает модуль datetime, а непосредственно для работы с датами используется объект date и его методы."
   ]
  },
  {
   "cell_type": "code",
   "execution_count": 2,
   "metadata": {},
   "outputs": [],
   "source": [
    "from datetime import date\n",
    "\n",
    "#### Получаем текущую дату\n",
    "d1 = date.today()\n",
    "#### Преобразуем результат в строку\n",
    "ds = str(d1)"
   ]
  },
  {
   "cell_type": "code",
   "execution_count": null,
   "metadata": {},
   "outputs": [],
   "source": []
  },
  {
   "cell_type": "markdown",
   "metadata": {},
   "source": [
    "**6.** Выведите слова сообщения, являющиеся палиндромами, по убыванию их длин. Для повторяющихся слов в скобках указывать количество повторов."
   ]
  },
  {
   "cell_type": "code",
   "execution_count": null,
   "metadata": {},
   "outputs": [],
   "source": []
  },
  {
   "cell_type": "markdown",
   "metadata": {},
   "source": [
    "**7.** Исправьте строку в соответствии с правилом расстановки знаков препинания (точка, запятая, тире, точка с запятой, двоеточие,\n",
    "многоточие, круглые, квадратные и фигурные скобки):\n",
    "перед каждым знаком препинания (кроме тире и открывающихся скобок) пробел отсутствует, а после любого знака препинания (кроме\n",
    "открывающихся скобок) стоит ровно один пробел; в многоточии между точками пробелы отсутствуют."
   ]
  },
  {
   "cell_type": "code",
   "execution_count": null,
   "metadata": {},
   "outputs": [],
   "source": []
  }
 ],
 "metadata": {
  "kernelspec": {
   "display_name": "Python 3 (ipykernel)",
   "language": "python",
   "name": "python3"
  },
  "language_info": {
   "codemirror_mode": {
    "name": "ipython",
    "version": 3
   },
   "file_extension": ".py",
   "mimetype": "text/x-python",
   "name": "python",
   "nbconvert_exporter": "python",
   "pygments_lexer": "ipython3",
   "version": "3.10.8"
  }
 },
 "nbformat": 4,
 "nbformat_minor": 4
}
