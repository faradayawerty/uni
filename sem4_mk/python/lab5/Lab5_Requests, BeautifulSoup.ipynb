{
 "cells": [
  {
   "cell_type": "markdown",
   "metadata": {},
   "source": [
    "# Лабораторная работа 5"
   ]
  },
  {
   "cell_type": "markdown",
   "metadata": {},
   "source": [
    "## Библиотеки requests и BeautifulSoup"
   ]
  },
  {
   "cell_type": "markdown",
   "metadata": {},
   "source": [
    "**1. (1 балл)** Напишите программу для формирования поисковых запросов. Пользователь вводит произвольное число фраз, после чего ему выдается ссылка на страницу с результатами поиска."
   ]
  },
  {
   "cell_type": "code",
   "execution_count": null,
   "metadata": {},
   "outputs": [],
   "source": [
    "# Ваш код здесь"
   ]
  },
  {
   "cell_type": "markdown",
   "metadata": {},
   "source": [
    "**2. (2 балла)** Используя библиотеку `tkinter` создать окно, в котором при нажатии на кнопку появляется фотография с кошкой и факт об этом животном. \n",
    "* Случайная фотография кошки: `https://genrandom.com/ru/cats/`.\n",
    "* Факт о кошках (выбрать один факт случайным образом случайно с одного из двух сайтов): `https://www.purinaone.ru/cat/catmag/language/50-interesnyh-faktov-o-kotah` и `https://cvillecatcare.com/veterinary-topics/101-amazing-cat-facts-fun-trivia-about-your-feline-friend/`.\n",
    "\n",
    "Если факт на английском языке (со второго чайта), перевести факт с английского при помощи `translators`. \n",
    "* Перевод через Яндекс.Переводчик: `translated_text = translators.yandex(text, to_language='ru')`."
   ]
  },
  {
   "cell_type": "code",
   "execution_count": null,
   "metadata": {},
   "outputs": [],
   "source": [
    "pip install translators --upgrade"
   ]
  },
  {
   "cell_type": "code",
   "execution_count": null,
   "metadata": {},
   "outputs": [],
   "source": [
    "# Ваш код здесь"
   ]
  },
  {
   "cell_type": "markdown",
   "metadata": {},
   "source": [
    "**3. (1 балл)** Ниже представлен код, позволяющий загружать любое количество картинок с учетом редиректов сайта. Используется сайт https://picsum.photos/, который генерирует случайные изображения. Написана функция, скачивающая требуемое количество файлов размером 200x200. Применяются сессии и подмена юзер-агента."
   ]
  },
  {
   "cell_type": "code",
   "execution_count": 1,
   "metadata": {},
   "outputs": [
    {
     "name": "stdout",
     "output_type": "stream",
     "text": [
      "Скачано 1 фото из 2\n",
      "Скачано 2 фото из 2\n"
     ]
    }
   ],
   "source": [
    "import requests\n",
    " \n",
    "user_agent = {'user-agent': 'Mozilla/5.0 (Windows NT 10.0; Win64; x64) AppleWebKit/537.36 (KHTML, like Gecko) '\n",
    "                            'Chrome/89.0.4389.72 Safari/537.36'}\n",
    "session = requests.Session()\n",
    "session.headers.update(user_agent)\n",
    "\n",
    "\n",
    "def pics_downloader (num_of_pics):\n",
    "    for num in range(num_of_pics):\n",
    "        response = session.get('https://picsum.photos/300', allow_redirects=True, stream=True)\n",
    "        with open(f'{num}.jpg', 'wb') as picture:\n",
    "            for chunk in response.iter_content(chunk_size=1024):\n",
    "                if chunk:\n",
    "                    picture.write(chunk)\n",
    "        print(f'Скачано {num + 1} фото из {num_of_pics}')\n",
    " \n",
    " \n",
    "pics_downloader(2)"
   ]
  },
  {
   "cell_type": "markdown",
   "metadata": {},
   "source": [
    "Скорректируйте программу таким образом, чтобы пользователь мог указать требуемое количество и размер фотографий, а фотографии помещались в выбранный пользователем каталог. После скачивания фотографии должны бесконечно прокручиваться в случайном порядке через определенное пользователем количество секунд (пока пользователь не закроет окно)."
   ]
  },
  {
   "cell_type": "code",
   "execution_count": 7,
   "metadata": {},
   "outputs": [],
   "source": [
    "# Ваш код здесь"
   ]
  },
  {
   "cell_type": "markdown",
   "metadata": {},
   "source": [
    "**4. (2 балла)** Вывести количество астероидов, сближающихся с Землёй, и информацию о потенциально опасных астрономических объектах с указанной даты на неделю. \n",
    "Под данными объекта подразумевается: \n",
    "* имя, \n",
    "* примерный диаметр (мин. и макс. в метрах), \n",
    "* точная дата сближения (полная), \n",
    "* относительная скорость (км/c) и \n",
    "* расстояние промаха (минимальное расстояние между двумя космическими объектами, в км.\n",
    "\n",
    "Потенциально опасный астрономический объект — космический объект, орбита которого допускает приближение к Земле на потенциально опасное расстояние, а размеры достаточно велики, чтобы столкновение могло причинить существенный ущерб.\n",
    "\n",
    "Данные о всех сближающихся объектах можно получить по ссылке вида <center><br>\n",
    "    `https://api.nasa.gov/neo/rest/v1/feed?start_date=`+`начальная дата`+`&end_date=`+`конечная дата`+`&api_key=`+`ключ`,\n",
    "                       </center>\n",
    "                       \n",
    "где&nbsp;&nbsp;`начальная дата` — с какой даты получить наблюдения;<br>\n",
    "&emsp;&emsp;`конечная дата` — по какую дату получить наблюдения (по умолчанию 7 дней после `начальная дата`; максимум 7 дней);<br>\n",
    "&emsp;&emsp;`ключ` — ключ для использования различных служб."
   ]
  },
  {
   "cell_type": "markdown",
   "metadata": {},
   "source": [
    "*Решение*. Каждый объект в полученных данных имеет вид:"
   ]
  },
  {
   "cell_type": "code",
   "execution_count": 2,
   "metadata": {
    "scrolled": true,
    "tags": []
   },
   "outputs": [
    {
     "data": {
      "text/plain": [
       "{'links': {'self': 'http://api.nasa.gov/neo/rest/v1/neo/2089136?api_key=SFfbR9H7eeFNQFalySXQd3bHmhSC5GXHFQs5Ylsk'},\n",
       " 'id': '2089136',\n",
       " 'neo_reference_id': '2089136',\n",
       " 'name': '89136 (2001 US16)',\n",
       " 'nasa_jpl_url': 'http://ssd.jpl.nasa.gov/sbdb.cgi?sstr=2089136',\n",
       " 'absolute_magnitude_h': 20.28,\n",
       " 'estimated_diameter': {'kilometers': {'estimated_diameter_min': 0.233644185,\n",
       "   'estimated_diameter_max': 0.5224442801},\n",
       "  'meters': {'estimated_diameter_min': 233.6441849736,\n",
       "   'estimated_diameter_max': 522.4442801486},\n",
       "  'miles': {'estimated_diameter_min': 0.1451797209,\n",
       "   'estimated_diameter_max': 0.3246317248},\n",
       "  'feet': {'estimated_diameter_min': 766.5491878289,\n",
       "   'estimated_diameter_max': 1714.0560920828}},\n",
       " 'is_potentially_hazardous_asteroid': True,\n",
       " 'close_approach_data': [{'close_approach_date': '2023-04-03',\n",
       "   'close_approach_date_full': '2023-Apr-03 06:18',\n",
       "   'epoch_date_close_approach': 1680502680000,\n",
       "   'relative_velocity': {'kilometers_per_second': '14.0270487342',\n",
       "    'kilometers_per_hour': '50497.375443206',\n",
       "    'miles_per_hour': '31377.1053135854'},\n",
       "   'miss_distance': {'astronomical': '0.3311033313',\n",
       "    'lunar': '128.7991958757',\n",
       "    'kilometers': '49532353.112384331',\n",
       "    'miles': '30777977.0302765278'},\n",
       "   'orbiting_body': 'Earth'}],\n",
       " 'is_sentry_object': False}"
      ]
     },
     "execution_count": 2,
     "metadata": {},
     "output_type": "execute_result"
    }
   ],
   "source": [
    "import requests\n",
    "import datetime\n",
    "\n",
    "url = 'https://api.nasa.gov/neo/rest/v1/feed'\n",
    "api_key = 'SFfbR9H7eeFNQFalySXQd3bHmhSC5GXHFQs5Ylsk'\n",
    "r = requests.get(url, params={'start_date': datetime.date.today(), 'api_key': api_key})\n",
    "r.json()['near_earth_objects'][str(datetime.date.today())][0] # объект, находящийся поблизости от Земли,\n",
    "                                                              # который сблизится с ней сегодня на минимальное расстояние"
   ]
  },
  {
   "cell_type": "markdown",
   "metadata": {},
   "source": [
    "Требуется выявить потенциально опасные астрономические объекты, этому соответствует поле `[is_potentially_hazardous_asteroid]`. Аналогично,\n",
    "* имя — `[name]`\n",
    "* мин. диаметр — `[estimated_diameter]['meters']['estimated_diameter_min']`\n",
    "* макс. диаметр — `[estimated_diameter]['meters']['estimated_diameter_max']`\n",
    "* точная дата сближения (полная) — `['close_approach_data'][0]['close_approach_date_full']`\n",
    "* относительная скорость — `['close_approach_data'][0]['relative_velocity']['kilometers_per_second']`\n",
    "* расстояние промаха — `['close_approach_data'][0]['miss_distance']['kilometers']`\n",
    "\n",
    "Изобразить диагрумму, на которой отобразить для каждого дня максимально близкий опасный объект."
   ]
  },
  {
   "cell_type": "code",
   "execution_count": null,
   "metadata": {},
   "outputs": [],
   "source": [
    "# Ваш код здесь"
   ]
  },
  {
   "cell_type": "markdown",
   "metadata": {},
   "source": [
    "**5. (1 балл)** С веб-страницы https://ru.wikipedia.org/wiki/Python выведите 10 слов длиннее 3 букв, которые встречаются на странице чаще всего, а также количество вхождений этих слов."
   ]
  },
  {
   "cell_type": "code",
   "execution_count": null,
   "metadata": {},
   "outputs": [],
   "source": [
    "# Ваш код здесь"
   ]
  },
  {
   "cell_type": "markdown",
   "metadata": {},
   "source": [
    "**6. (1 балл)** Написать алгоритм, который из новостей на Яндекс.Новости `https://yandex.ru/news` (`https://dzen.ru/news?issue_tld=ru`) показывает только те, издание которых совпадает с введенными пользователем."
   ]
  },
  {
   "cell_type": "code",
   "execution_count": 3,
   "metadata": {},
   "outputs": [],
   "source": [
    "# Ваш код здесь"
   ]
  },
  {
   "cell_type": "markdown",
   "metadata": {},
   "source": [
    "**7. (2 балла)** С сайта авито вывести информацию о всех продаваемых 2-х и 3-х комнатных квартирах в Кирове. Отсортировать результаты (ссылка на объявление, цена квартиры, цена за кв.метр) по возрастанию цены за квадратный метр. Данные сохранить в json-файле, на экран вывести первые 10. Вывести на экран круговую диаграмму соотношения продаваемых 2-х и 3-х комнатных квартир."
   ]
  },
  {
   "cell_type": "code",
   "execution_count": 4,
   "metadata": {},
   "outputs": [],
   "source": [
    "# Ваш код здесь"
   ]
  },
  {
   "cell_type": "markdown",
   "metadata": {},
   "source": [
    "**8. (1 балл)** С сайта https://www.dns-shop.ru вывести отсортированную по цене таблицу с данными о продаваемых ноутбуках введенного пользователем производителя не дороже А рублей (А вводится пользователем). В случае отсутствия такого товара вывести сообщение об этом."
   ]
  },
  {
   "cell_type": "code",
   "execution_count": 6,
   "metadata": {},
   "outputs": [],
   "source": [
    "# Ваш код здесь"
   ]
  },
  {
   "cell_type": "markdown",
   "metadata": {
    "id": "kEYfFLNhpRAe"
   },
   "source": [
    "**9. (2 балла)** Разработать программу с использованием библиотеки BeautifulSoup для сбора данных с сайта `https://shikimori.one/animes`.\n",
    "Необходими пройтись по заданному пользователем числу страниц. Со страницы необходимо взять ссылку (на каждой странице их 20) на релиз (аниме) и оттуда и с основной страницы получить и вывести в json-файл следующую информацию:\n",
    "- Название\n",
    "- Год выхода\n",
    "- Рейтинг (число)\n",
    "- Тип\n",
    "- Жанры\n",
    "- Количество эпизодов \n",
    "- Длительность эпизода\n",
    "- Возрастное ограничение\n",
    "- Ссылка на страницу\n",
    "\n",
    "\n",
    "При отсутствии какой-либо информации, оставлять поле пустым.\n",
    "\n",
    "Добавать прогрес бар процесса парсинга данных."
   ]
  },
  {
   "cell_type": "code",
   "execution_count": 3,
   "metadata": {},
   "outputs": [],
   "source": [
    "# Ваш код здесь"
   ]
  }
 ],
 "metadata": {
  "kernelspec": {
   "display_name": "Python 3 (ipykernel)",
   "language": "python",
   "name": "python3"
  },
  "language_info": {
   "codemirror_mode": {
    "name": "ipython",
    "version": 3
   },
   "file_extension": ".py",
   "mimetype": "text/x-python",
   "name": "python",
   "nbconvert_exporter": "python",
   "pygments_lexer": "ipython3",
   "version": "3.11.3"
  }
 },
 "nbformat": 4,
 "nbformat_minor": 4
}
