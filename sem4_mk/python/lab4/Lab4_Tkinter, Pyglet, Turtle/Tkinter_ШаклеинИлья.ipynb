{
 "cells": [
  {
   "cell_type": "markdown",
   "id": "09db3af4",
   "metadata": {},
   "source": [
    "# TKinter\n",
    "<img src=\"./Tcl-Tk-logo.png\" width=\"250\">\n",
    "\n",
    "\n",
    "Tkinter – это пакет для Python, предназначенный для работы с библиотекой Tk (Toolkit). Библиотека Tk содержит компоненты графического интерфейса пользователя (graphical user interface – GUI). Эта библиотека написана на языке программирования Tcl.\n",
    "\n",
    "Программы с пользовательским интерфейсом создаются следующим образом:\n",
    "\n",
    "- Создаётся главное окно.\n",
    "- Создаются виджеты и выполняется конфигурация их свойств (опций).\n",
    "- Определяются события, то есть то, на что будет реагировать программа.\n",
    "- Описываются обработчики событий, то есть то, как будет реагировать программа.\n",
    "- Запускается цикл обработки событий.\n",
    "\n",
    "В современных операционных системах любое пользовательское приложение заключено в окно, которое можно назвать главным, так как в нем располагаются все остальные виджеты. Объект окна верхнего уровня создается от класса Tk модуля tkinter. Переменную, связываемую с объектом, часто называют `root` (корень).\n",
    "\n",
    "Цикл обработки запускается методом `mainloop`:"
   ]
  },
  {
   "cell_type": "code",
   "execution_count": 11,
   "id": "25201bd4",
   "metadata": {},
   "outputs": [],
   "source": [
    "from tkinter import Tk\n",
    "\n",
    "root = Tk()\n",
    "\n",
    "root.mainloop()"
   ]
  },
  {
   "cell_type": "markdown",
   "id": "4aa1a7f6",
   "metadata": {},
   "source": [
    "Размер окна можно изменить используя метод `geometry`, а название с помощью метода `title`:"
   ]
  },
  {
   "cell_type": "code",
   "execution_count": 12,
   "id": "633d630e",
   "metadata": {},
   "outputs": [],
   "source": [
    "from tkinter import Tk\n",
    "\n",
    "root = Tk()\n",
    "root.title('Окно')\n",
    "root.geometry('250x400')\n",
    "\n",
    "root.mainloop()"
   ]
  },
  {
   "cell_type": "markdown",
   "id": "4f06479c",
   "metadata": {},
   "source": [
    "## Виджеты\n",
    "Под виджетами подразумеваются все те кнопки, текстовые поля для ввода, скроллеры, списки, радиокнопки, флажки и др., которые вы видите на экране, открывая то или иное приложение. Через них вы взаимодействуете с программой и управляете ею. \n",
    "\n",
    "При создании виджета указываются его свойства, а также окно, в котором он будет находится (если оно не указано, то он будет добавлен в главное окно). "
   ]
  },
  {
   "cell_type": "code",
   "execution_count": null,
   "id": "d87d93fe",
   "metadata": {},
   "outputs": [],
   "source": [
    "button = Button(text='Кнопка')\n",
    "text_label = Label(text='Текст')\n",
    "text_input = Entry()"
   ]
  },
  {
   "cell_type": "markdown",
   "id": "670f9771",
   "metadata": {},
   "source": [
    "### Методы grid, pack и place\n",
    "Данные методы позволяют указать позицию виджетов в окне, к которому они привязаны.\n",
    "\n",
    "В Tkinter существует три так называемых менеджера геометрии – упаковщик, сетка и размещение по координатам.\n",
    "\n",
    "Упаковщик (packer) вызывается методом `pack`, который имеется у всех виджетов-объектов. Если к элементу интерфейса не применить какой-либо из менеджеров геометрии, то он не отобразится в окне. При этом в одном окне (или любом другом родительском виджете) нельзя комбинировать разные менеджеры. \n",
    "\n",
    "У метода `pack` есть параметр `side` (сторона), который принимает одно из четырех значений-констант – `TOP`, `BOTTOM`, `LEFT`, `RIGHT` (верх, низ, лево, право). По умолчанию, когда в `pack` не указывается `side`, его значение равняется `TOP`. Из-за этого виджеты располагаются вертикально.\n",
    "\n",
    "Часто используется вместе с вспомогательным виджетом `Frame`.\n",
    "\n",
    "С помощью метода `grid` можно расставлять виджеты в окне как в таблице, используя номера столбцов и строк.\n",
    "Также можно указать вертикальную и горизонтальную протяжённость виджета (`rowspan` и `columnspan`).\n",
    "\n",
    "<img src=\"./grid.png\">\n",
    "\n",
    "Методом `place` виджету указывается его положение либо в абсолютных значениях (в пикселях), либо в долях родительского окна, то есть относительно. Также абсолютно и относительно можно задавать размер самого виджета.\n",
    "\n",
    "Основными параметрами `place` являются:\n",
    "\n",
    "+ **anchor** (якорь) – определяет часть виджета, для которой задаются координаты. Принимает значения `N`, `NE`, `E`, `SE`, `SW`, `W`, `NW` или `CENTER`. По умолчанию `NW` (верхний левый угол).\n",
    "\n",
    "+ **relwidth**, **relheight** (относительные ширина и высота) – определяют размер виджета в долях его родителя.\n",
    "\n",
    "+ **relx**, **rely** – определяют относительную позицию в родительском виджете. Координата (0; 0) – у левого верхнего угла, (1; 1) – у правого нижнего.\n",
    "\n",
    "+ **width**, **height** – абсолютный размер виджета в пикселях. Значения по умолчанию (когда данные опции опущены) приравниваются к естественному размеру виджета, то есть к тому, который определяется при его создании и конфигурировании.\n",
    "\n",
    "+ **x**, **y** – абсолютная позиция в пикселях. Значения по умолчанию приравниваются к нулю."
   ]
  },
  {
   "cell_type": "code",
   "execution_count": 63,
   "id": "cbaf8bf8",
   "metadata": {
    "scrolled": true
   },
   "outputs": [],
   "source": [
    "from tkinter import Tk, Button, Label, Entry\n",
    "\n",
    "root = Tk()\n",
    "root.title('Виджеты')\n",
    "\n",
    "button = Button(text='Кнопка')\n",
    "text = Label(text='Текст')\n",
    "text_input = Entry()\n",
    "\n",
    "button.grid(row=0, column=0, columnspan=2)\n",
    "text.grid(row=2, column=0, rowspan=2)\n",
    "text_input.grid(row=1, column=1)\n",
    "\n",
    "root.mainloop()"
   ]
  },
  {
   "cell_type": "markdown",
   "id": "1a5efda5",
   "metadata": {},
   "source": [
    "## Обработка событий\n",
    "\n",
    "Программы с графическим интерфейсом пользователя событийно-ориентированные. То есть та или иная часть программного кода начинает выполняться лишь тогда, когда случается то или иное событие.\n",
    "\n",
    "Событийно-ориентированное программирование базируется на объектно-ориентированном и структурном. Даже если мы не создаем собственных классов и объектов, то все-равно ими пользуемся. Все виджеты – объекты, порожденные встроенными классами.\n",
    "\n",
    "События бывают разными. Сработал временной фактор, пользователь кликнул мышкой или нажал Enter, начал вводить текст, переключил радиокнопки, прокрутил страницу вниз и т. д. Когда случается что-то подобное, то, если был создан соответствующий обработчик, происходит срабатывание определенной части программы, что приводит к какому-либо результату.\n",
    "\n",
    "Часто используемые события, производимые мышью:\n",
    "\n",
    "+ \\<Button-1\\> – клик левой кнопкой мыши\n",
    "\n",
    "+ \\<Button-2\\> – клик средней кнопкой мыши\n",
    "\n",
    "+ \\<Button-3\\> – клик правой кнопкой мыши\n",
    "\n",
    "+ \\<Double-Button-1\\> – двойной клик левой кнопкой мыши\n",
    "\n",
    "+ \\<Motion\\> – движение мыши\n",
    "\n",
    "Метод `bind` позволяет связать функцию, виджет и событие - когда происходит указанное событие, виджет выполняет данную функцию.\n",
    "\n",
    "Также при создании некоторых виджетов можно указать аргумент `command` - функцию, выполняющую обработку события.\n"
   ]
  },
  {
   "cell_type": "code",
   "execution_count": 9,
   "id": "7054cd2d",
   "metadata": {},
   "outputs": [],
   "source": [
    "from tkinter import Tk, Button, Entry, Label\n",
    "\n",
    "class Clicker():\n",
    "    def __init__(self, value=0):\n",
    "        self.value = value\n",
    "        self.b = Button(text=str(value))\n",
    "        self.b.bind('<Button-1>', self.click)\n",
    "        self.b.pack()\n",
    "        \n",
    "    def click(self, event):\n",
    "        self.value += 1\n",
    "        self.b['text'] = str(self.value)\n",
    "\n",
    "class Printer():\n",
    "    def __init__(self):\n",
    "        self.l = Label()\n",
    "        self.e = Entry()\n",
    "        self.b = Button(text='Изменить текст', command=self.click)\n",
    "        self.l.pack()\n",
    "        self.e.pack()\n",
    "        self.b.pack()\n",
    "        \n",
    "    def click(self):\n",
    "        s = self.e.get()\n",
    "        self.l['text'] = s\n",
    "        \n",
    "root = Tk()\n",
    "root.title('bind')\n",
    "root.geometry('200x100')\n",
    "\n",
    "Clicker()\n",
    "Printer()\n",
    "\n",
    "root.mainloop()"
   ]
  },
  {
   "cell_type": "markdown",
   "id": "4894810c",
   "metadata": {},
   "source": [
    "### Виджет Radiobutton\n",
    "\n",
    "Радиокнопки - кнопки, позволяющие выбрать ровно одну из нескольких опций.\n",
    "\n",
    "В библиотеке Tkinter связь между ними устанавливается через общую переменную, разные значения которой соответствуют включению разных радиокнопок группы. У всех кнопок одной группы свойство `variable` устанавливается в одно и то же значение – связанную с группой переменную. А свойству `value` присваиваются разные значения этой переменной.\n",
    "\n",
    "В Tkinter нельзя использовать любую переменную для хранения состояний виджетов. Для этих целей предусмотрены специальные классы-переменные – `BooleanVar`, `IntVar`, `DoubleVar`, `StringVar`."
   ]
  },
  {
   "cell_type": "code",
   "execution_count": 56,
   "id": "9dc26f97",
   "metadata": {},
   "outputs": [],
   "source": [
    "from tkinter import Tk, Radiobutton\n",
    "\n",
    "root = Tk()\n",
    "root.title('Radiobutton')\n",
    "root.geometry('250x100')\n",
    "\n",
    "r_var = IntVar()\n",
    "r_var.set(1)\n",
    "\n",
    "r1 = Radiobutton(text='Первая', variable=r_var, value=1)\n",
    "r2 = Radiobutton(text='Вторая', variable=r_var, value=2)\n",
    "r3 = Radiobutton(text='Третья', variable=r_var, value=3)\n",
    "\n",
    "r1.pack()\n",
    "r2.pack()\n",
    "r3.pack()\n",
    "\n",
    "root.mainloop()"
   ]
  },
  {
   "cell_type": "markdown",
   "id": "b49e02bb",
   "metadata": {},
   "source": [
    "### Виджет Checkbutton\n",
    "\n",
    "Checkbutton (флажок) схож с Radiobutton, но главным отличием является возможность выбора ни одной или нескольких опций.\n",
    "\n",
    "У каждого флажка должна быть своя переменная Tkinter. Иначе при включении одного флажка, другой будет выключаться, так как значение общей tkinter-переменной изменится и не будет равно значению опции onvalue первого флажка."
   ]
  },
  {
   "cell_type": "code",
   "execution_count": 55,
   "id": "63ba466f",
   "metadata": {},
   "outputs": [],
   "source": [
    "from tkinter import Tk, Checkbutton, Button, Frame\n",
    "\n",
    "class CheckButton:\n",
    "    def __init__(self, master, title):\n",
    "        self.var = BooleanVar()\n",
    "        self.var.set(0)\n",
    "        self.title = title\n",
    "        self.cb = Checkbutton(\n",
    "            master, text=title, variable=self.var,\n",
    "            onvalue=1, offvalue=0)\n",
    "        self.cb.pack(side=LEFT)\n",
    "\n",
    "def ch_on():\n",
    "    for ch in checks:\n",
    "        ch.cb.select()\n",
    "\n",
    "def ch_off():\n",
    "    for ch in checks:\n",
    "        ch.cb.deselect()\n",
    "\n",
    "root = Tk()\n",
    "root.title('Checkbutton')\n",
    "root.geometry('500x100')\n",
    "\n",
    "f1 = Frame()\n",
    "f1.pack(padx=10, pady=10)\n",
    "checks = []\n",
    "\n",
    "for i in range(10):\n",
    "    checks.append(CheckButton(f1, i))\n",
    "\n",
    "f2 = Frame()\n",
    "f2.pack()\n",
    "\n",
    "button_on = Button(f2, text=\"Все ВКЛ\", command=ch_on)\n",
    "button_on.pack(side=LEFT)\n",
    "\n",
    "button_off = Button(f2, text=\"Все ВЫКЛ\", command=ch_off)\n",
    "button_off.pack(side=LEFT)\n",
    " \n",
    "root.mainloop()"
   ]
  },
  {
   "cell_type": "markdown",
   "id": "c1bcbe19",
   "metadata": {},
   "source": [
    "### Виджет Canvas\n",
    "\n",
    "Canvas (холст) позволяет \"рисовать\", размещая на нём различные графические объекты.\n",
    "При создании холста указываются его ширина, высота и цвет фона.\n",
    "\n",
    "В Tkinter существует два способа \"пометить\" фигуры, размещенные на холсте, – это идентификаторы и теги. Первые всегда уникальны для каждого объекта. Два объекта не могут иметь одни и тот же идентификатор. Теги не уникальны. Группа объектов на холсте может иметь один и тот же тег, что дает возможность менять свойства всей группы. Отдельно взятая фигура на Canvas может иметь как идентификатор, так и тег.\n",
    "\n",
    "При помощи метода PhotoImage можно поместить на холсте заранее созданные изображения."
   ]
  },
  {
   "cell_type": "code",
   "execution_count": 39,
   "id": "db917bb2",
   "metadata": {},
   "outputs": [],
   "source": [
    "from tkinter import Tk, Canvas, PhotoImage\n",
    "\n",
    "root = Tk()\n",
    "root.title('Окно')\n",
    "root.geometry('800x600')\n",
    "\n",
    "canvas = Canvas(width = 640, height = 480, bg = 'white')\n",
    "canvas.pack()\n",
    "canvas.focus_set()\n",
    "\n",
    "# Прямые линии\n",
    "canvas.create_line(10, 10, 500, 10, fill='red')\n",
    "canvas.create_line(10, 10, 10, 300, fill='blue')\n",
    "canvas.create_line(200, 400, 500, 450, fill='green')\n",
    "\n",
    "# Изображение\n",
    "img = PhotoImage(file='./grid.png')\n",
    "canvas.create_image(20, 20, anchor='nw', image=img)\n",
    "\n",
    "# Прямоугольник\n",
    "canvas.create_rectangle(50, 50, 190, 100, fill='red')\n",
    "\n",
    "# Двигающийся круг, управляемый стрелками клавиатуры\n",
    "ball = canvas.create_oval(140, 140, 160, 160, fill='red')\n",
    "\n",
    "canvas.bind('<Up>',    lambda event: canvas.move(ball, 0, -5))\n",
    "canvas.bind('<Down>',  lambda event: canvas.move(ball, 0, 5))\n",
    "canvas.bind('<Left>',  lambda event: canvas.move(ball, -5, 0))\n",
    "canvas.bind('<Right>', lambda event: canvas.move(ball, 2, 0))\n",
    "\n",
    "root.mainloop()"
   ]
  },
  {
   "cell_type": "markdown",
   "id": "8b4dea9c",
   "metadata": {},
   "source": [
    "Когда создавался круг, его идентификатор был присвоен переменной `ball`. Метод `move` объекта Canvas принимает идентификатор и смещение по осям.\n",
    "\n",
    "С помощью метода `itemconfig` можно изменять другие свойства. Метод `coords` устанавливает новые координаты фигуры, если они заданы. Если указывается только идентификатор или тег, то coords возвращает текущие координаты."
   ]
  },
  {
   "cell_type": "code",
   "execution_count": 64,
   "id": "64bb3076",
   "metadata": {},
   "outputs": [],
   "source": [
    "from tkinter import Canvas\n",
    "\n",
    "root = Tk()\n",
    "\n",
    "c = Canvas(width=200, height=200, bg='white')\n",
    "c.pack()\n",
    "\n",
    "rect = c.create_rectangle(\n",
    "    80, 80, 120, 120, fill='lightgreen')\n",
    "\n",
    "def click(event):\n",
    "    c.itemconfig(rect, fill='green', width=2)\n",
    "    c.coords(rect, 70, 70, 130, 130)\n",
    "\n",
    "c.bind('<Button-1>', click)\n",
    "\n",
    "root.mainloop()"
   ]
  },
  {
   "cell_type": "markdown",
   "id": "2a4da1fa",
   "metadata": {},
   "source": [
    "## Библиотека CustomTkinter\n",
    "#### https://github.com/TomSchimansky/CustomTkinter\n",
    "\n",
    "CustomTkinter — это библиотека пользовательского интерфейса Python, основанная на Tkinter, которая предоставляет новые, современные и полностью настраиваемые виджеты. Они создаются и используются аналогично обычным виджетам Tkinter, а также могут использоваться в сочетании с ними. Цвета виджетов и окон адаптируются либо к внешнему виду системы, либо к заданной вручную теме (светлая, тёмная), а все виджеты и окна CustomTkinter поддерживают масштабирование HighDPI (Windows, macOS).\n",
    "\n",
    "<img src=\"./complex_example_dark_Windows.png\">"
   ]
  },
  {
   "cell_type": "code",
   "execution_count": null,
   "id": "616ac9f9",
   "metadata": {},
   "outputs": [],
   "source": []
  }
 ],
 "metadata": {
  "kernelspec": {
   "display_name": "Python 3 (ipykernel)",
   "language": "python",
   "name": "python3"
  },
  "language_info": {
   "codemirror_mode": {
    "name": "ipython",
    "version": 3
   },
   "file_extension": ".py",
   "mimetype": "text/x-python",
   "name": "python",
   "nbconvert_exporter": "python",
   "pygments_lexer": "ipython3",
   "version": "3.11.3"
  }
 },
 "nbformat": 4,
 "nbformat_minor": 5
}
