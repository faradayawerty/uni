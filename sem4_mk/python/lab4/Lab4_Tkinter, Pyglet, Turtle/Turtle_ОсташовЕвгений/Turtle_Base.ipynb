{
 "cells": [
  {
   "cell_type": "markdown",
   "id": "6ba38122",
   "metadata": {},
   "source": [
    "# Библиотека Turtle\n",
    "\n",
    "**Документация**: https://docs.python.org/3/library/turtle.html\n",
    "\n",
    "**Turtle** - принцип организации библиотеки графического вывода, построенный на метафоре Черепахи, воображаемого роботоподобного устройства, которое перемещается по экрану и поворачивается в заданных направлениях, при этом оставляя за собой нарисованный след.\n",
    "Черепашья графика используется не только в Python и изначально появилась в языке программирования Logo в 1966 году. Входит в стандартный пакет библиотек Python."
   ]
  },
  {
   "cell_type": "markdown",
   "id": "99d288f4",
   "metadata": {},
   "source": [
    "## Некоторые методы\n",
    "\n",
    "### Параметры холста:\n",
    "\n",
    "**.dgcolor()** - устанавливает/возвращает цвет фона холста;\n",
    "\n",
    "**.bgpic()** - устанавливает/возвращает фоновое изображение холста;\n",
    "\n",
    "**.screensize()** - устанавливает/возвращает размер холста;\n",
    "\n",
    "**.reset()** - возвращает все перья на холсте в исходное состояние;\n",
    "\n",
    "**.clear()** - очищает холст;\n",
    "\n",
    "**.update()** - обновляет содержимое экрана;\n",
    "\n",
    "### Параметры пера:\n",
    "\n",
    "**.shape([style])** - изменение внешнего вида пера;\n",
    "\n",
    "**Некоторые виды пера:**\n",
    "\n",
    "* turtle\n",
    "* arrow\n",
    "* circle\n",
    "* square\n",
    "* triangle\n",
    "* classic\n",
    "\n",
    "**.shapesize(m, n)** - изменение размеров пера;\n",
    "\n",
    "**.hideturtle()** - скрыть перо;\n",
    "\n",
    "**.showturtle()** - показать перо;\n",
    "\n",
    "**.setheading(angle)** - задать угол **angle** относительно начального положения пера;\n",
    "\n",
    "**.setx()** - задать координату **x**;\n",
    "\n",
    "**.sety()** - задать координату **y**;\n",
    "\n",
    "**.penup()** - поднять перо;\n",
    "\n",
    "**.pendown()** - опустить перо;\n",
    "\n",
    "**width(n)** - установить ширину следа в **n** пиклелей;\n",
    "\n",
    "**.color(s, a)** - установить цвет следа **s** и цвет заливки **a**;\n",
    "\n",
    "**.speed(n)** - изменение скорости перемещения;\n",
    "\n",
    "**.tracer(f)** - включение или отключение трассировки (анимации), принимает значения **1** или **0**, значения > 1 влияют на скорость отрисовки анимации: если указать значение **5**, будет анимирована отрисовка каждого пятого пикселя;\n",
    "\n",
    "### Перемещение:\n",
    "\n",
    "Для перемещения пера в заданные координаты есть несколько функций:\n",
    "\n",
    "* **.setposition(x, y)**\n",
    "* **.goto(x, y)**\n",
    "\n",
    "**.home()** - переместить перо на координаты **(0, 0)**;\n",
    "\n",
    "**.forward(n)** - идти вперед на **n** шагов (пикселей);\n",
    "\n",
    "**.backward(n)** - идти назад на **n** шагов (пикселей);\n",
    "\n",
    "**.left(angle)** - поворот налево на **angle** градусов;\n",
    "\n",
    "**.right(angle)** - поворот направо на **angle** градусов;\n",
    "\n",
    "**.xcor()** - возвращает координату **x**;\n",
    "\n",
    "**.ycor()** - возвращает координату **y**;\n",
    "\n",
    "**.heading()** - возвращает угол;\n",
    "\n",
    "**.radians()** - установка меры измерения углов в радианах;\n",
    "\n",
    "**.degrees()** - установка меры измерения углов в градусах;\n",
    "\n",
    "### Геометрические фигуры:\n",
    "\n",
    "**.circle(r)** - рисует окружность радиусом **r**;\n",
    "\n",
    "**circle(r, angle)** - рисует дугу радиуса **r** и градусной мерой **angle**;\n",
    "\n",
    "**.dot([size], [color])** - рисует точку в текущей позиции;\n",
    "\n",
    "### Заливка:\n",
    "\n",
    "**.begin_fill()** - включение режима заливки;\n",
    "\n",
    "**.end_fill()** - выключение режима заливки;\n",
    "\n",
    "**.fillcolor()** - изменение цвета заливки, черный по умолчанию;\n",
    "\n",
    "### Обработка событий:\n",
    "\n",
    "**screen.listen()** - включение прослушивания холста;\n",
    "\n",
    "**.onkeyrelease([function], [key])** - метод связывает функцию с событием отпускания клавиши;\n",
    "\n",
    "**.onkeypress([function], [key])** - метод связывает функцию с событием нажатия клавиши;\n",
    "\n",
    "**.onclick([function], [btn=1])** - связывает функцию с событием нажатия кнопки мыши; если btn=1, то левая;\n",
    "\n",
    "### Завершение работы программы:\n",
    "\n",
    "Для корректного завершения работы программы есть следующие методы:\n",
    "\n",
    "* **turtle.exitonclick()** - завершение работы программы по клику;\n",
    "* **turtle.mainloop()** - предотвращает закрытие окна после завершения работы программы;\n",
    "* **turtle.done()** - завершение работы с пером;"
   ]
  },
  {
   "cell_type": "markdown",
   "id": "92769c58",
   "metadata": {},
   "source": [
    "## Начало работы с Turtle\n",
    "\n",
    "### 1) Подключение библиотеки"
   ]
  },
  {
   "cell_type": "code",
   "execution_count": 1,
   "id": "bef18bd3",
   "metadata": {},
   "outputs": [],
   "source": [
    "import turtle"
   ]
  },
  {
   "cell_type": "markdown",
   "id": "b83c8f46",
   "metadata": {},
   "source": [
    "### 2) Создание холста\n",
    "\n",
    "Для начала создадим объект класса **Screen** - сам холст, после этого обязательно вызываем функцию **.mainloop()**, иначе программа будет завершена некорректно:"
   ]
  },
  {
   "cell_type": "code",
   "execution_count": 2,
   "id": "bf8ceef8",
   "metadata": {},
   "outputs": [],
   "source": [
    "screen = turtle.Screen()\n",
    "turtle.mainloop()"
   ]
  },
  {
   "cell_type": "markdown",
   "id": "6782220b",
   "metadata": {},
   "source": [
    "Также программу можно закрыть по клику:"
   ]
  },
  {
   "cell_type": "code",
   "execution_count": 3,
   "id": "d5c4a562",
   "metadata": {},
   "outputs": [],
   "source": [
    "screen = turtle.Screen()\n",
    "turtle.exitonclick()"
   ]
  },
  {
   "cell_type": "markdown",
   "id": "555f59d6",
   "metadata": {},
   "source": [
    "### 3) Задание параметров холста"
   ]
  },
  {
   "cell_type": "markdown",
   "id": "d7910d08",
   "metadata": {},
   "source": [
    "Теперь мы можем изменять параметры этого объекта.\n",
    "\n",
    "### Изменение фона:\n",
    "\n",
    "Для изменения цвета холста воспользуемся методом **.bgcolor()**:"
   ]
  },
  {
   "cell_type": "code",
   "execution_count": 5,
   "id": "4f198624",
   "metadata": {},
   "outputs": [],
   "source": [
    "screen = turtle.Screen()\n",
    "screen.bgcolor('red')\n",
    "turtle.mainloop()"
   ]
  },
  {
   "cell_type": "markdown",
   "id": "3cd38a43",
   "metadata": {},
   "source": [
    "Метод **.bgcolor()** в качестве аргумента может принимать не только название цвета, но и его представление в HEX:"
   ]
  },
  {
   "cell_type": "code",
   "execution_count": 6,
   "id": "a2e9a74a",
   "metadata": {},
   "outputs": [],
   "source": [
    "screen = turtle.Screen()\n",
    "screen.bgcolor('#123456')\n",
    "turtle.exitonclick()"
   ]
  },
  {
   "cell_type": "markdown",
   "id": "f60e6341",
   "metadata": {},
   "source": [
    "В качестве фона также можно использовать изображения. Для этого воспользуемся методом **.bgpic()**:"
   ]
  },
  {
   "cell_type": "code",
   "execution_count": 7,
   "id": "7378feca",
   "metadata": {},
   "outputs": [],
   "source": [
    "screen = turtle.Screen()\n",
    "screen.bgpic('gif.gif')\n",
    "turtle.exitonclick()"
   ]
  },
  {
   "cell_type": "markdown",
   "id": "0e0a14a1",
   "metadata": {},
   "source": [
    "**.bgcolor()** и **.bgpic** можно использовать одновременно. В качестве аргумента метод **.bgpic** принимает только изображения формата **gif**. Если аргумент равен **nopic**, то метод удаляет текущее изображение:"
   ]
  },
  {
   "cell_type": "code",
   "execution_count": 9,
   "id": "a399497d",
   "metadata": {},
   "outputs": [],
   "source": [
    "screen = turtle.Screen()\n",
    "screen.bgcolor('blue')\n",
    "screen.bgpic('gif.gif')\n",
    "screen.bgpic('nopic')\n",
    "turtle.exitonclick()"
   ]
  },
  {
   "cell_type": "markdown",
   "id": "f1b35afd",
   "metadata": {},
   "source": [
    "Если в качестве аргумента написать **None**, то вернет имя файла текущего фонового изображения:"
   ]
  },
  {
   "cell_type": "code",
   "execution_count": 10,
   "id": "c7962aaa",
   "metadata": {},
   "outputs": [
    {
     "name": "stdout",
     "output_type": "stream",
     "text": [
      "gif.gif\n"
     ]
    }
   ],
   "source": [
    "screen = turtle.Screen()\n",
    "screen.bgcolor('blue')\n",
    "screen.bgpic('gif.gif')\n",
    "print(screen.bgpic(None))\n",
    "turtle.exitonclick()"
   ]
  },
  {
   "cell_type": "markdown",
   "id": "5a786dc8",
   "metadata": {},
   "source": [
    "### Изменение размеров холста и окна:\n",
    "\n",
    "Изменим размеры холста, используя метод **.screensize()**:"
   ]
  },
  {
   "cell_type": "code",
   "execution_count": 6,
   "id": "c1d60357",
   "metadata": {},
   "outputs": [],
   "source": [
    "screen = turtle.Screen()\n",
    "screen.screensize(10000, 10000)\n",
    "turtle.mainloop()"
   ]
  },
  {
   "cell_type": "markdown",
   "id": "094f13e7",
   "metadata": {},
   "source": [
    "Метод **.screensize()** не изменяет окно, а добавляет полосы прокрутки, таким образом можно сделать видимыми те части рисунка, которые раньше находились за пределами холста. Если мы укажем размеры меньше изначальных, полосы прокрутки пропадут:"
   ]
  },
  {
   "cell_type": "code",
   "execution_count": 3,
   "id": "45bcffea",
   "metadata": {},
   "outputs": [],
   "source": [
    "screen = turtle.Screen()\n",
    "screen.screensize(0, 0)\n",
    "turtle.mainloop()"
   ]
  },
  {
   "cell_type": "markdown",
   "id": "8eb7d60a",
   "metadata": {},
   "source": [
    "Для изменения размера самого окна воспользуемся методом **.setup**:"
   ]
  },
  {
   "cell_type": "code",
   "execution_count": 11,
   "id": "9aeb56f3",
   "metadata": {},
   "outputs": [],
   "source": [
    "screen = turtle.Screen()\n",
    "screen.setup(400, 400)\n",
    "turtle.exitonclick()"
   ]
  },
  {
   "cell_type": "markdown",
   "id": "bfdf150f",
   "metadata": {},
   "source": [
    "### Очистка холста\n",
    "\n",
    "Для очистки холста можно использовать метод **.clear()**:"
   ]
  },
  {
   "cell_type": "code",
   "execution_count": 13,
   "id": "2dac424c",
   "metadata": {},
   "outputs": [],
   "source": [
    "screen = turtle.Screen()\n",
    "screen.bgcolor('red')\n",
    "screen.clear()\n",
    "turtle.exitonclick()"
   ]
  },
  {
   "cell_type": "markdown",
   "id": "dbfd444c",
   "metadata": {},
   "source": [
    "### 4) Создание объекта-исполнителя\n",
    "\n",
    "Теперь создадим объект-исполнитель (перо) класса **Turtle**:"
   ]
  },
  {
   "cell_type": "markdown",
   "id": "65b65fec",
   "metadata": {},
   "source": [
    "#### Создание пера"
   ]
  },
  {
   "cell_type": "code",
   "execution_count": 23,
   "id": "b523e694",
   "metadata": {},
   "outputs": [
    {
     "ename": "Terminator",
     "evalue": "",
     "output_type": "error",
     "traceback": [
      "\u001b[1;31m---------------------------------------------------------------------------\u001b[0m",
      "\u001b[1;31mTerminator\u001b[0m                                Traceback (most recent call last)",
      "Cell \u001b[1;32mIn[23], line 6\u001b[0m\n\u001b[0;32m      3\u001b[0m t \u001b[38;5;241m=\u001b[39m turtle\u001b[38;5;241m.\u001b[39mTurtle()\n\u001b[0;32m      5\u001b[0m turtle\u001b[38;5;241m.\u001b[39mexitonclick()\n\u001b[1;32m----> 6\u001b[0m \u001b[43mturtle\u001b[49m\u001b[38;5;241;43m.\u001b[39;49m\u001b[43mdone\u001b[49m\u001b[43m(\u001b[49m\u001b[43m)\u001b[49m\n",
      "File \u001b[1;32m<string>:5\u001b[0m, in \u001b[0;36mmainloop\u001b[1;34m()\u001b[0m\n",
      "\u001b[1;31mTerminator\u001b[0m: "
     ]
    }
   ],
   "source": [
    "screen = turtle.Screen()\n",
    "\n",
    "t = turtle.Turtle()\n",
    "\n",
    "turtle.exitonclick()\n",
    "turtle.done()"
   ]
  },
  {
   "cell_type": "markdown",
   "id": "bc21bc0b",
   "metadata": {},
   "source": [
    "#### Создание пера с указанием стиля"
   ]
  },
  {
   "cell_type": "code",
   "execution_count": 24,
   "id": "949f8b8e",
   "metadata": {},
   "outputs": [
    {
     "ename": "Terminator",
     "evalue": "",
     "output_type": "error",
     "traceback": [
      "\u001b[1;31m---------------------------------------------------------------------------\u001b[0m",
      "\u001b[1;31mTerminator\u001b[0m                                Traceback (most recent call last)",
      "Cell \u001b[1;32mIn[24], line 6\u001b[0m\n\u001b[0;32m      3\u001b[0m t \u001b[38;5;241m=\u001b[39m turtle\u001b[38;5;241m.\u001b[39mTurtle(\u001b[38;5;124m'\u001b[39m\u001b[38;5;124mturtle\u001b[39m\u001b[38;5;124m'\u001b[39m)\n\u001b[0;32m      5\u001b[0m turtle\u001b[38;5;241m.\u001b[39mexitonclick()\n\u001b[1;32m----> 6\u001b[0m \u001b[43mturtle\u001b[49m\u001b[38;5;241;43m.\u001b[39;49m\u001b[43mdone\u001b[49m\u001b[43m(\u001b[49m\u001b[43m)\u001b[49m\n",
      "File \u001b[1;32m<string>:5\u001b[0m, in \u001b[0;36mmainloop\u001b[1;34m()\u001b[0m\n",
      "\u001b[1;31mTerminator\u001b[0m: "
     ]
    }
   ],
   "source": [
    "screen = turtle.Screen()\n",
    "\n",
    "t = turtle.Turtle('turtle')\n",
    "\n",
    "turtle.exitonclick()\n",
    "turtle.done()"
   ]
  },
  {
   "cell_type": "markdown",
   "id": "7f2cb8c1",
   "metadata": {},
   "source": [
    "При создании пера в качестве аргумента указывается его стиль, в данном случае - **turtle**. Для корректного завершения работы программ, в которых задействовано перо, необходимо обращаться к методу **turtle.done()**.\n",
    "\n",
    "Стили пера можно изменять с помощью метода **.shape()**, вот некоторые из них:\n",
    "\n",
    "* square\n",
    "* sircle\n",
    "* triangle\n",
    "* arrow\n",
    "* classic"
   ]
  },
  {
   "cell_type": "markdown",
   "id": "bf9b4432",
   "metadata": {},
   "source": [
    "#### Изменение стиля с помощью метода turtle.shape()"
   ]
  },
  {
   "cell_type": "code",
   "execution_count": 2,
   "id": "bd080482",
   "metadata": {},
   "outputs": [
    {
     "ename": "Terminator",
     "evalue": "",
     "output_type": "error",
     "traceback": [
      "\u001b[1;31m---------------------------------------------------------------------------\u001b[0m",
      "\u001b[1;31mTerminator\u001b[0m                                Traceback (most recent call last)",
      "Cell \u001b[1;32mIn[2], line 7\u001b[0m\n\u001b[0;32m      4\u001b[0m t\u001b[38;5;241m.\u001b[39mshape(\u001b[38;5;124m'\u001b[39m\u001b[38;5;124mcircle\u001b[39m\u001b[38;5;124m'\u001b[39m)\n\u001b[0;32m      6\u001b[0m turtle\u001b[38;5;241m.\u001b[39mexitonclick()\n\u001b[1;32m----> 7\u001b[0m \u001b[43mturtle\u001b[49m\u001b[38;5;241;43m.\u001b[39;49m\u001b[43mdone\u001b[49m\u001b[43m(\u001b[49m\u001b[43m)\u001b[49m\n",
      "File \u001b[1;32m<string>:5\u001b[0m, in \u001b[0;36mmainloop\u001b[1;34m()\u001b[0m\n",
      "\u001b[1;31mTerminator\u001b[0m: "
     ]
    }
   ],
   "source": [
    "screen = turtle.Screen()\n",
    "\n",
    "t = turtle.Turtle()\n",
    "t.shape('circle')\n",
    "\n",
    "turtle.exitonclick()\n",
    "turtle.done()"
   ]
  },
  {
   "cell_type": "markdown",
   "id": "8eff51e2",
   "metadata": {},
   "source": [
    "### 5) Задание параметров пера\n",
    "\n",
    "Помимо стиля пера можно изменять его размеры, для этого воспользуемся методом **.shapesize()**:"
   ]
  },
  {
   "cell_type": "code",
   "execution_count": 6,
   "id": "1ff6bcee",
   "metadata": {},
   "outputs": [
    {
     "ename": "Terminator",
     "evalue": "",
     "output_type": "error",
     "traceback": [
      "\u001b[1;31m---------------------------------------------------------------------------\u001b[0m",
      "\u001b[1;31mTerminator\u001b[0m                                Traceback (most recent call last)",
      "Cell \u001b[1;32mIn[6], line 7\u001b[0m\n\u001b[0;32m      4\u001b[0m t\u001b[38;5;241m.\u001b[39mshapesize(\u001b[38;5;241m10\u001b[39m) \u001b[38;5;66;03m# изменение размера пера\u001b[39;00m\n\u001b[0;32m      6\u001b[0m turtle\u001b[38;5;241m.\u001b[39mexitonclick()\n\u001b[1;32m----> 7\u001b[0m \u001b[43mturtle\u001b[49m\u001b[38;5;241;43m.\u001b[39;49m\u001b[43mdone\u001b[49m\u001b[43m(\u001b[49m\u001b[43m)\u001b[49m\n",
      "File \u001b[1;32m<string>:5\u001b[0m, in \u001b[0;36mmainloop\u001b[1;34m()\u001b[0m\n",
      "\u001b[1;31mTerminator\u001b[0m: "
     ]
    }
   ],
   "source": [
    "screen = turtle.Screen()\n",
    "\n",
    "t = turtle.Turtle('turtle')\n",
    "t.shapesize(10) # изменение размера пера\n",
    "\n",
    "turtle.exitonclick()\n",
    "turtle.done()"
   ]
  },
  {
   "cell_type": "markdown",
   "id": "8bb3051a",
   "metadata": {},
   "source": [
    "С помощью метода **.color()** можно изменить цвет пера, в качестве аргумента также можно использовать HEX:"
   ]
  },
  {
   "cell_type": "markdown",
   "id": "941848d3",
   "metadata": {},
   "source": [
    "#### Создание нескольких перьев"
   ]
  },
  {
   "cell_type": "code",
   "execution_count": 4,
   "id": "1151dcce",
   "metadata": {},
   "outputs": [
    {
     "ename": "Terminator",
     "evalue": "",
     "output_type": "error",
     "traceback": [
      "\u001b[1;31m---------------------------------------------------------------------------\u001b[0m",
      "\u001b[1;31mTerminator\u001b[0m                                Traceback (most recent call last)",
      "Cell \u001b[1;32mIn[4], line 12\u001b[0m\n\u001b[0;32m      9\u001b[0m t2\u001b[38;5;241m.\u001b[39mcolor(\u001b[38;5;124m'\u001b[39m\u001b[38;5;124myellow\u001b[39m\u001b[38;5;124m'\u001b[39m) \u001b[38;5;66;03m# задание цвета с помощью его названия\u001b[39;00m\n\u001b[0;32m     11\u001b[0m turtle\u001b[38;5;241m.\u001b[39mexitonclick()\n\u001b[1;32m---> 12\u001b[0m \u001b[43mturtle\u001b[49m\u001b[38;5;241;43m.\u001b[39;49m\u001b[43mdone\u001b[49m\u001b[43m(\u001b[49m\u001b[43m)\u001b[49m\n",
      "File \u001b[1;32m<string>:5\u001b[0m, in \u001b[0;36mmainloop\u001b[1;34m()\u001b[0m\n",
      "\u001b[1;31mTerminator\u001b[0m: "
     ]
    }
   ],
   "source": [
    "screen = turtle.Screen()\n",
    "\n",
    "t1 = turtle.Turtle('turtle')\n",
    "t1.shapesize(10)\n",
    "t1.color('#990909') # задание цвета с помощью таблицы HEX\n",
    "\n",
    "t2 = turtle.Turtle('turtle')\n",
    "t2.shapesize(5)\n",
    "t2.color('yellow') # задание цвета с помощью его названия\n",
    "\n",
    "turtle.exitonclick()\n",
    "turtle.done()"
   ]
  },
  {
   "cell_type": "markdown",
   "id": "8c590418",
   "metadata": {},
   "source": [
    "Другие параметры пера будут описаны при рассмотрении методов перемещения."
   ]
  },
  {
   "cell_type": "markdown",
   "id": "76829eed",
   "metadata": {},
   "source": [
    "### 6) Рисование\n",
    "\n",
    "### Основные методы\n",
    "\n",
    "Рисование осуществляется с помощью четырех основных методов:\n",
    "\n",
    "* **turtle.forward()** или **turtle.backward()** - движение вперед/назад;\n",
    "* **turtle.left()** или **turtle.rigth()** - поворот налево или направо;\n",
    "\n",
    "Построим простую геометрическую фигуру - квадрат, стороны которого окрашены в красный цвет и равны 100:"
   ]
  },
  {
   "cell_type": "code",
   "execution_count": 8,
   "id": "3abf0a37",
   "metadata": {},
   "outputs": [
    {
     "ename": "Terminator",
     "evalue": "",
     "output_type": "error",
     "traceback": [
      "\u001b[1;31m---------------------------------------------------------------------------\u001b[0m",
      "\u001b[1;31mTerminator\u001b[0m                                Traceback (most recent call last)",
      "Cell \u001b[1;32mIn[8], line 15\u001b[0m\n\u001b[0;32m     12\u001b[0m t\u001b[38;5;241m.\u001b[39mforward(\u001b[38;5;241m100\u001b[39m)\n\u001b[0;32m     14\u001b[0m turtle\u001b[38;5;241m.\u001b[39mexitonclick()\n\u001b[1;32m---> 15\u001b[0m \u001b[43mturtle\u001b[49m\u001b[38;5;241;43m.\u001b[39;49m\u001b[43mdone\u001b[49m\u001b[43m(\u001b[49m\u001b[43m)\u001b[49m\n",
      "File \u001b[1;32m<string>:5\u001b[0m, in \u001b[0;36mmainloop\u001b[1;34m()\u001b[0m\n",
      "\u001b[1;31mTerminator\u001b[0m: "
     ]
    }
   ],
   "source": [
    "screen = turtle.Screen()\n",
    "\n",
    "t = turtle.Turtle('turtle')\n",
    "t.color('red')\n",
    "\n",
    "t.forward(100)\n",
    "t.left(90)\n",
    "t.forward(100)\n",
    "t.left(90)\n",
    "t.forward(100)\n",
    "t.left(90)\n",
    "t.forward(100)\n",
    "\n",
    "turtle.exitonclick()\n",
    "turtle.done()"
   ]
  },
  {
   "cell_type": "markdown",
   "id": "254c1af1",
   "metadata": {},
   "source": [
    "Построим тот же квадрат с помощью **for**:"
   ]
  },
  {
   "cell_type": "code",
   "execution_count": 9,
   "id": "3050ddbd",
   "metadata": {},
   "outputs": [
    {
     "ename": "Terminator",
     "evalue": "",
     "output_type": "error",
     "traceback": [
      "\u001b[1;31m---------------------------------------------------------------------------\u001b[0m",
      "\u001b[1;31mTerminator\u001b[0m                                Traceback (most recent call last)",
      "Cell \u001b[1;32mIn[9], line 11\u001b[0m\n\u001b[0;32m      8\u001b[0m     t\u001b[38;5;241m.\u001b[39mleft(\u001b[38;5;241m90\u001b[39m)\n\u001b[0;32m     10\u001b[0m turtle\u001b[38;5;241m.\u001b[39mexitonclick()\n\u001b[1;32m---> 11\u001b[0m \u001b[43mturtle\u001b[49m\u001b[38;5;241;43m.\u001b[39;49m\u001b[43mdone\u001b[49m\u001b[43m(\u001b[49m\u001b[43m)\u001b[49m\n",
      "File \u001b[1;32m<string>:5\u001b[0m, in \u001b[0;36mmainloop\u001b[1;34m()\u001b[0m\n",
      "\u001b[1;31mTerminator\u001b[0m: "
     ]
    }
   ],
   "source": [
    "screen = turtle.Screen()\n",
    "\n",
    "t = turtle.Turtle('turtle')\n",
    "t.color('red')\n",
    "\n",
    "for i in range(4):\n",
    "    t.forward(100)\n",
    "    t.left(90)\n",
    "\n",
    "turtle.exitonclick()\n",
    "turtle.done()"
   ]
  },
  {
   "cell_type": "markdown",
   "id": "d2917037",
   "metadata": {},
   "source": [
    "#### Построение кривых"
   ]
  },
  {
   "cell_type": "code",
   "execution_count": 1,
   "id": "c710321f",
   "metadata": {},
   "outputs": [
    {
     "ename": "TclError",
     "evalue": "invalid command name \".!canvas\"",
     "output_type": "error",
     "traceback": [
      "\u001b[1;31m---------------------------------------------------------------------------\u001b[0m",
      "\u001b[1;31mTclError\u001b[0m                                  Traceback (most recent call last)",
      "Cell \u001b[1;32mIn[1], line 9\u001b[0m\n\u001b[0;32m      7\u001b[0m n \u001b[38;5;241m=\u001b[39m \u001b[38;5;241m1\u001b[39m\n\u001b[0;32m      8\u001b[0m \u001b[38;5;28;01mfor\u001b[39;00m i \u001b[38;5;129;01min\u001b[39;00m \u001b[38;5;28mrange\u001b[39m(\u001b[38;5;241m360\u001b[39m):\n\u001b[1;32m----> 9\u001b[0m     \u001b[43mt\u001b[49m\u001b[38;5;241;43m.\u001b[39;49m\u001b[43mforward\u001b[49m\u001b[43m(\u001b[49m\u001b[43mn\u001b[49m\u001b[43m)\u001b[49m\n\u001b[0;32m     10\u001b[0m     t\u001b[38;5;241m.\u001b[39mleft(\u001b[38;5;241m30\u001b[39m)\n\u001b[0;32m     11\u001b[0m     n \u001b[38;5;241m+\u001b[39m\u001b[38;5;241m=\u001b[39m \u001b[38;5;241m1\u001b[39m\n",
      "File \u001b[1;32m~\\AppData\\Local\\Programs\\Python\\Python311\\Lib\\turtle.py:1638\u001b[0m, in \u001b[0;36mTNavigator.forward\u001b[1;34m(self, distance)\u001b[0m\n\u001b[0;32m   1617\u001b[0m \u001b[38;5;28;01mdef\u001b[39;00m \u001b[38;5;21mforward\u001b[39m(\u001b[38;5;28mself\u001b[39m, distance):\n\u001b[0;32m   1618\u001b[0m \u001b[38;5;250m    \u001b[39m\u001b[38;5;124;03m\"\"\"Move the turtle forward by the specified distance.\u001b[39;00m\n\u001b[0;32m   1619\u001b[0m \n\u001b[0;32m   1620\u001b[0m \u001b[38;5;124;03m    Aliases: forward | fd\u001b[39;00m\n\u001b[1;32m   (...)\u001b[0m\n\u001b[0;32m   1636\u001b[0m \u001b[38;5;124;03m    (-50.00,0.00)\u001b[39;00m\n\u001b[0;32m   1637\u001b[0m \u001b[38;5;124;03m    \"\"\"\u001b[39;00m\n\u001b[1;32m-> 1638\u001b[0m     \u001b[38;5;28;43mself\u001b[39;49m\u001b[38;5;241;43m.\u001b[39;49m\u001b[43m_go\u001b[49m\u001b[43m(\u001b[49m\u001b[43mdistance\u001b[49m\u001b[43m)\u001b[49m\n",
      "File \u001b[1;32m~\\AppData\\Local\\Programs\\Python\\Python311\\Lib\\turtle.py:1606\u001b[0m, in \u001b[0;36mTNavigator._go\u001b[1;34m(self, distance)\u001b[0m\n\u001b[0;32m   1604\u001b[0m \u001b[38;5;250m\u001b[39m\u001b[38;5;124;03m\"\"\"move turtle forward by specified distance\"\"\"\u001b[39;00m\n\u001b[0;32m   1605\u001b[0m ende \u001b[38;5;241m=\u001b[39m \u001b[38;5;28mself\u001b[39m\u001b[38;5;241m.\u001b[39m_position \u001b[38;5;241m+\u001b[39m \u001b[38;5;28mself\u001b[39m\u001b[38;5;241m.\u001b[39m_orient \u001b[38;5;241m*\u001b[39m distance\n\u001b[1;32m-> 1606\u001b[0m \u001b[38;5;28;43mself\u001b[39;49m\u001b[38;5;241;43m.\u001b[39;49m\u001b[43m_goto\u001b[49m\u001b[43m(\u001b[49m\u001b[43mende\u001b[49m\u001b[43m)\u001b[49m\n",
      "File \u001b[1;32m~\\AppData\\Local\\Programs\\Python\\Python311\\Lib\\turtle.py:3193\u001b[0m, in \u001b[0;36mRawTurtle._goto\u001b[1;34m(self, end)\u001b[0m\n\u001b[0;32m   3191\u001b[0m     \u001b[38;5;28mself\u001b[39m\u001b[38;5;241m.\u001b[39m_position \u001b[38;5;241m=\u001b[39m start \u001b[38;5;241m+\u001b[39m delta \u001b[38;5;241m*\u001b[39m n\n\u001b[0;32m   3192\u001b[0m     \u001b[38;5;28;01mif\u001b[39;00m \u001b[38;5;28mself\u001b[39m\u001b[38;5;241m.\u001b[39m_drawing:\n\u001b[1;32m-> 3193\u001b[0m         \u001b[43mscreen\u001b[49m\u001b[38;5;241;43m.\u001b[39;49m\u001b[43m_drawline\u001b[49m\u001b[43m(\u001b[49m\u001b[38;5;28;43mself\u001b[39;49m\u001b[38;5;241;43m.\u001b[39;49m\u001b[43mdrawingLineItem\u001b[49m\u001b[43m,\u001b[49m\n\u001b[0;32m   3194\u001b[0m \u001b[43m                         \u001b[49m\u001b[43m(\u001b[49m\u001b[43mstart\u001b[49m\u001b[43m,\u001b[49m\u001b[43m \u001b[49m\u001b[38;5;28;43mself\u001b[39;49m\u001b[38;5;241;43m.\u001b[39;49m\u001b[43m_position\u001b[49m\u001b[43m)\u001b[49m\u001b[43m,\u001b[49m\n\u001b[0;32m   3195\u001b[0m \u001b[43m                         \u001b[49m\u001b[38;5;28;43mself\u001b[39;49m\u001b[38;5;241;43m.\u001b[39;49m\u001b[43m_pencolor\u001b[49m\u001b[43m,\u001b[49m\u001b[43m \u001b[49m\u001b[38;5;28;43mself\u001b[39;49m\u001b[38;5;241;43m.\u001b[39;49m\u001b[43m_pensize\u001b[49m\u001b[43m,\u001b[49m\u001b[43m \u001b[49m\u001b[43mtop\u001b[49m\u001b[43m)\u001b[49m\n\u001b[0;32m   3196\u001b[0m     \u001b[38;5;28mself\u001b[39m\u001b[38;5;241m.\u001b[39m_update()\n\u001b[0;32m   3197\u001b[0m \u001b[38;5;28;01mif\u001b[39;00m \u001b[38;5;28mself\u001b[39m\u001b[38;5;241m.\u001b[39m_drawing:\n",
      "File \u001b[1;32m~\\AppData\\Local\\Programs\\Python\\Python311\\Lib\\turtle.py:545\u001b[0m, in \u001b[0;36mTurtleScreenBase._drawline\u001b[1;34m(self, lineitem, coordlist, fill, width, top)\u001b[0m\n\u001b[0;32m    543\u001b[0m         cl\u001b[38;5;241m.\u001b[39mappend(x \u001b[38;5;241m*\u001b[39m \u001b[38;5;28mself\u001b[39m\u001b[38;5;241m.\u001b[39mxscale)\n\u001b[0;32m    544\u001b[0m         cl\u001b[38;5;241m.\u001b[39mappend(\u001b[38;5;241m-\u001b[39my \u001b[38;5;241m*\u001b[39m \u001b[38;5;28mself\u001b[39m\u001b[38;5;241m.\u001b[39myscale)\n\u001b[1;32m--> 545\u001b[0m     \u001b[38;5;28;43mself\u001b[39;49m\u001b[38;5;241;43m.\u001b[39;49m\u001b[43mcv\u001b[49m\u001b[38;5;241;43m.\u001b[39;49m\u001b[43mcoords\u001b[49m\u001b[43m(\u001b[49m\u001b[43mlineitem\u001b[49m\u001b[43m,\u001b[49m\u001b[43m \u001b[49m\u001b[38;5;241;43m*\u001b[39;49m\u001b[43mcl\u001b[49m\u001b[43m)\u001b[49m\n\u001b[0;32m    546\u001b[0m \u001b[38;5;28;01mif\u001b[39;00m fill \u001b[38;5;129;01mis\u001b[39;00m \u001b[38;5;129;01mnot\u001b[39;00m \u001b[38;5;28;01mNone\u001b[39;00m:\n\u001b[0;32m    547\u001b[0m     \u001b[38;5;28mself\u001b[39m\u001b[38;5;241m.\u001b[39mcv\u001b[38;5;241m.\u001b[39mitemconfigure(lineitem, fill\u001b[38;5;241m=\u001b[39mfill)\n",
      "File \u001b[1;32m<string>:1\u001b[0m, in \u001b[0;36mcoords\u001b[1;34m(self, *args, **kw)\u001b[0m\n",
      "File \u001b[1;32m~\\AppData\\Local\\Programs\\Python\\Python311\\Lib\\tkinter\\__init__.py:2822\u001b[0m, in \u001b[0;36mCanvas.coords\u001b[1;34m(self, *args)\u001b[0m\n\u001b[0;32m   2818\u001b[0m \u001b[38;5;250m\u001b[39m\u001b[38;5;124;03m\"\"\"Return a list of coordinates for the item given in ARGS.\"\"\"\u001b[39;00m\n\u001b[0;32m   2819\u001b[0m \u001b[38;5;66;03m# XXX Should use _flatten on args\u001b[39;00m\n\u001b[0;32m   2820\u001b[0m \u001b[38;5;28;01mreturn\u001b[39;00m [\u001b[38;5;28mself\u001b[39m\u001b[38;5;241m.\u001b[39mtk\u001b[38;5;241m.\u001b[39mgetdouble(x) \u001b[38;5;28;01mfor\u001b[39;00m x \u001b[38;5;129;01min\u001b[39;00m\n\u001b[0;32m   2821\u001b[0m                    \u001b[38;5;28mself\u001b[39m\u001b[38;5;241m.\u001b[39mtk\u001b[38;5;241m.\u001b[39msplitlist(\n\u001b[1;32m-> 2822\u001b[0m            \u001b[38;5;28;43mself\u001b[39;49m\u001b[38;5;241;43m.\u001b[39;49m\u001b[43mtk\u001b[49m\u001b[38;5;241;43m.\u001b[39;49m\u001b[43mcall\u001b[49m\u001b[43m(\u001b[49m\u001b[43m(\u001b[49m\u001b[38;5;28;43mself\u001b[39;49m\u001b[38;5;241;43m.\u001b[39;49m\u001b[43m_w\u001b[49m\u001b[43m,\u001b[49m\u001b[43m \u001b[49m\u001b[38;5;124;43m'\u001b[39;49m\u001b[38;5;124;43mcoords\u001b[39;49m\u001b[38;5;124;43m'\u001b[39;49m\u001b[43m)\u001b[49m\u001b[43m \u001b[49m\u001b[38;5;241;43m+\u001b[39;49m\u001b[43m \u001b[49m\u001b[43margs\u001b[49m\u001b[43m)\u001b[49m)]\n",
      "\u001b[1;31mTclError\u001b[0m: invalid command name \".!canvas\""
     ]
    }
   ],
   "source": [
    "import turtle\n",
    "\n",
    "screen = turtle.Screen()\n",
    "\n",
    "t = turtle.Turtle()\n",
    "\n",
    "n = 1\n",
    "for i in range(360):\n",
    "    t.forward(n)\n",
    "    t.left(30)\n",
    "    n += 1\n",
    "\n",
    "turtle.mainloop()\n",
    "turtle.done()"
   ]
  },
  {
   "cell_type": "markdown",
   "id": "36acd571",
   "metadata": {},
   "source": [
    "### Перемещение в заданные координаты\n",
    "\n",
    "Для перемещения пера в заданные координаты можно воспользоваться следующими методами:\n",
    "\n",
    "* **turtle.setposition(x, y)** и **turtle.goto(x, y)** - перемещают перо в заданные координаты;\n",
    "* **turtle.home()** - возвращает перо в начало координат;"
   ]
  },
  {
   "cell_type": "code",
   "execution_count": 10,
   "id": "89044cd4",
   "metadata": {},
   "outputs": [
    {
     "ename": "Terminator",
     "evalue": "",
     "output_type": "error",
     "traceback": [
      "\u001b[1;31m---------------------------------------------------------------------------\u001b[0m",
      "\u001b[1;31mTerminator\u001b[0m                                Traceback (most recent call last)",
      "Cell \u001b[1;32mIn[10], line 11\u001b[0m\n\u001b[0;32m      8\u001b[0m t\u001b[38;5;241m.\u001b[39mhome()\n\u001b[0;32m     10\u001b[0m turtle\u001b[38;5;241m.\u001b[39mmainloop()\n\u001b[1;32m---> 11\u001b[0m \u001b[43mturtle\u001b[49m\u001b[38;5;241;43m.\u001b[39;49m\u001b[43mdone\u001b[49m\u001b[43m(\u001b[49m\u001b[43m)\u001b[49m\n",
      "File \u001b[1;32m<string>:5\u001b[0m, in \u001b[0;36mmainloop\u001b[1;34m()\u001b[0m\n",
      "\u001b[1;31mTerminator\u001b[0m: "
     ]
    }
   ],
   "source": [
    "screen = turtle.Screen()\n",
    "\n",
    "t = turtle.Turtle('turtle')\n",
    "t.color('green')\n",
    "\n",
    "t.setposition(200, 200)\n",
    "t.goto(200, -200)\n",
    "t.home()\n",
    "\n",
    "turtle.mainloop()\n",
    "turtle.done()"
   ]
  },
  {
   "cell_type": "markdown",
   "id": "1dc3dc38",
   "metadata": {},
   "source": [
    "Координаты можно задать по отдельности:\n",
    "    \n",
    "* **turtle.setx(x)**, **turtle.sety(y)**, **turtle.setheading(angle)** - задают отдельные координаты пера и его угол;"
   ]
  },
  {
   "cell_type": "code",
   "execution_count": 12,
   "id": "d841116e",
   "metadata": {},
   "outputs": [
    {
     "ename": "Terminator",
     "evalue": "",
     "output_type": "error",
     "traceback": [
      "\u001b[1;31m---------------------------------------------------------------------------\u001b[0m",
      "\u001b[1;31mTerminator\u001b[0m                                Traceback (most recent call last)",
      "Cell \u001b[1;32mIn[12], line 10\u001b[0m\n\u001b[0;32m      7\u001b[0m t\u001b[38;5;241m.\u001b[39msety(\u001b[38;5;241m100\u001b[39m)\n\u001b[0;32m      9\u001b[0m turtle\u001b[38;5;241m.\u001b[39mexitonclick()\n\u001b[1;32m---> 10\u001b[0m \u001b[43mturtle\u001b[49m\u001b[38;5;241;43m.\u001b[39;49m\u001b[43mdone\u001b[49m\u001b[43m(\u001b[49m\u001b[43m)\u001b[49m\n",
      "File \u001b[1;32m<string>:5\u001b[0m, in \u001b[0;36mmainloop\u001b[1;34m()\u001b[0m\n",
      "\u001b[1;31mTerminator\u001b[0m: "
     ]
    }
   ],
   "source": [
    "screen = turtle.Screen()\n",
    "\n",
    "t = turtle.Turtle('turtle')\n",
    "t.shapesize(5)\n",
    "t.color('green')\n",
    "\n",
    "t.sety(100)\n",
    "\n",
    "turtle.exitonclick()\n",
    "turtle.done()"
   ]
  },
  {
   "cell_type": "markdown",
   "id": "14938a8c",
   "metadata": {},
   "source": [
    "* **turtle.xcor()**, **turtle.ycor()**, **turtle.heading()** - возвращают отдельные координаты пера и его угол;\n",
    "* **turtle.position()** - возвращает координаты пера **(x, y)**;"
   ]
  },
  {
   "cell_type": "code",
   "execution_count": 2,
   "id": "4b68c126",
   "metadata": {},
   "outputs": [
    {
     "name": "stdout",
     "output_type": "stream",
     "text": [
      "Координаты = (200.00,200.00)\n",
      "x = 200\n",
      "y = 200\n",
      "angle = 0.0\n"
     ]
    },
    {
     "ename": "Terminator",
     "evalue": "",
     "output_type": "error",
     "traceback": [
      "\u001b[1;31m---------------------------------------------------------------------------\u001b[0m",
      "\u001b[1;31mTerminator\u001b[0m                                Traceback (most recent call last)",
      "Cell \u001b[1;32mIn[2], line 15\u001b[0m\n\u001b[0;32m     12\u001b[0m \u001b[38;5;28mprint\u001b[39m(\u001b[38;5;124m'\u001b[39m\u001b[38;5;124mangle =\u001b[39m\u001b[38;5;124m'\u001b[39m, t\u001b[38;5;241m.\u001b[39mheading())\n\u001b[0;32m     14\u001b[0m turtle\u001b[38;5;241m.\u001b[39mmainloop()\n\u001b[1;32m---> 15\u001b[0m \u001b[43mturtle\u001b[49m\u001b[38;5;241;43m.\u001b[39;49m\u001b[43mdone\u001b[49m\u001b[43m(\u001b[49m\u001b[43m)\u001b[49m\n",
      "File \u001b[1;32m<string>:5\u001b[0m, in \u001b[0;36mmainloop\u001b[1;34m()\u001b[0m\n",
      "\u001b[1;31mTerminator\u001b[0m: "
     ]
    }
   ],
   "source": [
    "import turtle\n",
    "\n",
    "screen = turtle.Screen()\n",
    "\n",
    "t = turtle.Turtle('turtle')\n",
    "t.color('green')\n",
    "\n",
    "t.setposition(200, 200)\n",
    "print('Координаты =', t.position())\n",
    "print('x =', t.xcor())\n",
    "print('y =', t.ycor())\n",
    "print('angle =', t.heading())\n",
    "\n",
    "turtle.mainloop()\n",
    "turtle.done()"
   ]
  },
  {
   "cell_type": "markdown",
   "id": "1b66e3ce",
   "metadata": {},
   "source": [
    "### Параметры оставляемого пером следа\n",
    "\n",
    "* **width()** - устанавливает ширину следа;"
   ]
  },
  {
   "cell_type": "markdown",
   "id": "628494f8",
   "metadata": {},
   "source": [
    "#### Квадрат с более жирными сторонами"
   ]
  },
  {
   "cell_type": "code",
   "execution_count": 21,
   "id": "88c95a6c",
   "metadata": {},
   "outputs": [
    {
     "ename": "Terminator",
     "evalue": "",
     "output_type": "error",
     "traceback": [
      "\u001b[1;31m---------------------------------------------------------------------------\u001b[0m",
      "\u001b[1;31mTerminator\u001b[0m                                Traceback (most recent call last)",
      "Cell \u001b[1;32mIn[21], line 13\u001b[0m\n\u001b[0;32m     10\u001b[0m     t\u001b[38;5;241m.\u001b[39mleft(\u001b[38;5;241m90\u001b[39m)\n\u001b[0;32m     12\u001b[0m turtle\u001b[38;5;241m.\u001b[39mexitonclick()\n\u001b[1;32m---> 13\u001b[0m \u001b[43mturtle\u001b[49m\u001b[38;5;241;43m.\u001b[39;49m\u001b[43mdone\u001b[49m\u001b[43m(\u001b[49m\u001b[43m)\u001b[49m\n",
      "File \u001b[1;32m<string>:5\u001b[0m, in \u001b[0;36mmainloop\u001b[1;34m()\u001b[0m\n",
      "\u001b[1;31mTerminator\u001b[0m: "
     ]
    }
   ],
   "source": [
    "screen = turtle.Screen()\n",
    "\n",
    "t = turtle.Turtle('turtle')\n",
    "t.shapesize(2)\n",
    "t.color('red')\n",
    "t.width(10) # изменим ширину следа пера на 10\n",
    "\n",
    "for i in range(4):\n",
    "    t.forward(200)\n",
    "    t.left(90)\n",
    "\n",
    "turtle.exitonclick()\n",
    "turtle.done()"
   ]
  },
  {
   "cell_type": "markdown",
   "id": "0c6704bd",
   "metadata": {},
   "source": [
    "* **.turtle.penup()** - поднять перо, оно перестанет оставлять след;\n",
    "* **.turtle.pendown()** - опустить перо;"
   ]
  },
  {
   "cell_type": "markdown",
   "id": "cbed2710",
   "metadata": {},
   "source": [
    "#### Параллельные прямые"
   ]
  },
  {
   "cell_type": "code",
   "execution_count": 22,
   "id": "ca1a551a",
   "metadata": {},
   "outputs": [
    {
     "ename": "Terminator",
     "evalue": "",
     "output_type": "error",
     "traceback": [
      "\u001b[1;31m---------------------------------------------------------------------------\u001b[0m",
      "\u001b[1;31mTerminator\u001b[0m                                Traceback (most recent call last)",
      "Cell \u001b[1;32mIn[22], line 19\u001b[0m\n\u001b[0;32m     16\u001b[0m         t\u001b[38;5;241m.\u001b[39mleft(\u001b[38;5;241m90\u001b[39m)\n\u001b[0;32m     18\u001b[0m turtle\u001b[38;5;241m.\u001b[39mmainloop()\n\u001b[1;32m---> 19\u001b[0m \u001b[43mturtle\u001b[49m\u001b[38;5;241;43m.\u001b[39;49m\u001b[43mdone\u001b[49m\u001b[43m(\u001b[49m\u001b[43m)\u001b[49m\n",
      "File \u001b[1;32m<string>:5\u001b[0m, in \u001b[0;36mmainloop\u001b[1;34m()\u001b[0m\n",
      "\u001b[1;31mTerminator\u001b[0m: "
     ]
    }
   ],
   "source": [
    "screen = turtle.Screen()\n",
    "\n",
    "t = turtle.Turtle('turtle')\n",
    "t.shapesize(2)\n",
    "t.color('green')\n",
    "t.width(10)\n",
    "\n",
    "for i in range(4):\n",
    "    if i % 2 == 0:\n",
    "        t.penup()\n",
    "        t.forward(100)\n",
    "        t.left(90)\n",
    "        t.pendown()\n",
    "    else:\n",
    "        t.forward(200)\n",
    "        t.left(90)\n",
    "\n",
    "turtle.mainloop()\n",
    "turtle.done()"
   ]
  },
  {
   "cell_type": "markdown",
   "id": "f42da72c",
   "metadata": {},
   "source": [
    "* **turtle.hideturtle()** - скроет перо;\n",
    "* **turtle.showturtle()** - сделает перо видимым;\n",
    "* **turtle.isvisible()** - проверка видимости пера;"
   ]
  },
  {
   "cell_type": "markdown",
   "id": "f76ee6ac",
   "metadata": {},
   "source": [
    "#### Треугольник"
   ]
  },
  {
   "cell_type": "code",
   "execution_count": 25,
   "id": "eb4b3ebb",
   "metadata": {},
   "outputs": [
    {
     "ename": "Terminator",
     "evalue": "",
     "output_type": "error",
     "traceback": [
      "\u001b[1;31m---------------------------------------------------------------------------\u001b[0m",
      "\u001b[1;31mTerminator\u001b[0m                                Traceback (most recent call last)",
      "Cell \u001b[1;32mIn[25], line 17\u001b[0m\n\u001b[0;32m     14\u001b[0m     t\u001b[38;5;241m.\u001b[39mleft(\u001b[38;5;241m120\u001b[39m)\n\u001b[0;32m     16\u001b[0m turtle\u001b[38;5;241m.\u001b[39mexitonclick()\n\u001b[1;32m---> 17\u001b[0m \u001b[43mturtle\u001b[49m\u001b[38;5;241;43m.\u001b[39;49m\u001b[43mdone\u001b[49m\u001b[43m(\u001b[49m\u001b[43m)\u001b[49m\n",
      "File \u001b[1;32m<string>:5\u001b[0m, in \u001b[0;36mmainloop\u001b[1;34m()\u001b[0m\n",
      "\u001b[1;31mTerminator\u001b[0m: "
     ]
    }
   ],
   "source": [
    "screen = turtle.Screen()\n",
    "\n",
    "t = turtle.Turtle('turtle')\n",
    "t.color('blue')\n",
    "t.width(10)\n",
    "t.hideturtle()\n",
    "\n",
    "t.penup()\n",
    "t.setposition(-200, -200)\n",
    "t.pendown()\n",
    "\n",
    "for i in range(3):\n",
    "    t.forward(400)\n",
    "    t.left(120)\n",
    "\n",
    "turtle.exitonclick()\n",
    "turtle.done()"
   ]
  },
  {
   "cell_type": "markdown",
   "id": "43006ca5",
   "metadata": {},
   "source": [
    " #### Проверка видимости пера"
   ]
  },
  {
   "cell_type": "code",
   "execution_count": 11,
   "id": "ab665fe3",
   "metadata": {},
   "outputs": [
    {
     "name": "stdout",
     "output_type": "stream",
     "text": [
      "Перо невидимо\n"
     ]
    },
    {
     "ename": "Terminator",
     "evalue": "",
     "output_type": "error",
     "traceback": [
      "\u001b[1;31m---------------------------------------------------------------------------\u001b[0m",
      "\u001b[1;31mTerminator\u001b[0m                                Traceback (most recent call last)",
      "Cell \u001b[1;32mIn[11], line 9\u001b[0m\n\u001b[0;32m      6\u001b[0m     \u001b[38;5;28mprint\u001b[39m(\u001b[38;5;124m'\u001b[39m\u001b[38;5;124mПеро невидимо\u001b[39m\u001b[38;5;124m'\u001b[39m)\n\u001b[0;32m      8\u001b[0m turtle\u001b[38;5;241m.\u001b[39mexitonclick()\n\u001b[1;32m----> 9\u001b[0m \u001b[43mturtle\u001b[49m\u001b[38;5;241;43m.\u001b[39;49m\u001b[43mdone\u001b[49m\u001b[43m(\u001b[49m\u001b[43m)\u001b[49m\n",
      "File \u001b[1;32m<string>:5\u001b[0m, in \u001b[0;36mmainloop\u001b[1;34m()\u001b[0m\n",
      "\u001b[1;31mTerminator\u001b[0m: "
     ]
    }
   ],
   "source": [
    "screen = turtle.Screen()\n",
    "\n",
    "t = turtle.Turtle('turtle')\n",
    "t.hideturtle()\n",
    "if not(t.isvisible()):\n",
    "    print('Перо невидимо')\n",
    "\n",
    "turtle.exitonclick()\n",
    "turtle.done()"
   ]
  },
  {
   "cell_type": "markdown",
   "id": "2ad5b71a",
   "metadata": {},
   "source": [
    "### Скорость перемещения пера"
   ]
  },
  {
   "cell_type": "markdown",
   "id": "dccf7558",
   "metadata": {},
   "source": [
    "Метод **.tracer()** отключает трассировку пера, с помощью него можно убрать анимацию движения:"
   ]
  },
  {
   "cell_type": "markdown",
   "id": "6884667a",
   "metadata": {},
   "source": [
    "#### Треугольник без анимации отрисовки"
   ]
  },
  {
   "cell_type": "code",
   "execution_count": 12,
   "id": "cd18b35d",
   "metadata": {},
   "outputs": [
    {
     "ename": "Terminator",
     "evalue": "",
     "output_type": "error",
     "traceback": [
      "\u001b[1;31m---------------------------------------------------------------------------\u001b[0m",
      "\u001b[1;31mTerminator\u001b[0m                                Traceback (most recent call last)",
      "Cell \u001b[1;32mIn[12], line 26\u001b[0m\n\u001b[0;32m     24\u001b[0m turtle\u001b[38;5;241m.\u001b[39mtracer(\u001b[38;5;241m1\u001b[39m) \u001b[38;5;66;03m# включим трассировку, чтобы увидеть результат\u001b[39;00m\n\u001b[0;32m     25\u001b[0m turtle\u001b[38;5;241m.\u001b[39mexitonclick()\n\u001b[1;32m---> 26\u001b[0m \u001b[43mturtle\u001b[49m\u001b[38;5;241;43m.\u001b[39;49m\u001b[43mdone\u001b[49m\u001b[43m(\u001b[49m\u001b[43m)\u001b[49m\n",
      "File \u001b[1;32m<string>:5\u001b[0m, in \u001b[0;36mmainloop\u001b[1;34m()\u001b[0m\n",
      "\u001b[1;31mTerminator\u001b[0m: "
     ]
    }
   ],
   "source": [
    "import turtle\n",
    "\n",
    "screen = turtle.Screen()\n",
    "\n",
    "turtle.tracer(0) # отключим трассировку, рисунок появится мгновенно\n",
    "\n",
    "t = turtle.Turtle('turtle')\n",
    "\n",
    "# переместим перо на начальную позицию\n",
    "t.penup()\n",
    "t.setposition(-100, -50)\n",
    "t.pendown()\n",
    "\n",
    "# зададим параметры пера\n",
    "t.color('blue')\n",
    "t.width(10)\n",
    "t.hideturtle()\n",
    "\n",
    "# нарисуем треугольник с помощью цикла for\n",
    "for i in range(4):\n",
    "    t.forward(200)\n",
    "    t.left(120)\n",
    "\n",
    "turtle.tracer(1) # включим трассировку, чтобы увидеть результат\n",
    "turtle.exitonclick()\n",
    "turtle.done()"
   ]
  },
  {
   "cell_type": "markdown",
   "id": "18c9eba9",
   "metadata": {},
   "source": [
    "* **.speed(n)** - изменение скорости перемещения, n от 0 до 10;"
   ]
  },
  {
   "cell_type": "markdown",
   "id": "f9029931",
   "metadata": {},
   "source": [
    "#### Сравнение скоростей движения"
   ]
  },
  {
   "cell_type": "code",
   "execution_count": 13,
   "id": "32258157",
   "metadata": {},
   "outputs": [
    {
     "ename": "Terminator",
     "evalue": "",
     "output_type": "error",
     "traceback": [
      "\u001b[1;31m---------------------------------------------------------------------------\u001b[0m",
      "\u001b[1;31mTerminator\u001b[0m                                Traceback (most recent call last)",
      "Cell \u001b[1;32mIn[13], line 41\u001b[0m\n\u001b[0;32m     39\u001b[0m \u001b[38;5;66;03m#turtle.tracer(1)\u001b[39;00m\n\u001b[0;32m     40\u001b[0m turtle\u001b[38;5;241m.\u001b[39mexitonclick()\n\u001b[1;32m---> 41\u001b[0m \u001b[43mturtle\u001b[49m\u001b[38;5;241;43m.\u001b[39;49m\u001b[43mdone\u001b[49m\u001b[43m(\u001b[49m\u001b[43m)\u001b[49m\n",
      "File \u001b[1;32m<string>:5\u001b[0m, in \u001b[0;36mmainloop\u001b[1;34m()\u001b[0m\n",
      "\u001b[1;31mTerminator\u001b[0m: "
     ]
    }
   ],
   "source": [
    "import turtle\n",
    "\n",
    "screen = turtle.Screen()\n",
    "screen.setup(1200, 500)\n",
    "\n",
    "turtle.tracer(0) # отключение трассировки, чтобы не видеть создаваемые перья\n",
    "t = [turtle.Turtle('classic') for i in range(4)] # создание массива перьев\n",
    "\n",
    "for i in t:\n",
    "    i.hideturtle() # каждое перо становится невидимым\n",
    "\n",
    "colors = ['red', 'green', 'yellow', 'navy']\n",
    "lens = [50, 100, 200, 400] # длины сторон треугольников\n",
    "spd = [1, 2, 5, 10] # скорость перемещения пера\n",
    "\n",
    "x = -500\n",
    "y = -150\n",
    "\n",
    "for i in range(len(t)):\n",
    "    \n",
    "    # задание параметров каждого пера\n",
    "    t[i].speed(spd[i])\n",
    "    t[i].color(colors[i])\n",
    "    t[i].width(5)\n",
    "    \n",
    "    turtle.tracer(0) # отключение трассировки для мгновенного перемещения на начальные координаты\n",
    "    t[i].penup()\n",
    "    t[i].setposition(x, y)\n",
    "    t[i].pendown()\n",
    "    turtle.tracer(1) # включение трассировки для анимации рисования\n",
    "    \n",
    "    # рисование треугольников\n",
    "    for q in range(3):\n",
    "        t[i].forward(lens[i])\n",
    "        t[i].left(120)\n",
    "        \n",
    "    x += lens[i] + 100\n",
    "\n",
    "#turtle.tracer(1)\n",
    "turtle.exitonclick()\n",
    "turtle.done()"
   ]
  },
  {
   "cell_type": "markdown",
   "id": "247a9384",
   "metadata": {},
   "source": [
    "### Окружность и дуга"
   ]
  },
  {
   "cell_type": "markdown",
   "id": "f665ff09",
   "metadata": {},
   "source": [
    "Для построения таких фигур, как окружность и дуга, можно использовать отдельные методы.\n",
    "\n",
    "* **.circle(r)** - построение окружности радиуса **r**;"
   ]
  },
  {
   "cell_type": "markdown",
   "id": "0c380fc2",
   "metadata": {},
   "source": [
    "#### Построение окружностей"
   ]
  },
  {
   "cell_type": "code",
   "execution_count": 4,
   "id": "9fffbdd1",
   "metadata": {},
   "outputs": [
    {
     "ename": "Terminator",
     "evalue": "",
     "output_type": "error",
     "traceback": [
      "\u001b[1;31m---------------------------------------------------------------------------\u001b[0m",
      "\u001b[1;31mTerminator\u001b[0m                                Traceback (most recent call last)",
      "Cell \u001b[1;32mIn[4], line 10\u001b[0m\n\u001b[0;32m      7\u001b[0m t1\u001b[38;5;241m.\u001b[39mcircle(\u001b[38;5;241m-\u001b[39m\u001b[38;5;241m100\u001b[39m)\n\u001b[0;32m      9\u001b[0m turtle\u001b[38;5;241m.\u001b[39mmainloop()\n\u001b[1;32m---> 10\u001b[0m \u001b[43mturtle\u001b[49m\u001b[38;5;241;43m.\u001b[39;49m\u001b[43mdone\u001b[49m\u001b[43m(\u001b[49m\u001b[43m)\u001b[49m\n",
      "File \u001b[1;32m<string>:5\u001b[0m, in \u001b[0;36mmainloop\u001b[1;34m()\u001b[0m\n",
      "\u001b[1;31mTerminator\u001b[0m: "
     ]
    }
   ],
   "source": [
    "screen = turtle.Screen()\n",
    "\n",
    "t1 = turtle.Turtle('turtle')\n",
    "t1.speed(10)\n",
    "\n",
    "t1.circle(100)\n",
    "t1.circle(-100)\n",
    "\n",
    "turtle.mainloop()\n",
    "turtle.done()"
   ]
  },
  {
   "cell_type": "markdown",
   "id": "ba0f845a",
   "metadata": {},
   "source": [
    "* **.circle(r, angle)** - построение дуги радиуса **r** и угла **angle**;"
   ]
  },
  {
   "cell_type": "markdown",
   "id": "39b15210",
   "metadata": {},
   "source": [
    "#### Построение дуг"
   ]
  },
  {
   "cell_type": "code",
   "execution_count": 14,
   "id": "3aaffd02",
   "metadata": {},
   "outputs": [
    {
     "ename": "Terminator",
     "evalue": "",
     "output_type": "error",
     "traceback": [
      "\u001b[1;31m---------------------------------------------------------------------------\u001b[0m",
      "\u001b[1;31mTerminator\u001b[0m                                Traceback (most recent call last)",
      "Cell \u001b[1;32mIn[14], line 17\u001b[0m\n\u001b[0;32m     14\u001b[0m t1\u001b[38;5;241m.\u001b[39mcircle(\u001b[38;5;241m100\u001b[39m, \u001b[38;5;241m180\u001b[39m)\n\u001b[0;32m     16\u001b[0m turtle\u001b[38;5;241m.\u001b[39mmainloop()\n\u001b[1;32m---> 17\u001b[0m \u001b[43mturtle\u001b[49m\u001b[38;5;241;43m.\u001b[39;49m\u001b[43mdone\u001b[49m\u001b[43m(\u001b[49m\u001b[43m)\u001b[49m\n",
      "File \u001b[1;32m<string>:5\u001b[0m, in \u001b[0;36mmainloop\u001b[1;34m()\u001b[0m\n",
      "\u001b[1;31mTerminator\u001b[0m: "
     ]
    }
   ],
   "source": [
    "screen = turtle.Screen()\n",
    "\n",
    "t1 = turtle.Turtle('turtle')\n",
    "\n",
    "t1.penup()\n",
    "t1.setposition(0, -150)\n",
    "t1.pendown()\n",
    "\n",
    "t1.speed(10)\n",
    "\n",
    "t1.circle(100, 180)\n",
    "t1.circle(-100, -180)\n",
    "t1.circle(-100, -180)\n",
    "t1.circle(100, 180)\n",
    "\n",
    "turtle.mainloop()\n",
    "turtle.done()"
   ]
  },
  {
   "cell_type": "markdown",
   "id": "42aea193",
   "metadata": {},
   "source": [
    "* **.dot(r)** - рисует точку радиуса **r**;"
   ]
  },
  {
   "cell_type": "code",
   "execution_count": 17,
   "id": "5dbfc55b",
   "metadata": {},
   "outputs": [
    {
     "ename": "Terminator",
     "evalue": "",
     "output_type": "error",
     "traceback": [
      "\u001b[1;31m---------------------------------------------------------------------------\u001b[0m",
      "\u001b[1;31mTerminator\u001b[0m                                Traceback (most recent call last)",
      "Cell \u001b[1;32mIn[17], line 11\u001b[0m\n\u001b[0;32m      8\u001b[0m t\u001b[38;5;241m.\u001b[39mdot(\u001b[38;5;241m100\u001b[39m)\n\u001b[0;32m     10\u001b[0m turtle\u001b[38;5;241m.\u001b[39mexitonclick()\n\u001b[1;32m---> 11\u001b[0m \u001b[43mturtle\u001b[49m\u001b[38;5;241;43m.\u001b[39;49m\u001b[43mdone\u001b[49m\u001b[43m(\u001b[49m\u001b[43m)\u001b[49m\n",
      "File \u001b[1;32m<string>:5\u001b[0m, in \u001b[0;36mmainloop\u001b[1;34m()\u001b[0m\n",
      "\u001b[1;31mTerminator\u001b[0m: "
     ]
    }
   ],
   "source": [
    "import turtle\n",
    "\n",
    "screen = turtle.Screen()\n",
    "\n",
    "t = turtle.Turtle('turtle')\n",
    "t.color('green')\n",
    "\n",
    "t.dot(100)\n",
    "\n",
    "turtle.exitonclick()\n",
    "turtle.done()"
   ]
  },
  {
   "cell_type": "markdown",
   "id": "30c5e8be",
   "metadata": {},
   "source": [
    "### 8) Заливка\n",
    "\n",
    "Для окрашивания нарисованных фигур есть следующие методы:\n",
    "\n",
    "* **.begin_fill()** - переход в режим заливки;\n",
    "* **.endf_ill()** - выход из режима заливки;\n",
    "* **.fillcolor()** - изменение цвета заливки;\n",
    "\n",
    "Также цвет заливки можно указать при изменении цвета оставляемого пером следа, указав еще один аргумент:\n",
    "\n",
    "* **.color(a, b)** - **a** - цвет следа, **b** - цвет заливки;"
   ]
  },
  {
   "cell_type": "markdown",
   "id": "b8048708",
   "metadata": {},
   "source": [
    "#### Раскрашенный квадрат"
   ]
  },
  {
   "cell_type": "code",
   "execution_count": 14,
   "id": "b9374685",
   "metadata": {},
   "outputs": [
    {
     "ename": "Terminator",
     "evalue": "",
     "output_type": "error",
     "traceback": [
      "\u001b[1;31m---------------------------------------------------------------------------\u001b[0m",
      "\u001b[1;31mTerminator\u001b[0m                                Traceback (most recent call last)",
      "Cell \u001b[1;32mIn[14], line 17\u001b[0m\n\u001b[0;32m     14\u001b[0m t\u001b[38;5;241m.\u001b[39mend_fill()\n\u001b[0;32m     16\u001b[0m turtle\u001b[38;5;241m.\u001b[39mexitonclick()\n\u001b[1;32m---> 17\u001b[0m \u001b[43mturtle\u001b[49m\u001b[38;5;241;43m.\u001b[39;49m\u001b[43mdone\u001b[49m\u001b[43m(\u001b[49m\u001b[43m)\u001b[49m\n",
      "File \u001b[1;32m<string>:5\u001b[0m, in \u001b[0;36mmainloop\u001b[1;34m()\u001b[0m\n",
      "\u001b[1;31mTerminator\u001b[0m: "
     ]
    }
   ],
   "source": [
    "import turtle\n",
    "\n",
    "screen = turtle.Screen()\n",
    "t = turtle.Turtle('turtle')\n",
    "t.width(5)\n",
    "t.fillcolor('red')\n",
    "\n",
    "t.begin_fill()\n",
    "\n",
    "for i in range(4):\n",
    "    t.forward(200)\n",
    "    t.left(90)\n",
    "    \n",
    "t.end_fill()\n",
    "\n",
    "turtle.exitonclick()\n",
    "turtle.done()"
   ]
  },
  {
   "cell_type": "markdown",
   "id": "0966bfd9",
   "metadata": {},
   "source": [
    "### N-конечная звезда"
   ]
  },
  {
   "cell_type": "code",
   "execution_count": 19,
   "id": "232d200d",
   "metadata": {},
   "outputs": [
    {
     "ename": "Terminator",
     "evalue": "",
     "output_type": "error",
     "traceback": [
      "\u001b[1;31m---------------------------------------------------------------------------\u001b[0m",
      "\u001b[1;31mTerminator\u001b[0m                                Traceback (most recent call last)",
      "Cell \u001b[1;32mIn[19], line 29\u001b[0m\n\u001b[0;32m     27\u001b[0m turtle\u001b[38;5;241m.\u001b[39mtracer(\u001b[38;5;241m1\u001b[39m)\n\u001b[0;32m     28\u001b[0m turtle\u001b[38;5;241m.\u001b[39mmainloop()\n\u001b[1;32m---> 29\u001b[0m \u001b[43mturtle\u001b[49m\u001b[38;5;241;43m.\u001b[39;49m\u001b[43mdone\u001b[49m\u001b[43m(\u001b[49m\u001b[43m)\u001b[49m\n",
      "File \u001b[1;32m<string>:5\u001b[0m, in \u001b[0;36mmainloop\u001b[1;34m()\u001b[0m\n",
      "\u001b[1;31mTerminator\u001b[0m: "
     ]
    }
   ],
   "source": [
    "import turtle\n",
    "\n",
    "screen = turtle.Screen()\n",
    "turtle.tracer(0)\n",
    "\n",
    "t = turtle.Turtle('turtle')\n",
    "t.hideturtle()\n",
    "t.color('navy', 'yellow')\n",
    "t.width(5)\n",
    "\n",
    "angle = 15\n",
    "length = 200\n",
    "n = 4\n",
    "\n",
    "t.begin_fill()\n",
    "\n",
    "t.left(180 - 360 / n - angle)\n",
    "\n",
    "for i in range(int(n)):\n",
    "    t.right(180 - 360 / n - angle * 2)\n",
    "    t.forward(length)\n",
    "    t.left(180 - angle * 2)\n",
    "    t.forward(length)\n",
    "\n",
    "t.end_fill()\n",
    "\n",
    "turtle.tracer(1)\n",
    "turtle.mainloop()\n",
    "turtle.done()"
   ]
  },
  {
   "cell_type": "markdown",
   "id": "9454206d",
   "metadata": {},
   "source": [
    "### 9) Вывод текста на холст\n",
    "\n",
    "Вывод текст на холст осуществляется с помощью метода **.write()**:"
   ]
  },
  {
   "cell_type": "markdown",
   "id": "d0a65a23",
   "metadata": {},
   "source": [
    "#### Вывод строки"
   ]
  },
  {
   "cell_type": "code",
   "execution_count": 5,
   "id": "7600196e",
   "metadata": {},
   "outputs": [
    {
     "ename": "Terminator",
     "evalue": "",
     "output_type": "error",
     "traceback": [
      "\u001b[1;31m---------------------------------------------------------------------------\u001b[0m",
      "\u001b[1;31mTerminator\u001b[0m                                Traceback (most recent call last)",
      "Cell \u001b[1;32mIn[5], line 10\u001b[0m\n\u001b[0;32m      7\u001b[0m t\u001b[38;5;241m.\u001b[39mwrite(\u001b[38;5;124m'\u001b[39m\u001b[38;5;124mСтрока\u001b[39m\u001b[38;5;124m'\u001b[39m, move \u001b[38;5;241m=\u001b[39m \u001b[38;5;28;01mFalse\u001b[39;00m, align \u001b[38;5;241m=\u001b[39m \u001b[38;5;124m'\u001b[39m\u001b[38;5;124mleft\u001b[39m\u001b[38;5;124m'\u001b[39m, font \u001b[38;5;241m=\u001b[39m (\u001b[38;5;124m'\u001b[39m\u001b[38;5;124mArial\u001b[39m\u001b[38;5;124m'\u001b[39m, \u001b[38;5;241m16\u001b[39m, \u001b[38;5;124m'\u001b[39m\u001b[38;5;124mnormal\u001b[39m\u001b[38;5;124m'\u001b[39m))\n\u001b[0;32m      9\u001b[0m turtle\u001b[38;5;241m.\u001b[39mmainloop()\n\u001b[1;32m---> 10\u001b[0m \u001b[43mturtle\u001b[49m\u001b[38;5;241;43m.\u001b[39;49m\u001b[43mdone\u001b[49m\u001b[43m(\u001b[49m\u001b[43m)\u001b[49m\n",
      "File \u001b[1;32m<string>:5\u001b[0m, in \u001b[0;36mmainloop\u001b[1;34m()\u001b[0m\n",
      "\u001b[1;31mTerminator\u001b[0m: "
     ]
    }
   ],
   "source": [
    "import turtle\n",
    "\n",
    "screen = turtle.Screen()\n",
    "t = turtle.Turtle('turtle')\n",
    "t.hideturtle()\n",
    "\n",
    "t.write('Строка', move = False, align = 'left', font = ('Arial', 16, 'normal'))\n",
    "\n",
    "turtle.mainloop()\n",
    "turtle.done()"
   ]
  },
  {
   "cell_type": "markdown",
   "id": "3e6c62cc",
   "metadata": {},
   "source": [
    "**Параметры метода**:\n",
    "\n",
    "* **move = False** - отвечает за позицию пера после вывода текста, если True, то перо перемещается в правый нижний угол текста, по умолчанию равен False;\n",
    "\n",
    "* **align = 'left'** - выравнивание текста **left**, **center** или **right**;\n",
    "\n",
    "* **font = ()** - кортеж из трех элементов-параметров шрифта (fontname, fontsize, fonttype);"
   ]
  },
  {
   "cell_type": "markdown",
   "id": "4021afe6",
   "metadata": {},
   "source": [
    "#### Изменение параметров строки"
   ]
  },
  {
   "cell_type": "code",
   "execution_count": 7,
   "id": "3755cb1a",
   "metadata": {},
   "outputs": [
    {
     "ename": "Terminator",
     "evalue": "",
     "output_type": "error",
     "traceback": [
      "\u001b[1;31m---------------------------------------------------------------------------\u001b[0m",
      "\u001b[1;31mTerminator\u001b[0m                                Traceback (most recent call last)",
      "Cell \u001b[1;32mIn[7], line 9\u001b[0m\n\u001b[0;32m      6\u001b[0m t\u001b[38;5;241m.\u001b[39mwrite(\u001b[38;5;124m'\u001b[39m\u001b[38;5;124mСтрока\u001b[39m\u001b[38;5;124m'\u001b[39m, move \u001b[38;5;241m=\u001b[39m \u001b[38;5;28;01mTrue\u001b[39;00m, align \u001b[38;5;241m=\u001b[39m \u001b[38;5;124m'\u001b[39m\u001b[38;5;124mCenter\u001b[39m\u001b[38;5;124m'\u001b[39m, font \u001b[38;5;241m=\u001b[39m (\u001b[38;5;124m'\u001b[39m\u001b[38;5;124mArial\u001b[39m\u001b[38;5;124m'\u001b[39m, \u001b[38;5;241m32\u001b[39m, \u001b[38;5;124m'\u001b[39m\u001b[38;5;124mnormal\u001b[39m\u001b[38;5;124m'\u001b[39m))\n\u001b[0;32m      8\u001b[0m turtle\u001b[38;5;241m.\u001b[39mmainloop()\n\u001b[1;32m----> 9\u001b[0m \u001b[43mturtle\u001b[49m\u001b[38;5;241;43m.\u001b[39;49m\u001b[43mdone\u001b[49m\u001b[43m(\u001b[49m\u001b[43m)\u001b[49m\n",
      "File \u001b[1;32m<string>:5\u001b[0m, in \u001b[0;36mmainloop\u001b[1;34m()\u001b[0m\n",
      "\u001b[1;31mTerminator\u001b[0m: "
     ]
    }
   ],
   "source": [
    "import turtle\n",
    "\n",
    "screen = turtle.Screen()\n",
    "t = turtle.Turtle('turtle')\n",
    "\n",
    "t.write('Строка', move = True, align = 'Center', font = ('Arial', 32, 'normal'))\n",
    "\n",
    "turtle.mainloop()\n",
    "turtle.done()"
   ]
  },
  {
   "cell_type": "markdown",
   "id": "2e720c36",
   "metadata": {},
   "source": [
    "#### Вывод на холст текущих координат пера"
   ]
  },
  {
   "cell_type": "code",
   "execution_count": 21,
   "id": "aeb29613",
   "metadata": {},
   "outputs": [
    {
     "ename": "Terminator",
     "evalue": "",
     "output_type": "error",
     "traceback": [
      "\u001b[1;31m---------------------------------------------------------------------------\u001b[0m",
      "\u001b[1;31mTerminator\u001b[0m                                Traceback (most recent call last)",
      "Cell \u001b[1;32mIn[21], line 11\u001b[0m\n\u001b[0;32m      7\u001b[0m t\u001b[38;5;241m.\u001b[39mwrite(\u001b[38;5;124m'\u001b[39m\u001b[38;5;124mCords = \u001b[39m\u001b[38;5;124m'\u001b[39m \u001b[38;5;241m+\u001b[39m \u001b[38;5;28mstr\u001b[39m(t\u001b[38;5;241m.\u001b[39mposition()), \u001b[38;5;28;01mFalse\u001b[39;00m, align \u001b[38;5;241m=\u001b[39m \u001b[38;5;124m'\u001b[39m\u001b[38;5;124mcenter\u001b[39m\u001b[38;5;124m'\u001b[39m, font \u001b[38;5;241m=\u001b[39m (\u001b[38;5;124m'\u001b[39m\u001b[38;5;124mSegoe Print\u001b[39m\u001b[38;5;124m'\u001b[39m, \u001b[38;5;241m32\u001b[39m, \u001b[38;5;124m'\u001b[39m\u001b[38;5;124mnormal\u001b[39m\u001b[38;5;124m'\u001b[39m))\n\u001b[0;32m     10\u001b[0m turtle\u001b[38;5;241m.\u001b[39mmainloop()\n\u001b[1;32m---> 11\u001b[0m \u001b[43mturtle\u001b[49m\u001b[38;5;241;43m.\u001b[39;49m\u001b[43mdone\u001b[49m\u001b[43m(\u001b[49m\u001b[43m)\u001b[49m\n",
      "File \u001b[1;32m<string>:5\u001b[0m, in \u001b[0;36mmainloop\u001b[1;34m()\u001b[0m\n",
      "\u001b[1;31mTerminator\u001b[0m: "
     ]
    }
   ],
   "source": [
    "import turtle\n",
    "\n",
    "screen = turtle.Screen()\n",
    "t = turtle.Turtle('turtle')\n",
    "\n",
    "t.goto(0, 100)\n",
    "t.write('Cords = ' + str(t.position()), False, align = 'center', font = ('Segoe Print', 32, 'normal'))\n",
    "\n",
    "\n",
    "turtle.mainloop()\n",
    "turtle.done()"
   ]
  },
  {
   "cell_type": "markdown",
   "id": "a6c33d5c",
   "metadata": {},
   "source": [
    "### 10) Обработка событий клавиатуры и мыши\n",
    "\n",
    "Библиотека **Turtle** располагает набором методом для обработки событий клавиатуры и мыши.\n",
    "\n",
    "### Включение прослушивания\n",
    "\n",
    "Для того, чтобы холст начал реагировать на эти события, нужно вызвать метод **turtle.listen()** - включить прослушивание событий:"
   ]
  },
  {
   "cell_type": "code",
   "execution_count": 2,
   "id": "0469191e",
   "metadata": {},
   "outputs": [
    {
     "ename": "Terminator",
     "evalue": "",
     "output_type": "error",
     "traceback": [
      "\u001b[1;31m---------------------------------------------------------------------------\u001b[0m",
      "\u001b[1;31mTerminator\u001b[0m                                Traceback (most recent call last)",
      "Cell \u001b[1;32mIn[2], line 7\u001b[0m\n\u001b[0;32m      4\u001b[0m screen\u001b[38;5;241m.\u001b[39mlisten()\n\u001b[0;32m      6\u001b[0m turtle\u001b[38;5;241m.\u001b[39mexitonclick()\n\u001b[1;32m----> 7\u001b[0m \u001b[43mturtle\u001b[49m\u001b[38;5;241;43m.\u001b[39;49m\u001b[43mdone\u001b[49m\u001b[43m(\u001b[49m\u001b[43m)\u001b[49m\n",
      "File \u001b[1;32m<string>:5\u001b[0m, in \u001b[0;36mmainloop\u001b[1;34m()\u001b[0m\n",
      "\u001b[1;31mTerminator\u001b[0m: "
     ]
    }
   ],
   "source": [
    "import turtle\n",
    "\n",
    "screen = turtle.Screen()\n",
    "screen.listen()\n",
    "\n",
    "turtle.exitonclick()\n",
    "turtle.done()"
   ]
  },
  {
   "cell_type": "markdown",
   "id": "639d30d9",
   "metadata": {},
   "source": [
    "### Обработка событий нажатия клавиш клавиатуры\n",
    "\n",
    "* **.onkeyrelease([function], [key])** - метод связывает функцию с событием отпускания клавиши;\n",
    "* **.onkeypress([function], [key])** - метод связывает функцию с событием нажатия клавиши;"
   ]
  },
  {
   "cell_type": "markdown",
   "id": "a5ea51b4",
   "metadata": {},
   "source": [
    "#### Управление черепашкой с помощью клавиатуры"
   ]
  },
  {
   "cell_type": "code",
   "execution_count": 1,
   "id": "f54a74b2",
   "metadata": {},
   "outputs": [
    {
     "ename": "Terminator",
     "evalue": "",
     "output_type": "error",
     "traceback": [
      "\u001b[1;31m---------------------------------------------------------------------------\u001b[0m",
      "\u001b[1;31mTerminator\u001b[0m                                Traceback (most recent call last)",
      "Cell \u001b[1;32mIn[1], line 39\u001b[0m\n\u001b[0;32m     36\u001b[0m t\u001b[38;5;241m.\u001b[39mcolor(\u001b[38;5;124m'\u001b[39m\u001b[38;5;124mgreen\u001b[39m\u001b[38;5;124m'\u001b[39m)\n\u001b[0;32m     38\u001b[0m turtle\u001b[38;5;241m.\u001b[39mmainloop()\n\u001b[1;32m---> 39\u001b[0m \u001b[43mturtle\u001b[49m\u001b[38;5;241;43m.\u001b[39;49m\u001b[43mdone\u001b[49m\u001b[43m(\u001b[49m\u001b[43m)\u001b[49m\n",
      "File \u001b[1;32m<string>:5\u001b[0m, in \u001b[0;36mmainloop\u001b[1;34m()\u001b[0m\n",
      "\u001b[1;31mTerminator\u001b[0m: "
     ]
    }
   ],
   "source": [
    "import turtle\n",
    "\n",
    "def moveUp():\n",
    "    turtle.tracer(0)\n",
    "    t.setheading(90)\n",
    "    turtle.tracer(1)\n",
    "    t.forward(20)\n",
    "    \n",
    "def moveDown():\n",
    "    turtle.tracer(0)\n",
    "    t.setheading(-90)\n",
    "    turtle.tracer(1)\n",
    "    t.forward(20)\n",
    "    \n",
    "def moveLeft():\n",
    "    turtle.tracer(0)\n",
    "    t.setheading(180)\n",
    "    turtle.tracer(1)\n",
    "    t.forward(20)\n",
    "    \n",
    "def moveRight():\n",
    "    turtle.tracer(0)\n",
    "    t.setheading(0)\n",
    "    turtle.tracer(1)\n",
    "    t.forward(20)\n",
    "    \n",
    "screen = turtle.Screen()\n",
    "screen.listen()\n",
    "\n",
    "screen.onkeyrelease(moveUp, 'Up')\n",
    "screen.onkeyrelease(moveDown, 'Down')\n",
    "screen.onkeyrelease(moveLeft, 'Left')\n",
    "screen.onkeyrelease(moveRight, 'Right')\n",
    "\n",
    "t = turtle.Turtle('turtle')\n",
    "t.color('green')\n",
    "\n",
    "turtle.mainloop()\n",
    "turtle.done()"
   ]
  },
  {
   "cell_type": "markdown",
   "id": "347dbbaa",
   "metadata": {},
   "source": [
    "#### Добавление функции прыжка"
   ]
  },
  {
   "cell_type": "code",
   "execution_count": 2,
   "id": "65695ea5",
   "metadata": {},
   "outputs": [
    {
     "ename": "Terminator",
     "evalue": "",
     "output_type": "error",
     "traceback": [
      "\u001b[1;31m---------------------------------------------------------------------------\u001b[0m",
      "\u001b[1;31mTerminator\u001b[0m                                Traceback (most recent call last)",
      "Cell \u001b[1;32mIn[2], line 48\u001b[0m\n\u001b[0;32m     45\u001b[0m t\u001b[38;5;241m.\u001b[39mcolor(\u001b[38;5;124m'\u001b[39m\u001b[38;5;124mgreen\u001b[39m\u001b[38;5;124m'\u001b[39m)\n\u001b[0;32m     47\u001b[0m turtle\u001b[38;5;241m.\u001b[39mmainloop()\n\u001b[1;32m---> 48\u001b[0m \u001b[43mturtle\u001b[49m\u001b[38;5;241;43m.\u001b[39;49m\u001b[43mdone\u001b[49m\u001b[43m(\u001b[49m\u001b[43m)\u001b[49m\n",
      "File \u001b[1;32m<string>:5\u001b[0m, in \u001b[0;36mmainloop\u001b[1;34m()\u001b[0m\n",
      "\u001b[1;31mTerminator\u001b[0m: "
     ]
    }
   ],
   "source": [
    "import turtle\n",
    "\n",
    "def moveUp():\n",
    "    turtle.tracer(0)\n",
    "    t.setheading(90)\n",
    "    turtle.tracer(1)\n",
    "    t.forward(20)\n",
    "    \n",
    "def moveDown():\n",
    "    turtle.tracer(0)\n",
    "    t.setheading(-90)\n",
    "    turtle.tracer(1)\n",
    "    t.forward(20)\n",
    "    \n",
    "def moveLeft():\n",
    "    turtle.tracer(0)\n",
    "    t.setheading(180)\n",
    "    turtle.tracer(1)\n",
    "    t.forward(20)\n",
    "    \n",
    "def moveRight():\n",
    "    turtle.tracer(0)\n",
    "    t.setheading(0)\n",
    "    turtle.tracer(1)\n",
    "    t.forward(20)\n",
    "    \n",
    "def moveJump():\n",
    "    t.penup()\n",
    "    size = t.shapesize()[0]\n",
    "    t.shapesize(size + 1)\n",
    "    t.forward(20)\n",
    "    t.pendown()\n",
    "    t.shapesize(size)\n",
    "    \n",
    "screen = turtle.Screen()\n",
    "screen.listen()\n",
    "\n",
    "screen.onkeyrelease(moveUp, 'Up')\n",
    "screen.onkeyrelease(moveDown, 'Down')\n",
    "screen.onkeyrelease(moveLeft, 'Left')\n",
    "screen.onkeyrelease(moveRight, 'Right')\n",
    "screen.onkeyrelease(moveJump, 'w')\n",
    "\n",
    "t = turtle.Turtle('turtle')\n",
    "t.color('green')\n",
    "\n",
    "turtle.mainloop()\n",
    "turtle.done()"
   ]
  },
  {
   "cell_type": "markdown",
   "id": "c030ad47",
   "metadata": {},
   "source": [
    "#### Обработка события отпускания клавиш"
   ]
  },
  {
   "cell_type": "code",
   "execution_count": 16,
   "id": "2b27b1bd",
   "metadata": {},
   "outputs": [
    {
     "ename": "Terminator",
     "evalue": "",
     "output_type": "error",
     "traceback": [
      "\u001b[1;31m---------------------------------------------------------------------------\u001b[0m",
      "\u001b[1;31mTerminator\u001b[0m                                Traceback (most recent call last)",
      "Cell \u001b[1;32mIn[16], line 49\u001b[0m\n\u001b[0;32m     46\u001b[0m t\u001b[38;5;241m.\u001b[39mshapesize(\u001b[38;5;241m2\u001b[39m)\n\u001b[0;32m     48\u001b[0m turtle\u001b[38;5;241m.\u001b[39mmainloop()\n\u001b[1;32m---> 49\u001b[0m \u001b[43mturtle\u001b[49m\u001b[38;5;241;43m.\u001b[39;49m\u001b[43mdone\u001b[49m\u001b[43m(\u001b[49m\u001b[43m)\u001b[49m\n",
      "File \u001b[1;32m<string>:5\u001b[0m, in \u001b[0;36mmainloop\u001b[1;34m()\u001b[0m\n",
      "\u001b[1;31mTerminator\u001b[0m: "
     ]
    }
   ],
   "source": [
    "import turtle\n",
    "\n",
    "def moveUp():\n",
    "    turtle.tracer(0)\n",
    "    t.setheading(90)\n",
    "    turtle.tracer(1)\n",
    "    t.forward(20)\n",
    "    \n",
    "def moveDown():\n",
    "    turtle.tracer(0)\n",
    "    t.setheading(-90)\n",
    "    turtle.tracer(1)\n",
    "    t.forward(20)\n",
    "    \n",
    "def moveLeft():\n",
    "    turtle.tracer(0)\n",
    "    t.setheading(180)\n",
    "    turtle.tracer(1)\n",
    "    t.forward(20)\n",
    "    \n",
    "def moveRight():\n",
    "    turtle.tracer(0)\n",
    "    t.setheading(0)\n",
    "    turtle.tracer(1)\n",
    "    t.forward(20)\n",
    "    \n",
    "def moveJump():\n",
    "    t.penup()\n",
    "    size = t.shapesize()[0]\n",
    "    t.shapesize(size + 1)\n",
    "    t.forward(20)\n",
    "    t.pendown()\n",
    "    t.shapesize(size)\n",
    "    \n",
    "screen = turtle.Screen()\n",
    "screen.listen()\n",
    "\n",
    "screen.onkeypress(moveUp, 'Up')\n",
    "screen.onkeypress(moveDown, 'Down')\n",
    "screen.onkeypress(moveLeft, 'Left')\n",
    "screen.onkeypress(moveRight, 'Right')\n",
    "screen.onkeypress(moveJump, 'space')\n",
    "\n",
    "t = turtle.Turtle('turtle')\n",
    "t.color('green')\n",
    "t.shapesize(2)\n",
    "\n",
    "turtle.mainloop()\n",
    "turtle.done()"
   ]
  },
  {
   "cell_type": "markdown",
   "id": "05dda0fb",
   "metadata": {},
   "source": [
    "#### Управление черепашкой с поворотами"
   ]
  },
  {
   "cell_type": "code",
   "execution_count": 18,
   "id": "d0df34f0",
   "metadata": {},
   "outputs": [
    {
     "ename": "Terminator",
     "evalue": "",
     "output_type": "error",
     "traceback": [
      "\u001b[1;31m---------------------------------------------------------------------------\u001b[0m",
      "\u001b[1;31mTerminator\u001b[0m                                Traceback (most recent call last)",
      "Cell \u001b[1;32mIn[18], line 35\u001b[0m\n\u001b[0;32m     32\u001b[0m t\u001b[38;5;241m.\u001b[39mcolor(\u001b[38;5;124m'\u001b[39m\u001b[38;5;124mgreen\u001b[39m\u001b[38;5;124m'\u001b[39m)\n\u001b[0;32m     34\u001b[0m turtle\u001b[38;5;241m.\u001b[39mmainloop()\n\u001b[1;32m---> 35\u001b[0m \u001b[43mturtle\u001b[49m\u001b[38;5;241;43m.\u001b[39;49m\u001b[43mdone\u001b[49m\u001b[43m(\u001b[49m\u001b[43m)\u001b[49m\n",
      "File \u001b[1;32m<string>:5\u001b[0m, in \u001b[0;36mmainloop\u001b[1;34m()\u001b[0m\n",
      "\u001b[1;31mTerminator\u001b[0m: "
     ]
    }
   ],
   "source": [
    "import turtle\n",
    "\n",
    "def moveUp():\n",
    "    t.forward(20)\n",
    "    \n",
    "def moveDown():\n",
    "    t.backward(20)\n",
    "    \n",
    "def moveJump():\n",
    "    t.penup()\n",
    "    t.shapesize(t.shapesize()[0] + 1)\n",
    "    t.forward(20)\n",
    "    t.shapesize(t.shapesize()[0] - 1)\n",
    "    t.pendown()\n",
    "    \n",
    "def turnLeft():\n",
    "    t.left(45)\n",
    "    \n",
    "def turnRight():\n",
    "    t.right(45)\n",
    "\n",
    "screen = turtle.Screen()\n",
    "screen.listen()\n",
    "screen.onkeyrelease(turnLeft, 'Left')\n",
    "screen.onkeyrelease(turnRight, 'Right')\n",
    "screen.onkeypress(moveUp, 'Up')\n",
    "screen.onkeypress(moveDown, 'Down')\n",
    "screen.onkeyrelease(moveJump, 'space')\n",
    "\n",
    "t = turtle.Turtle('turtle')\n",
    "t.shapesize(1)\n",
    "t.color('green')\n",
    "\n",
    "turtle.mainloop()\n",
    "turtle.done()"
   ]
  },
  {
   "cell_type": "markdown",
   "id": "8a500d78",
   "metadata": {},
   "source": [
    "### Обработка событий нажатия кнопок мыши\n",
    "\n",
    "* **.onclick([function], [btn=1])** - связывает функцию с событием нажатия кнопки мыши; если btn=1, то левая;"
   ]
  },
  {
   "cell_type": "markdown",
   "id": "0a5b0a67",
   "metadata": {},
   "source": [
    "#### Рисование окружностей в месте клика мыши"
   ]
  },
  {
   "cell_type": "code",
   "execution_count": 14,
   "id": "87dc52cf",
   "metadata": {},
   "outputs": [
    {
     "ename": "Terminator",
     "evalue": "",
     "output_type": "error",
     "traceback": [
      "\u001b[1;31m---------------------------------------------------------------------------\u001b[0m",
      "\u001b[1;31mTerminator\u001b[0m                                Traceback (most recent call last)",
      "Cell \u001b[1;32mIn[14], line 15\u001b[0m\n\u001b[0;32m     12\u001b[0m screen\u001b[38;5;241m.\u001b[39monclick(drawCircle)\n\u001b[0;32m     14\u001b[0m turtle\u001b[38;5;241m.\u001b[39mmainloop()\n\u001b[1;32m---> 15\u001b[0m \u001b[43mturtle\u001b[49m\u001b[38;5;241;43m.\u001b[39;49m\u001b[43mdone\u001b[49m\u001b[43m(\u001b[49m\u001b[43m)\u001b[49m\n",
      "File \u001b[1;32m<string>:5\u001b[0m, in \u001b[0;36mmainloop\u001b[1;34m()\u001b[0m\n",
      "\u001b[1;31mTerminator\u001b[0m: "
     ]
    }
   ],
   "source": [
    "import turtle\n",
    "\n",
    "def drawCircle(x, y):\n",
    "    turtle.tracer(0)\n",
    "    turtle.penup()\n",
    "    turtle.goto(x, y)\n",
    "    turtle.pendown()\n",
    "    turtle.tracer(1)\n",
    "    turtle.circle(20)\n",
    "\n",
    "screen = turtle.Screen()\n",
    "screen.onclick(drawCircle)\n",
    "\n",
    "turtle.mainloop()\n",
    "turtle.done()"
   ]
  },
  {
   "cell_type": "markdown",
   "id": "6e5638d7",
   "metadata": {},
   "source": [
    "#### Рисование звездочек в месте клика мыши"
   ]
  },
  {
   "cell_type": "code",
   "execution_count": 13,
   "id": "44130be0",
   "metadata": {},
   "outputs": [
    {
     "ename": "Terminator",
     "evalue": "",
     "output_type": "error",
     "traceback": [
      "\u001b[1;31m---------------------------------------------------------------------------\u001b[0m",
      "\u001b[1;31mTerminator\u001b[0m                                Traceback (most recent call last)",
      "Cell \u001b[1;32mIn[13], line 32\u001b[0m\n\u001b[0;32m     29\u001b[0m screen\u001b[38;5;241m.\u001b[39monclick(drawCircle)\n\u001b[0;32m     31\u001b[0m turtle\u001b[38;5;241m.\u001b[39mmainloop()\n\u001b[1;32m---> 32\u001b[0m \u001b[43mturtle\u001b[49m\u001b[38;5;241;43m.\u001b[39;49m\u001b[43mdone\u001b[49m\u001b[43m(\u001b[49m\u001b[43m)\u001b[49m\n",
      "File \u001b[1;32m<string>:5\u001b[0m, in \u001b[0;36mmainloop\u001b[1;34m()\u001b[0m\n",
      "\u001b[1;31mTerminator\u001b[0m: "
     ]
    }
   ],
   "source": [
    "import turtle, random, time\n",
    "\n",
    "def drawCircle(x, y):\n",
    "    turtle.hideturtle()\n",
    "    turtle.tracer(0)\n",
    "    turtle.penup()\n",
    "    turtle.goto(x, y)\n",
    "    turtle.pendown()\n",
    "    \n",
    "    angle = 1\n",
    "    length = 100\n",
    "    n = 100\n",
    "    \n",
    "    turtle.fillcolor('#' + str(random.randint(100000, 999999)))\n",
    "    \n",
    "    turtle.begin_fill()\n",
    "    turtle.left(180 - 360 / n - angle + 20)\n",
    "    for i in range(int(n)):\n",
    "        turtle.right(180 - 360 / n - angle * 2)\n",
    "        turtle.forward(length)\n",
    "        turtle.left(180 - angle * 2)\n",
    "        turtle.forward(length)\n",
    "    turtle.end_fill()\n",
    "    turtle.tracer(1)\n",
    "\n",
    "\n",
    "screen = turtle.Screen()\n",
    "screen.listen()\n",
    "screen.onclick(drawCircle)\n",
    "\n",
    "turtle.mainloop()\n",
    "turtle.done()"
   ]
  },
  {
   "cell_type": "markdown",
   "id": "f4be7d39",
   "metadata": {},
   "source": [
    "#### Изменение цвета черепашки"
   ]
  },
  {
   "cell_type": "code",
   "execution_count": 1,
   "id": "8e73d80b",
   "metadata": {},
   "outputs": [
    {
     "ename": "Terminator",
     "evalue": "",
     "output_type": "error",
     "traceback": [
      "\u001b[1;31m---------------------------------------------------------------------------\u001b[0m",
      "\u001b[1;31mTerminator\u001b[0m                                Traceback (most recent call last)",
      "Cell \u001b[1;32mIn[1], line 82\u001b[0m\n\u001b[0;32m     79\u001b[0m drawBtn(btn3, \u001b[38;5;241m-\u001b[39m\u001b[38;5;241m350\u001b[39m, \u001b[38;5;241m100\u001b[39m, \u001b[38;5;241m60\u001b[39m, \u001b[38;5;241m30\u001b[39m, \u001b[38;5;124m'\u001b[39m\u001b[38;5;124mgreen\u001b[39m\u001b[38;5;124m'\u001b[39m)\n\u001b[0;32m     81\u001b[0m turtle\u001b[38;5;241m.\u001b[39mmainloop()\n\u001b[1;32m---> 82\u001b[0m \u001b[43mturtle\u001b[49m\u001b[38;5;241;43m.\u001b[39;49m\u001b[43mdone\u001b[49m\u001b[43m(\u001b[49m\u001b[43m)\u001b[49m\n",
      "File \u001b[1;32m<string>:5\u001b[0m, in \u001b[0;36mmainloop\u001b[1;34m()\u001b[0m\n",
      "\u001b[1;31mTerminator\u001b[0m: "
     ]
    }
   ],
   "source": [
    "import turtle, time\n",
    "\n",
    "def drawRectangle(name, width, height, color):\n",
    "    name.setheading(0)\n",
    "    name.fillcolor(color)\n",
    "    name.begin_fill()\n",
    "    for i in range(4):\n",
    "        if i % 2 == 0:\n",
    "            name.forward(width)\n",
    "        else:\n",
    "            name.forward(height)\n",
    "        name.left(90)\n",
    "    name.end_fill()\n",
    "    \n",
    "def drawBtn(name, x, y, width, height, color):\n",
    "    turtle.tracer(0)\n",
    "    name.hideturtle()\n",
    "    name.penup()\n",
    "    name.goto(x, y)\n",
    "    name.pendown()\n",
    "    name.color(color)\n",
    "    \n",
    "    drawRectangle(name, width, height, color)\n",
    "    turtle.tracer(1)\n",
    "    \n",
    "def changeColor(x, y):\n",
    "    if -350 < x < -290:\n",
    "        if 200 < y < 230:\n",
    "            t.color(btn1.color()[0])\n",
    "        elif 150 < y < 180:\n",
    "            t.color(btn2.color()[0])\n",
    "        elif 100 < y < 130:\n",
    "            t.color(btn3.color()[0])\n",
    "            \n",
    "def moveUp():\n",
    "    t.forward(20)\n",
    "    \n",
    "def moveDown():\n",
    "    t.backward(20)\n",
    "    \n",
    "def moveJump():\n",
    "    t.penup()\n",
    "    t.shapesize(t.shapesize()[0] + 1)\n",
    "    t.forward(20)\n",
    "    t.shapesize(t.shapesize()[0] - 1)\n",
    "    t.pendown()\n",
    "    \n",
    "def turnLeft():\n",
    "    t.left(45)\n",
    "    \n",
    "def turnRight():\n",
    "    t.right(45)\n",
    "    \n",
    "\n",
    "screen = turtle.Screen()\n",
    "screen.listen()\n",
    "turtle.setup(800, 600)\n",
    "\n",
    "screen.onclick(changeColor)\n",
    "screen.onkeyrelease(turnLeft, 'Left')\n",
    "screen.onkeyrelease(turnRight, 'Right')\n",
    "screen.onkeypress(moveUp, 'Up')\n",
    "screen.onkeypress(moveDown, 'Down')\n",
    "screen.onkeyrelease(moveJump, 'space')\n",
    "\n",
    "t = turtle.Turtle('turtle')\n",
    "t.shapesize(1)\n",
    "\n",
    "btn1 = turtle.Turtle()\n",
    "btn2 = turtle.Turtle()\n",
    "btn3 = turtle.Turtle()\n",
    "\n",
    "btn1.hideturtle()\n",
    "btn2.hideturtle()\n",
    "btn3.hideturtle()\n",
    "\n",
    "drawBtn(btn1, -350, 200, 60, 30, 'red')\n",
    "drawBtn(btn2, -350, 150, 60, 30, 'blue')\n",
    "drawBtn(btn3, -350, 100, 60, 30, 'green')\n",
    "\n",
    "turtle.mainloop()\n",
    "turtle.done()"
   ]
  },
  {
   "cell_type": "code",
   "execution_count": null,
   "id": "1d8a08db",
   "metadata": {},
   "outputs": [],
   "source": []
  }
 ],
 "metadata": {
  "kernelspec": {
   "display_name": "Python 3 (ipykernel)",
   "language": "python",
   "name": "python3"
  },
  "language_info": {
   "codemirror_mode": {
    "name": "ipython",
    "version": 3
   },
   "file_extension": ".py",
   "mimetype": "text/x-python",
   "name": "python",
   "nbconvert_exporter": "python",
   "pygments_lexer": "ipython3",
   "version": "3.9.7"
  }
 },
 "nbformat": 4,
 "nbformat_minor": 5
}
