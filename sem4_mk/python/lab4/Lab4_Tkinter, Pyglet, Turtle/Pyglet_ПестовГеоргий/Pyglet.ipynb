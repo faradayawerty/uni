{
 "cells": [
  {
   "cell_type": "markdown",
   "id": "6ead5563",
   "metadata": {},
   "source": [
    "#                                                     pyglet"
   ]
  },
  {
   "cell_type": "markdown",
   "id": "457ba63e",
   "metadata": {},
   "source": [
    "**pyglet** - это кроссплатформенная оконная и мультимедийная библиотека для Python, предназначенная для разработки игр и других визуально насыщенных приложений. Он поддерживает управление окнами, обработку событий пользовательского интерфейса, игровые контроллеры и джойстики, графику **OpenGL**, загрузку изображений и видео, а также воспроизведение звуков и музыки. Pyglet работает на Windows, OS X и Linux.\n",
    "\n",
    "Некоторые из особенностей pyglet:\n",
    "\n",
    "- Никаких внешних зависимостей или требований к установке.\n",
    "- pyglet позволяет использовать столько окон, сколько вам нужно, и полностью поддерживает настройки нескольких мониторов для использования с полноэкранными играми и приложениями.\n",
    "- pyglet имеет встроенную поддержку распространенных аудио и графических форматов и может дополнительно использовать *ffmpeg* для загрузки практически любых других сжатых аудио или видеофайлов.\n",
    "- pyglet предоставляется по лицензии с открытым исходным кодом BSD, что позволяет использовать его как для коммерческих, так и для других проектов с открытым исходным кодом с очень небольшими ограничениями.\n",
    "\n",
    "Подробнее с бибилиотекой можно ознакомиться в [документации](https://docs.pyglet.org/en/latest/index.html)."
   ]
  },
  {
   "cell_type": "markdown",
   "id": "4f672db2",
   "metadata": {},
   "source": [
    "Для начала установим библиотеку"
   ]
  },
  {
   "cell_type": "code",
   "execution_count": 3,
   "id": "e6f51261",
   "metadata": {},
   "outputs": [
    {
     "name": "stdout",
     "output_type": "stream",
     "text": [
      "Requirement already satisfied: pyglet in c:\\users\\gorge\\anaconda3\\lib\\site-packages (2.0.4)\n"
     ]
    }
   ],
   "source": [
    " !pip install pyglet"
   ]
  },
  {
   "cell_type": "markdown",
   "id": "6ed5c7d6",
   "metadata": {},
   "source": [
    "## Работа с окнами\n",
    "\n",
    "Команда `pyglet.window.Window()` позволит нам вывести окно в котором будет отображаться содержимое приложения.\n",
    "\n",
    "**Мы можем:**\n",
    "   - указать размер окна в качестве первых двух аргументов конструктора window\n",
    "    \n",
    "   - разрешить пользователю изменять размер вашего окна, указав `resizable=True`\n",
    "       \n",
    "   - `set_minimum_size` и `set_maximum_size` позволят ограничить размер окна\n",
    "   \n",
    "   - с помощью команды `fullscreen=True` превести окно в полноэкранный режим\n",
    "       \n",
    "   - вручную отрегулировать положение окна с помощью`x, y = window.get_location()` и `window.set_location(x + 20, y  + 20)`\n",
    "   \n",
    "   - вывести наше окно с помошью `@window.event`\n",
    "    \n",
    "Команда `pyglet.app.run()` позволит pyglet реагировать на события приложения, такие как мышь и клавиатура."
   ]
  },
  {
   "cell_type": "code",
   "execution_count": 2,
   "id": "4695d91b",
   "metadata": {},
   "outputs": [
    {
     "name": "stderr",
     "output_type": "stream",
     "text": [
      "C:\\Users\\Gorge\\anaconda3\\lib\\site-packages\\pyglet\\libs\\win32\\__init__.py:285: UserWarning: Could not set COM MTA mode. Unexpected behavior may occur.\n",
      "  warnings.warn(\"Could not set COM MTA mode. Unexpected behavior may occur.\")\n"
     ]
    }
   ],
   "source": [
    "import pyglet \n",
    "    \n",
    "window1 = pyglet.window.Window(1280, 720, resizable=True) \n",
    "\n",
    "@window1.event\n",
    "def on_resize(width, height):\n",
    "    window1.set_minimum_size(320, 200)\n",
    "    window1.set_maximum_size(1280, 720)\n",
    "           \n",
    "pyglet.app.run()"
   ]
  },
  {
   "cell_type": "markdown",
   "id": "ac270ee9",
   "metadata": {},
   "source": [
    "### Внешний вид\n",
    "\n",
    "**Стиль окна**\n",
    "\n",
    "WINDOW_STYLE_DEFAULT: ![Тут должна быть катринка](https://docs.pyglet.org/en/latest/_images/window_xp_default.png)\n",
    "WINDOW_STYLE_DIALOG: ![Тут должна быть катринка](https://docs.pyglet.org/en/latest/_images/window_xp_dialog.png)\n",
    "WINDOW_STYLE_TOOL: ![Тут должна быть катринка](https://docs.pyglet.org/en/latest/_images/window_xp_tool.png)\n",
    "WINDOW_STYLE_TRANSPARENT: ![Тут должна быть катринка](https://docs.pyglet.org/en/latest/_images/window_xp_transparent.png)\n",
    "WINDOW_STYLE_OVERLAY: ![Тут должна быть катринка](https://docs.pyglet.org/en/latest/_images/window_xp_overlay.png)\n",
    "\n",
    "Мы можем указать стиль окна в **Window** конструкторе:"
   ]
  },
  {
   "cell_type": "code",
   "execution_count": 24,
   "id": "4c4e028a",
   "metadata": {},
   "outputs": [],
   "source": [
    "import pyglet \n",
    "    \n",
    "window = pyglet.window.Window(1280, 720, style=pyglet.window.Window.WINDOW_STYLE_DIALOG,  resizable=True) \n",
    "\n",
    "@window.event\n",
    "def on_resize(width, height):\n",
    "    window.set_minimum_size(320, 200)\n",
    "    window.set_maximum_size(1280, 720)\n",
    "           \n",
    "pyglet.app.run()"
   ]
  },
  {
   "cell_type": "markdown",
   "id": "402725f6",
   "metadata": {},
   "source": [
    "**Заголовок и значек**\n",
    "\n",
    "Вы можете установить заголовок и значек для приложения, используя `set_caption()` и `set_icon()` соответственно"
   ]
  },
  {
   "cell_type": "code",
   "execution_count": 1,
   "id": "4f845aba",
   "metadata": {},
   "outputs": [
    {
     "name": "stderr",
     "output_type": "stream",
     "text": [
      "C:\\Users\\Gorge\\anaconda3\\lib\\site-packages\\pyglet\\libs\\win32\\__init__.py:285: UserWarning: Could not set COM MTA mode. Unexpected behavior may occur.\n",
      "  warnings.warn(\"Could not set COM MTA mode. Unexpected behavior may occur.\")\n"
     ]
    }
   ],
   "source": [
    "import pyglet \n",
    "    \n",
    "window = pyglet.window.Window(1280, 720, style=pyglet.window.Window.WINDOW_STYLE_DIALOG, caption='Пример', resizable=True) \n",
    "\n",
    "icon = pyglet.image.load('kit.jpg')\n",
    "window.set_icon(icon)\n",
    "\n",
    "@window.event    \n",
    "def on_resize(width, height):\n",
    "    window.set_minimum_size(320, 200)\n",
    "    window.set_maximum_size(1280, 720)\n",
    "           \n",
    "pyglet.app.run()"
   ]
  },
  {
   "cell_type": "markdown",
   "id": "d545d981",
   "metadata": {},
   "source": [
    "### Окно подклассов\n",
    "Полезным шаблоном в pyglet является создание подклассов **Window** для каждого типа окна, которое мы будем отображать, или в качестве основного класса приложения. Есть несколько преимуществ:\n",
    "\n",
    "- Мы можем загружать шрифты и другие ресурсы из конструктора, гарантируя, что контекст **OpenGL** уже создан.\n",
    "- Мы можем добавить обработчики событий, просто определив их в классе. Событие `on_resize()` будет вызвано, как только окно будет создано.\n",
    "- Уменьшается потребность в глобальных переменных, поскольку мы можем поддерживать состояние приложения в окне."
   ]
  },
  {
   "cell_type": "code",
   "execution_count": 1,
   "id": "5352284f",
   "metadata": {},
   "outputs": [
    {
     "name": "stderr",
     "output_type": "stream",
     "text": [
      "C:\\Users\\Gorge\\anaconda3\\lib\\site-packages\\pyglet\\libs\\win32\\__init__.py:285: UserWarning: Could not set COM MTA mode. Unexpected behavior may occur.\n",
      "  warnings.warn(\"Could not set COM MTA mode. Unexpected behavior may occur.\")\n"
     ]
    }
   ],
   "source": [
    "import pyglet \n",
    "class HelloWorldWindow(pyglet.window.Window):\n",
    "    def __init__(self, *args, **kwargs):\n",
    "        super().__init__(*args, **kwargs)\n",
    "\n",
    "        self.label = pyglet.text.Label('Hello, world!')\n",
    "\n",
    "    def on_draw(self):\n",
    "        self.clear()\n",
    "        self.label.draw()\n",
    "\n",
    "if __name__ == '__main__':\n",
    "    window = HelloWorldWindow(1280, 720, 'My Window')\n",
    "    pyglet.app.run()\n"
   ]
  },
  {
   "cell_type": "markdown",
   "id": "671f8863",
   "metadata": {},
   "source": [
    "## Подключение клавиатуры\n",
    "\n",
    "### События клавиатуры\n",
    "\n",
    "События `on_key_press()` и `on_key_release()` запускаются при нажатии или отпускании любой клавиши на клавиатуре соответственно. На эти события не влияет “повтор клавиши” – после нажатия клавиши для этой клавиши больше не будет событий, пока она не будет отпущена.<br/>\n",
    "Оба события параметризуются одними и теми же аргументами:"
   ]
  },
  {
   "cell_type": "markdown",
   "id": "2c59b112",
   "metadata": {},
   "source": [
    "```python\n",
    "def on_key_press(symbol, modifiers):\n",
    "    pass\n",
    "\n",
    "def on_key_release(symbol, modifiers):\n",
    "    pass\n",
    "```"
   ]
  },
  {
   "cell_type": "markdown",
   "id": "987d3709",
   "metadata": {},
   "source": [
    "Аргумент symbol - это целое число, представляющее “виртуальный” код ключа. Он не соответствует какой-либо конкретной схеме нумерации; в частности, символ не является кодом символа *ASCII*.<br/>\n",
    "pyglet содержит символы клавиш, которые не зависят от оборудования и платформы для многих типов клавиатур. Они определены в `pyglet.window.key` в качестве констант."
   ]
  },
  {
   "cell_type": "markdown",
   "id": "b2b81a95",
   "metadata": {},
   "source": [
    "### символы\n",
    "\n",
    "key.A<br/>\n",
    "key.B<br/>\n",
    "...<br/>\n",
    "\n",
    "### числа\n",
    "\n",
    "key._1<br/>\n",
    "key._2<br/>\n",
    "...<br/>\n",
    "\n",
    "### именные клавишы\n",
    "\n",
    "key.ENTER or key.RETURN<br/>\n",
    "key.SPACE<br/>\n",
    "key.BACKSPACE<br/>\n",
    "key.DELETE<br/>\n",
    "key.MINUS<br/>\n",
    "key.EQUAL<br/>\n",
    "key.BACKSLASH<br/>\n",
    "\n",
    "key.LEFT<br/>\n",
    "key.RIGHT<br/>\n",
    "key.UP<br/>\n",
    "key.DOWN<br/>\n",
    "key.HOME<br/>\n",
    "key.END<br/>\n",
    "key.PAGEUP<br/>\n",
    "key.PAGEDOWN<br/>\n",
    "\n",
    "key.F1<br/>\n",
    "key.F2<br/>\n",
    "...<br/>\n",
    "\n",
    "### клавиши на цифровой клавиатуре\n",
    "\n",
    "key.NUM_1<br/>\n",
    "key.NUM_2<br/>\n",
    "...<br/>\n",
    "key.NUM_EQUAL<br/>\n",
    "key.NUM_DIVIDE<br/>\n",
    "key.NUM_MULTIPLY<br/>\n",
    "key.NUM_SUBTRACT<br/>\n",
    "key.NUM_ADD<br/>\n",
    "key.NUM_DECIMAL<br/>\n",
    "key.NUM_ENTER<br/>"
   ]
  },
  {
   "cell_type": "markdown",
   "id": "0a2df869",
   "metadata": {},
   "source": [
    "Модификаторы, которые активны при создании события, указываются в параметре `modifiers`."
   ]
  },
  {
   "cell_type": "markdown",
   "id": "50ae11ac",
   "metadata": {},
   "source": [
    "MOD_SHIFT<br/>\n",
    "MOD_CTRL<br/>\n",
    "MOD_ALT    -     Недоступен в Mac OS X<br/>\n",
    "MOD_WINDOWS   -  Доступен только в Windows<br/>\n",
    "MOD_COMMAND    - Доступен только в Mac OS X<br/>\n",
    "MOD_OPTION    -  Доступен только в Mac OS X<br/>\n",
    "MOD_CAPSLOCK<br/>\n",
    "MOD_NUMLOCK<br/>\n",
    "MOD_SCROLLLOCK<br/>\n",
    "MOD_ACCEL   -    Эквивалент *MOD_CTRL* или *MOD_COMMAND* в Mac OS X<br/>"
   ]
  },
  {
   "cell_type": "markdown",
   "id": "38a15dd8",
   "metadata": {},
   "source": [
    "Пример записи:"
   ]
  },
  {
   "cell_type": "code",
   "execution_count": 3,
   "id": "383bd756",
   "metadata": {},
   "outputs": [],
   "source": [
    "import pyglet\n",
    "from pyglet.window import key\n",
    "  \n",
    "window = pyglet.window.Window ()\n",
    "\n",
    "@window.event\n",
    "def on_key_press(symbol, modifiers):\n",
    "    if symbol == key.A:\n",
    "        print (\"A Key Was Pressed\")\n",
    " \n",
    "    elif symbol == key.B:\n",
    "        print (\"B Key Was Pressed\")\n",
    " \n",
    "    elif symbol == key.ENTER:\n",
    "        print (\"Enter Key Was Pressed\")\n",
    "        \n",
    "@window.event\n",
    "def on_draw():\n",
    "    window.clear()\n",
    "    \n",
    "pyglet.app.run()"
   ]
  },
  {
   "cell_type": "markdown",
   "id": "36fabf2c",
   "metadata": {},
   "source": [
    "## Подключение мыши\n",
    "\n",
    "Самое основное событие мыши `on_mouse_motion(x, y, dx, dy)` - это то, которое отправляется при каждом перемещении мыши  \n",
    "Параметры x и y задают координаты указателя мыши относительно нижнего левого угла окна.  \n",
    "Параметры dx и dy задают расстояние, пройденное мышью вдоль каждой оси, чтобы добраться до ее текущего положения."
   ]
  },
  {
   "cell_type": "code",
   "execution_count": 1,
   "id": "d6db91e8",
   "metadata": {},
   "outputs": [
    {
     "name": "stderr",
     "output_type": "stream",
     "text": [
      "C:\\Users\\Gorge\\anaconda3\\lib\\site-packages\\pyglet\\libs\\win32\\__init__.py:285: UserWarning: Could not set COM MTA mode. Unexpected behavior may occur.\n",
      "  warnings.warn(\"Could not set COM MTA mode. Unexpected behavior may occur.\")\n"
     ]
    }
   ],
   "source": [
    "import pyglet\n",
    "\n",
    "window = pyglet.window.Window()\n",
    "\n",
    "label = pyglet.text.Label('Hello World!',font_name='Arial',font_size=36, x=0, y=0)\n",
    "\n",
    "@window.event                       \n",
    "def on_mouse_motion(x, y, dx, dy):\n",
    "    window.clear()\n",
    "    label.x = x\n",
    "    label.y = y\n",
    "\n",
    "\n",
    "@window.event\n",
    "def on_draw():\n",
    "    label.draw()\n",
    "\n",
    "pyglet.app.run()"
   ]
  },
  {
   "cell_type": "markdown",
   "id": "dbe98554",
   "metadata": {},
   "source": [
    "Следующие события отправляются окном при нажатии или отпускании кнопки мыши или при перемещении мыши при удерживании любой кнопки нажатой:"
   ]
  },
  {
   "cell_type": "markdown",
   "id": "8fe26471",
   "metadata": {},
   "source": [
    "```python\n",
    "def on_mouse_press(x, y, button, modifiers):\n",
    "    pass\n",
    "\n",
    "def on_mouse_release(x, y, button, modifiers):\n",
    "    pass\n",
    "\n",
    "def on_mouse_drag(x, y, dx, dy, button, modifiers):\n",
    "    pass\n",
    "```"
   ]
  },
  {
   "cell_type": "markdown",
   "id": "1d8c0d06",
   "metadata": {},
   "source": [
    "События нажатия и отпускания не требуют параметров dx и dy, поскольку в этом случае они были бы равны нулю.<br/>\n",
    "Параметр `modifiers` соответствует событиям клавиатуры.<br/>\n",
    "Параметр `button` указывает, какая кнопка мыши была нажата, и является одной из следующих констант:"
   ]
  },
  {
   "cell_type": "markdown",
   "id": "399a3f5b",
   "metadata": {},
   "source": [
    "*pyglet.window.mouse.LEFT<br/>\n",
    "pyglet.window.mouse.MIDDLE<br/>\n",
    "pyglet.window.mouse.RIGHT<br/>*"
   ]
  },
  {
   "cell_type": "markdown",
   "id": "71eb3a55",
   "metadata": {},
   "source": [
    "Существуют события, когда мышь входит в окно или выходит из него:"
   ]
  },
  {
   "cell_type": "markdown",
   "id": "c7114917",
   "metadata": {},
   "source": [
    "```python\n",
    "def on_mouse_enter(x, y):\n",
    "    pass\n",
    "\n",
    "def on_mouse_leave(x, y):\n",
    "    pass\n",
    "```"
   ]
  },
  {
   "cell_type": "markdown",
   "id": "f8d1d047",
   "metadata": {},
   "source": [
    "Колесо прокрутки мыши генерирует `on_mouse_scroll()` событие:"
   ]
  },
  {
   "cell_type": "markdown",
   "id": "044899fb",
   "metadata": {},
   "source": [
    "```python\n",
    "def on_mouse_scroll(x, y, scroll_x, scroll_y):\n",
    "    pass\n",
    "```"
   ]
  },
  {
   "cell_type": "markdown",
   "id": "dd90d11e",
   "metadata": {},
   "source": [
    "Параметр `scroll_y` указывает количество “щелчков”, на которые было перемещено колесо, с положительными числами, указывающими, что колесо было сдвинуто вперед.<br/>\n",
    "Параметр `scroll_x` равен 0 для большинства мышей, однако некоторые мыши, такие как *Apple Mighty Mouse*, используют шар вместо колеса; параметр `scroll_x` в этом случае задает горизонтальное перемещение."
   ]
  },
  {
   "cell_type": "markdown",
   "id": "f957612a",
   "metadata": {},
   "source": [
    "## Изменение курсора мыши\n",
    "\n",
    "Используется `set_mouse_cursor()` для изменения внешнего вида курсора мыши.<br/>\n",
    "Курсоры, определяемые операционной системой, можно получить с помощью `get_system_mouse_cursor()`.<br/>\n",
    "Изменение курсора будет применимо только к окну, в которое вы вносите изменения:"
   ]
  },
  {
   "cell_type": "markdown",
   "id": "f9738cc4",
   "metadata": {},
   "source": [
    "CURSOR_DEFAULT: ![тут должна быть картинка](https://docs.pyglet.org/en/latest/_images/cursor_win_default.png)\n",
    "CURSOR_CROSSHAIR: ![тут должна быть картинка](https://docs.pyglet.org/en/latest/_images/cursor_win_crosshair.png)\n",
    "CURSOR_HAND: ![тут должна быть картинка](https://docs.pyglet.org/en/latest/_images/cursor_win_hand.png)\n",
    "CURSOR_HELP: ![тут должна быть картинка](https://docs.pyglet.org/en/latest/_images/cursor_win_help.png)\n",
    "CURSOR_NO: ![тут должна быть картинка](https://docs.pyglet.org/en/latest/_images/cursor_win_no.png)\n",
    "CURSOR_SIZE: ![тут должна быть картинка](https://docs.pyglet.org/en/latest/_images/cursor_win_size.png)\n",
    "CURSOR_SIZE_UP_DOWN: ![тут должна быть картинка](https://docs.pyglet.org/en/latest/_images/cursor_win_size_up_down.png)\n",
    "CURSOR_SIZE_DOWN_LEFT: ![тут должна быть картинка](https://docs.pyglet.org/en/latest/_images/cursor_win_size_nesw.png)\n",
    "CURSOR_SIZE_DOWN_RIGHT: ![тут должна быть картинка](https://docs.pyglet.org/en/latest/_images/cursor_win_size_nwse.png)\n",
    "CURSOR_SIZE_LEFT_RIGHT: ![тут должна быть картинка](https://docs.pyglet.org/en/latest/_images/cursor_win_size_left_right.png)\n",
    "CURSOR_TEXT: ![тут должна быть картинка](https://docs.pyglet.org/en/latest/_images/cursor_win_text.png)\n",
    "CURSOR_WAIT: ![тут должна быть картинка](https://docs.pyglet.org/en/latest/_images/cursor_win_wait.png)\n",
    "CURSOR_WAIT_ARROW: ![тут должна быть картинка](https://docs.pyglet.org/en/latest/_images/cursor_win_wait_arrow.png)  \n",
    "Кроме того, вы можете использовать свое собственное изображение в качестве курсора мыши, используется `pyglet.image.load()`"
   ]
  },
  {
   "cell_type": "markdown",
   "id": "90a36bf7",
   "metadata": {},
   "source": [
    "```python\n",
    "image = pyglet.image.load('cursor.png')\n",
    "cursor = pyglet.window.ImageMouseCursor(image, 16, 8)\n",
    "window.set_mouse_cursor(cursor)\n",
    "```"
   ]
  },
  {
   "cell_type": "markdown",
   "id": "df15ee91",
   "metadata": {},
   "source": [
    "Пример:"
   ]
  },
  {
   "cell_type": "code",
   "execution_count": 1,
   "id": "f57656e4",
   "metadata": {},
   "outputs": [
    {
     "name": "stderr",
     "output_type": "stream",
     "text": [
      "C:\\Users\\Gorge\\anaconda3\\lib\\site-packages\\pyglet\\libs\\win32\\__init__.py:285: UserWarning: Could not set COM MTA mode. Unexpected behavior may occur.\n",
      "  warnings.warn(\"Could not set COM MTA mode. Unexpected behavior may occur.\")\n"
     ]
    }
   ],
   "source": [
    "import pyglet\n",
    "\n",
    "window = pyglet.window.Window()\n",
    "\n",
    "label = pyglet.text.Label('Hello World!',font_name='Arial',font_size=36, x=0, y=0)\n",
    "\n",
    "@window.event                       \n",
    "def on_mouse_drag(x, y, dx, dy, button, modifiers):\n",
    "    if button & pyglet.window.mouse.LEFT:\n",
    "        window.clear()\n",
    "        cursor = window.get_system_mouse_cursor(window.CURSOR_HAND)\n",
    "        window.set_mouse_cursor(cursor)\n",
    "        label.x = x\n",
    "        label.y = y\n",
    "\n",
    "@window.event \n",
    "def on_mouse_release(x, y, button, modifiers):\n",
    "    if button & pyglet.window.mouse.LEFT:\n",
    "        cursor = window.get_system_mouse_cursor(window.CURSOR_DEFAULT)\n",
    "        window.set_mouse_cursor(cursor)\n",
    "        \n",
    "@window.event \n",
    "def on_draw():\n",
    "    label.draw()\n",
    "\n",
    "pyglet.app.run()"
   ]
  },
  {
   "cell_type": "markdown",
   "id": "a44075e9",
   "metadata": {},
   "source": [
    "## Обработка изображения\n",
    "\n",
    "Для загрузки изображения используется команды `pyglet.image.load` или `pyglet.resource.image`, регулировать место нахождение точки привязки с помощью `.anchor_x` и `.anchor_y`, а для вывода изображения на экран в обработчике `on_draw` используем команду `blit()`:"
   ]
  },
  {
   "cell_type": "code",
   "execution_count": null,
   "id": "507caa0a",
   "metadata": {},
   "outputs": [],
   "source": [
    "import pyglet\n",
    "\n",
    "window = pyglet.window.Window(1280, 720)\n",
    "image = pyglet.resource.image('kit.jpg')\n",
    "\n",
    "image.anchor_x = image.width//2\n",
    "image.anchor_y = image.height//2\n",
    "                                                                        \n",
    "@window.event\n",
    "def on_draw():\n",
    "    window.clear()\n",
    "    image.blit(0,0)\n",
    "\n",
    "pyglet.app.run()"
   ]
  },
  {
   "cell_type": "markdown",
   "id": "bd37056e",
   "metadata": {},
   "source": [
    "Но более функциональным методом обработки изображения является `Sprite`.<br/>\n",
    "Для этого используется команда `pyglet.sprite.Sprite()`, для вывода на экран в обработчике `on_draw` используем команду `draw()`.<br/>\n",
    "Если же мы хотим добавить файл с форматом **.gif** нужно использовать команду `pyglet.image.load_animation()`:"
   ]
  },
  {
   "cell_type": "code",
   "execution_count": null,
   "id": "0e6aeb22",
   "metadata": {},
   "outputs": [],
   "source": [
    "import pyglet\n",
    "\n",
    "window = pyglet.window.Window(1280, 720)\n",
    "image = pyglet.resource.image('kit.jpg')\n",
    "animation = pyglet.image.load_animation('1.gif')\n",
    "sprite1 = pyglet.sprite.Sprite(image)\n",
    "sprite2 = pyglet.sprite.Sprite(animation)\n",
    "\n",
    "@window.event\n",
    "def on_draw():\n",
    "    window.clear()\n",
    "    sprite1.draw()\n",
    "    sprite2.draw()\n",
    "\n",
    "def update(dt):\n",
    "    # Перемещение спрайта на 10 пикселей в секунду\n",
    "    sprite1.x += dt * 10\n",
    "    \n",
    "# Вызов обновления 60 раз в секунду\n",
    "pyglet.clock.schedule_interval(update, 1/60.)\n",
    "\n",
    "pyglet.app.run()"
   ]
  },
  {
   "cell_type": "markdown",
   "id": "85478428",
   "metadata": {},
   "source": [
    "Если вам нужно нарисовать много спрайтов, рекомендуется использовать метод `Batch`.<br/>\n",
    "Благодаря нему вам не придется для каждого спрайта прописывать `draw()`.<br/>\n",
    "Проблема данного подхода в том, что порядок в котором они быдут нарисованы не гарантируется, если порядок важен стоит создать группы с помощью `pyglet.graphics.OrderedGroup()`:"
   ]
  },
  {
   "cell_type": "markdown",
   "id": "3806b84a",
   "metadata": {},
   "source": [
    "```python\n",
    "batch = pyglet.graphics.Batch()\n",
    "background = pyglet.graphics.OrderedGroup(0)\n",
    "foreground = pyglet.graphics.OrderedGroup(1)\n",
    "\n",
    "sprites = [pyglet.sprite.Sprite(image, batch=batch, group=background),\n",
    "           pyglet.sprite.Sprite(image, batch=batch, group=background),\n",
    "           pyglet.sprite.Sprite(image, batch=batch, group=foreground),\n",
    "           pyglet.sprite.Sprite(image, batch=batch, group=foreground),\n",
    "           # ...]\n",
    "\n",
    "@window.event\n",
    "def on_draw():\n",
    "    window.clear()\n",
    "    batch.draw()\n",
    "```"
   ]
  },
  {
   "cell_type": "markdown",
   "id": "3b2c17fb",
   "metadata": {},
   "source": [
    "## Shape\n",
    "\n",
    "Мы можем создавать различные фигуры с определенным положением, размером, цветом и уровнем прозрачности:\n",
    "   \n",
    "   - `.opacity` - прозрачность\n",
    "\n",
    "   - `.rotation` - поворот фигуры\n",
    "   \n",
    "Больше пропро фигуры `pyglet.shapes` можно узнать тут https://docs.pyglet.org/en/latest/modules/shapes.html"
   ]
  },
  {
   "cell_type": "code",
   "execution_count": null,
   "id": "a8b6b75f",
   "metadata": {},
   "outputs": [],
   "source": [
    "from pyglet import shapes\n",
    "    \n",
    "window = pyglet.window.Window(1280, 720, resizable=True) \n",
    "\n",
    "batch = pyglet.graphics.Batch()\n",
    "\n",
    "circle = shapes.Circle(700, 150, 100, color=(50, 225, 30), batch=batch)\n",
    "square = shapes.Rectangle(200, 200, 200, 200, color=(55, 55, 255), batch=batch)\n",
    "rectangle = shapes.Rectangle(250, 300, 400, 200, color=(255, 22, 20), batch=batch)\n",
    "rectangle.opacity = 128\n",
    "rectangle.rotation = 33\n",
    "line = shapes.Line(100, 100, 100, 200, width=19, batch=batch)\n",
    "line2 = shapes.Line(150, 150, 444, 111, width=4, color=(200, 20, 20), batch=batch)\n",
    "star = shapes.Star(800, 400, 60, 40, num_spikes=20, color=(255, 255, 0), batch=batch)\n",
    "\n",
    "@window.event\n",
    "def on_draw():\n",
    "    window.clear()\n",
    "    batch.draw()\n",
    "    \n",
    "pyglet.app.run()"
   ]
  },
  {
   "cell_type": "markdown",
   "id": "2cd68405",
   "metadata": {},
   "source": [
    "### Воспроизведение аудио и видео\n",
    "Для загрузки аудио файла мы будем использовать команду `pyglet.media.load()`<br/>\n",
    "Для воспроизведения звука можно воспользоваться командой `play()`, но куда практичней будет использовать класс `Player`<br/>\n",
    "\n",
    "Стандартные элементы управления для управления воспроизведением предоставляются этими методами:\n",
    "\n",
    "- play() - Начать или возобновить воспроизведение текущего источника.\n",
    "- pause() - Приостановить воспроизведение текущего источника.\n",
    "- next_source() - Переход к следующему.\n",
    "- seek() - Ищет определенное время в текущем источнике.\n",
    "\n",
    "Существует несколько свойств, описывающих текущее состояние проигрывателя:\n",
    "\n",
    "- time - Текущая позиция воспроизведения (в секундах).\n",
    "- playing - `True`, если проигрыватель в данный момент воспроизводит, `False`, если в очереди нет источников или проигрыватель приостановлен.\n",
    "- source - Ссылка на текущий воспроизводимый источник.\n",
    "- volume - Уровень звука, выраженный в виде плавающего значения от 0 (отключение звука) до 1 (нормальная громкость).\n",
    "- loop - `True` если текущий источник должен быть повторен при достижении конца. Если установлено значение `False`, воспроизведение продолжится до следующего источника в очереди.\n",
    "\n",
    "Метод `queue()` используется для постановки медиафайла в очередь на проигрывателе "
   ]
  },
  {
   "cell_type": "code",
   "execution_count": 3,
   "id": "b692437f",
   "metadata": {},
   "outputs": [],
   "source": [
    "\n",
    "import pyglet\n",
    "\n",
    "window= pyglet.window.Window()\n",
    "\n",
    "sound = pyglet.media.load('R.mp3')\n",
    "sound.play()\n",
    "pyglet.app.run()\n"
   ]
  },
  {
   "cell_type": "markdown",
   "id": "3ec4ac95",
   "metadata": {},
   "source": [
    "Пример воспроизведения звука"
   ]
  },
  {
   "cell_type": "code",
   "execution_count": 8,
   "id": "02b53a42",
   "metadata": {},
   "outputs": [],
   "source": [
    "import pyglet\n",
    "\n",
    "window= pyglet.window.Window()\n",
    "\n",
    "sound = pyglet.media.load('H.mp3')\n",
    "\n",
    "player = pyglet.media.Player()\n",
    "player.queue(sound)\n",
    "player.volume = 0.03\n",
    "player.play()\n",
    "\n",
    "@window.event\n",
    "def on_key_press(symbol, modifier):\n",
    "    if symbol == pyglet.window.key.P:\n",
    "        player.pause()\n",
    "         \n",
    "    if symbol == pyglet.window.key.R:                 \n",
    "        player.play()  \n",
    "    \n",
    "    if symbol == pyglet.window.key.M: \n",
    "        player.seek(180)\n",
    "        \n",
    "    if symbol == pyglet.window.key.LEFT: \n",
    "        player.seek(player.time-10)\n",
    "        \n",
    "    if symbol == pyglet.window.key.RIGHT: \n",
    "        player.seek(player.time+10)\n",
    "\n",
    "pyglet.app.run()"
   ]
  },
  {
   "cell_type": "markdown",
   "id": "47c8a01c",
   "metadata": {},
   "source": [
    "Пример воспроизведения видео:"
   ]
  },
  {
   "cell_type": "code",
   "execution_count": 4,
   "id": "256ed862",
   "metadata": {},
   "outputs": [
    {
     "ename": "DecodeException",
     "evalue": "[WinError -1072875852] Данные, представленные для типа носителя, являются недопустимыми, несогласованными или не поддерживаются объектом",
     "output_type": "error",
     "traceback": [
      "\u001b[1;31m---------------------------------------------------------------------------\u001b[0m",
      "\u001b[1;31mDecodeException\u001b[0m                           Traceback (most recent call last)",
      "Input \u001b[1;32mIn [4]\u001b[0m, in \u001b[0;36m<cell line: 8>\u001b[1;34m()\u001b[0m\n\u001b[0;32m      6\u001b[0m player \u001b[38;5;241m=\u001b[39m pyglet\u001b[38;5;241m.\u001b[39mmedia\u001b[38;5;241m.\u001b[39mPlayer()\n\u001b[0;32m      7\u001b[0m source \u001b[38;5;241m=\u001b[39m pyglet\u001b[38;5;241m.\u001b[39mmedia\u001b[38;5;241m.\u001b[39mStreamingSource()\n\u001b[1;32m----> 8\u001b[0m MediaLoad \u001b[38;5;241m=\u001b[39m \u001b[43mpyglet\u001b[49m\u001b[38;5;241;43m.\u001b[39;49m\u001b[43mmedia\u001b[49m\u001b[38;5;241;43m.\u001b[39;49m\u001b[43mload\u001b[49m\u001b[43m(\u001b[49m\u001b[43mvidPath\u001b[49m\u001b[43m)\u001b[49m\n\u001b[0;32m     10\u001b[0m player\u001b[38;5;241m.\u001b[39mqueue(MediaLoad)\n\u001b[0;32m     11\u001b[0m player\u001b[38;5;241m.\u001b[39mplay()\n",
      "File \u001b[1;32m~\\anaconda3\\lib\\site-packages\\pyglet\\media\\__init__.py:80\u001b[0m, in \u001b[0;36mload\u001b[1;34m(filename, file, streaming, decoder)\u001b[0m\n\u001b[0;32m     78\u001b[0m     \u001b[38;5;28;01mreturn\u001b[39;00m decoder\u001b[38;5;241m.\u001b[39mdecode(filename, file, streaming\u001b[38;5;241m=\u001b[39mstreaming)\n\u001b[0;32m     79\u001b[0m \u001b[38;5;28;01melse\u001b[39;00m:\n\u001b[1;32m---> 80\u001b[0m     \u001b[38;5;28;01mreturn\u001b[39;00m \u001b[43m_codec_registry\u001b[49m\u001b[38;5;241;43m.\u001b[39;49m\u001b[43mdecode\u001b[49m\u001b[43m(\u001b[49m\u001b[43mfilename\u001b[49m\u001b[43m,\u001b[49m\u001b[43m \u001b[49m\u001b[43mfile\u001b[49m\u001b[43m,\u001b[49m\u001b[43m \u001b[49m\u001b[43mstreaming\u001b[49m\u001b[38;5;241;43m=\u001b[39;49m\u001b[43mstreaming\u001b[49m\u001b[43m)\u001b[49m\n",
      "File \u001b[1;32m~\\anaconda3\\lib\\site-packages\\pyglet\\util.py:180\u001b[0m, in \u001b[0;36mCodecRegistry.decode\u001b[1;34m(self, filename, file, **kwargs)\u001b[0m\n\u001b[0;32m    178\u001b[0m \u001b[38;5;28;01mif\u001b[39;00m \u001b[38;5;129;01mnot\u001b[39;00m first_exception:\n\u001b[0;32m    179\u001b[0m     \u001b[38;5;28;01mraise\u001b[39;00m DecodeException(\u001b[38;5;124mf\u001b[39m\u001b[38;5;124m\"\u001b[39m\u001b[38;5;124mNo decoders available for this file type: \u001b[39m\u001b[38;5;132;01m{\u001b[39;00mfilename\u001b[38;5;132;01m}\u001b[39;00m\u001b[38;5;124m\"\u001b[39m)\n\u001b[1;32m--> 180\u001b[0m \u001b[38;5;28;01mraise\u001b[39;00m first_exception\n",
      "File \u001b[1;32m~\\anaconda3\\lib\\site-packages\\pyglet\\util.py:164\u001b[0m, in \u001b[0;36mCodecRegistry.decode\u001b[1;34m(self, filename, file, **kwargs)\u001b[0m\n\u001b[0;32m    162\u001b[0m \u001b[38;5;28;01mfor\u001b[39;00m decoder \u001b[38;5;129;01min\u001b[39;00m \u001b[38;5;28mself\u001b[39m\u001b[38;5;241m.\u001b[39mget_decoders(filename):\n\u001b[0;32m    163\u001b[0m     \u001b[38;5;28;01mtry\u001b[39;00m:\n\u001b[1;32m--> 164\u001b[0m         \u001b[38;5;28;01mreturn\u001b[39;00m decoder\u001b[38;5;241m.\u001b[39mdecode(filename, file, \u001b[38;5;241m*\u001b[39m\u001b[38;5;241m*\u001b[39mkwargs)\n\u001b[0;32m    165\u001b[0m     \u001b[38;5;28;01mexcept\u001b[39;00m DecodeException \u001b[38;5;28;01mas\u001b[39;00m e:\n\u001b[0;32m    166\u001b[0m         \u001b[38;5;28;01mif\u001b[39;00m \u001b[38;5;129;01mnot\u001b[39;00m first_exception:\n",
      "File \u001b[1;32m~\\anaconda3\\lib\\site-packages\\pyglet\\media\\codecs\\wmf.py:838\u001b[0m, in \u001b[0;36mWMFDecoder.decode\u001b[1;34m(self, filename, file, streaming)\u001b[0m\n\u001b[0;32m    836\u001b[0m \u001b[38;5;28;01mdef\u001b[39;00m \u001b[38;5;21mdecode\u001b[39m(\u001b[38;5;28mself\u001b[39m, filename, file, streaming\u001b[38;5;241m=\u001b[39m\u001b[38;5;28;01mTrue\u001b[39;00m):\n\u001b[0;32m    837\u001b[0m     \u001b[38;5;28;01mif\u001b[39;00m streaming:\n\u001b[1;32m--> 838\u001b[0m         \u001b[38;5;28;01mreturn\u001b[39;00m \u001b[43mWMFSource\u001b[49m\u001b[43m(\u001b[49m\u001b[43mfilename\u001b[49m\u001b[43m,\u001b[49m\u001b[43m \u001b[49m\u001b[43mfile\u001b[49m\u001b[43m)\u001b[49m\n\u001b[0;32m    839\u001b[0m     \u001b[38;5;28;01melse\u001b[39;00m:\n\u001b[0;32m    840\u001b[0m         \u001b[38;5;28;01mreturn\u001b[39;00m StaticSource(WMFSource(filename, file))\n",
      "File \u001b[1;32m~\\anaconda3\\lib\\site-packages\\pyglet\\media\\codecs\\wmf.py:471\u001b[0m, in \u001b[0;36mWMFSource.__init__\u001b[1;34m(self, filename, file)\u001b[0m\n\u001b[0;32m    468\u001b[0m     \u001b[38;5;28mself\u001b[39m\u001b[38;5;241m.\u001b[39m_load_audio()\n\u001b[0;32m    470\u001b[0m \u001b[38;5;28;01mif\u001b[39;00m \u001b[38;5;28mself\u001b[39m\u001b[38;5;241m.\u001b[39mdecode_video:\n\u001b[1;32m--> 471\u001b[0m     \u001b[38;5;28;43mself\u001b[39;49m\u001b[38;5;241;43m.\u001b[39;49m\u001b[43m_load_video\u001b[49m\u001b[43m(\u001b[49m\u001b[43m)\u001b[49m\n\u001b[0;32m    473\u001b[0m \u001b[38;5;28;01massert\u001b[39;00m \u001b[38;5;28mself\u001b[39m\u001b[38;5;241m.\u001b[39maudio_format \u001b[38;5;129;01mor\u001b[39;00m \u001b[38;5;28mself\u001b[39m\u001b[38;5;241m.\u001b[39mvideo_format, \u001b[38;5;124m\"\u001b[39m\u001b[38;5;124mSource was decoded, but no video or audio streams were found.\u001b[39m\u001b[38;5;124m\"\u001b[39m\n\u001b[0;32m    475\u001b[0m \u001b[38;5;66;03m# Get duration of the media file after everything has been ok to decode.\u001b[39;00m\n",
      "File \u001b[1;32m~\\anaconda3\\lib\\site-packages\\pyglet\\media\\codecs\\wmf.py:593\u001b[0m, in \u001b[0;36mWMFSource._load_video\u001b[1;34m(self, stream)\u001b[0m\n\u001b[0;32m    591\u001b[0m     \u001b[38;5;28mself\u001b[39m\u001b[38;5;241m.\u001b[39m_source_reader\u001b[38;5;241m.\u001b[39mSetCurrentMediaType(\u001b[38;5;28mself\u001b[39m\u001b[38;5;241m.\u001b[39m_video_stream_index, \u001b[38;5;28;01mNone\u001b[39;00m, uncompressed_mt)\n\u001b[0;32m    592\u001b[0m \u001b[38;5;28;01mexcept\u001b[39;00m \u001b[38;5;167;01mOSError\u001b[39;00m \u001b[38;5;28;01mas\u001b[39;00m err:  \u001b[38;5;66;03m# Can't decode codec.\u001b[39;00m\n\u001b[1;32m--> 593\u001b[0m     \u001b[38;5;28;01mraise\u001b[39;00m DecodeException(err) \u001b[38;5;28;01mfrom\u001b[39;00m \u001b[38;5;28mNone\u001b[39m\n\u001b[0;32m    595\u001b[0m height, width \u001b[38;5;241m=\u001b[39m \u001b[38;5;28mself\u001b[39m\u001b[38;5;241m.\u001b[39m_get_attribute_size(uncompressed_mt, MF_MT_FRAME_SIZE)\n\u001b[0;32m    597\u001b[0m \u001b[38;5;28mself\u001b[39m\u001b[38;5;241m.\u001b[39mvideo_format \u001b[38;5;241m=\u001b[39m VideoFormat(width\u001b[38;5;241m=\u001b[39mwidth, height\u001b[38;5;241m=\u001b[39mheight)\n",
      "\u001b[1;31mDecodeException\u001b[0m: [WinError -1072875852] Данные, представленные для типа носителя, являются недопустимыми, несогласованными или не поддерживаются объектом"
     ]
    }
   ],
   "source": [
    "import pyglet\n",
    "\n",
    "vidPath =\"R.mp4\"\n",
    "\n",
    "window= pyglet.window.Window(fullscreen=True)\n",
    "player = pyglet.media.Player()\n",
    "source = pyglet.media.StreamingSource()\n",
    "MediaLoad = pyglet.media.load(vidPath)\n",
    "\n",
    "player.queue(MediaLoad)\n",
    "player.play()\n",
    "\n",
    "@window.event\n",
    "def on_draw():\n",
    "    window.clear()\n",
    "    if player.source and player.source.video_format:\n",
    "        player.get_texture().blit(0,0)\n",
    "\n",
    "@window.event\n",
    "def on_key_press(symbol, modifier):\n",
    "    if symbol == pyglet.window.key.P:\n",
    "        player.pause()\n",
    "         \n",
    "    if symbol == pyglet.window.key.R:                 \n",
    "        player.play()        \n",
    "\n",
    "pyglet.app.run()"
   ]
  },
  {
   "cell_type": "markdown",
   "id": "39d77c38",
   "metadata": {},
   "source": [
    "Ппробуем написать что-нибудь на основе имеющихся знаний:"
   ]
  },
  {
   "cell_type": "code",
   "execution_count": 1,
   "id": "943960b2",
   "metadata": {},
   "outputs": [
    {
     "name": "stderr",
     "output_type": "stream",
     "text": [
      "C:\\Users\\Gorge\\anaconda3\\lib\\site-packages\\pyglet\\libs\\win32\\__init__.py:285: UserWarning: Could not set COM MTA mode. Unexpected behavior may occur.\n",
      "  warnings.warn(\"Could not set COM MTA mode. Unexpected behavior may occur.\")\n"
     ]
    }
   ],
   "source": [
    "import pyglet\n",
    "from pyglet.window import key\n",
    "from random import randint\n",
    "\n",
    "window = pyglet.window.Window(500,500)\n",
    "\n",
    "@window.event\n",
    "def on_draw():\n",
    "    window.clear()\n",
    "    draw_square(fd_x, fd_y, cell_size, colour =(255, 0, 0, 0))\n",
    "    for coords in tail:\n",
    "        draw_square(coords[0], coords[1], cell_size, colour = (127, 127, 127, 0))\n",
    "    draw_square(snk_x, snk_y, cell_size)\n",
    "    if game_over:\n",
    "        draw_game_over()\n",
    "\n",
    "def new_game():\n",
    "    global snk_x, snk_y, snk_dx, snk_dy, game_over, tail\n",
    "        \n",
    "    snk_x=window.width//cell_size//2*cell_size\n",
    "    snk_y=window.height//cell_size//2*cell_size\n",
    "    snk_dx, snk_dy = 0, 0\n",
    "    tail=[]\n",
    "    place_food()\n",
    "    game_over=False\n",
    "\n",
    "def draw_square(x, y, size, colour =(255, 255, 255, 0)):\n",
    "    img = pyglet.image.create(size, size, pyglet.image.SolidColorImagePattern(colour))\n",
    "    img.blit(x,y)\n",
    "    \n",
    "def place_food():\n",
    "    global fd_x, fd_y\n",
    "    fd_x = randint(0, (window.width//cell_size)-1) * cell_size\n",
    "    fd_y = randint(0, (window.height//cell_size)-1) * cell_size\n",
    "    \n",
    "def draw_game_over():\n",
    "    game_over_screen = pyglet.text.Label(f'Собрано:{len(tail)}\\n(Нажмите Space для игры)',font_size=24,\n",
    "                                       x=window.width//2, y=window.height//2, width=window.width, align='center',\n",
    "                                       anchor_x='center', anchor_y='center', multiline=True)\n",
    "    game_over_screen.draw()\n",
    "\n",
    "@window.event\n",
    "def on_key_press(symbol, modifires):\n",
    "    global snk_dx, snk_dy, game_over\n",
    "    \n",
    "    if not game_over:\n",
    "        if symbol == key.LEFT:\n",
    "            if snk_dx == 0:\n",
    "                snk_dx = -cell_size\n",
    "                snk_dy = 0\n",
    "        elif symbol == key.RIGHT:\n",
    "            if snk_dx == 0:\n",
    "                snk_dx = cell_size\n",
    "                snk_dy = 0\n",
    "        elif symbol == key.UP:\n",
    "            if snk_dy == 0:\n",
    "                snk_dx = 0\n",
    "                snk_dy = cell_size\n",
    "        elif symbol == key.DOWN:\n",
    "            if snk_dy == 0:\n",
    "                snk_dx = 0\n",
    "                snk_dy = -cell_size\n",
    "    else:\n",
    "        if symbol == key.SPACE:\n",
    "            new_game()\n",
    "    \n",
    "\n",
    "def update(dt):\n",
    "    global snk_x, snk_y, fd_x, fd_y, game_over\n",
    "    \n",
    "    if game_over:\n",
    "        return\n",
    "    \n",
    "    if game_over_condition():\n",
    "        game_over=True\n",
    "        return\n",
    "    \n",
    "    tail.append((snk_x,snk_y))\n",
    "    \n",
    "    snk_x += snk_dx\n",
    "    snk_y += snk_dy\n",
    "    \n",
    "    if snk_x == fd_x and snk_y == fd_y:\n",
    "        place_food()\n",
    "    else:\n",
    "        tail.pop(0)\n",
    "        \n",
    "def game_over_condition():\n",
    "    condition1 = snk_x + snk_dx < 0 or snk_x + snk_dx > window.width - cell_size or snk_y + snk_dy < 0 or snk_y + snk_dy > window.height - cell_size\n",
    "    condition2 = (snk_x, snk_y) in tail\n",
    "    return condition1 or condition2\n",
    "\n",
    "cell_size = 20\n",
    "\n",
    "\n",
    "tail=[]\n",
    "\n",
    "new_game()\n",
    "\n",
    "pyglet.clock.schedule_interval(update, 1/15)\n",
    "\n",
    "pyglet.app.run()"
   ]
  },
  {
   "cell_type": "code",
   "execution_count": null,
   "id": "e106f4af",
   "metadata": {},
   "outputs": [],
   "source": []
  }
 ],
 "metadata": {
  "kernelspec": {
   "display_name": "Python 3 (ipykernel)",
   "language": "python",
   "name": "python3"
  },
  "language_info": {
   "codemirror_mode": {
    "name": "ipython",
    "version": 3
   },
   "file_extension": ".py",
   "mimetype": "text/x-python",
   "name": "python",
   "nbconvert_exporter": "python",
   "pygments_lexer": "ipython3",
   "version": "3.9.7"
  }
 },
 "nbformat": 4,
 "nbformat_minor": 5
}
