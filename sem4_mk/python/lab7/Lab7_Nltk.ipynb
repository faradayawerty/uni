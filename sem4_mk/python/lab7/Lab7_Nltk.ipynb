{
 "cells": [
  {
   "cell_type": "markdown",
   "id": "04f5a71e-876f-453a-afd6-451a6c8c30a2",
   "metadata": {},
   "source": [
    "# Лабораторная работа 7"
   ]
  },
  {
   "cell_type": "markdown",
   "id": "47d654c0-37ae-4128-b97c-6342f080f77e",
   "metadata": {
    "tags": []
   },
   "source": [
    "## Библиотека nltk"
   ]
  },
  {
   "cell_type": "markdown",
   "id": "0a75af03-19c7-4949-a552-d32f0fc04b34",
   "metadata": {},
   "source": [
    "**1. (5 баллов)** Скачать несколько произведений разных русскоязычных авторов на ваш выбор (минимальное количество авторов - 5, минимальный объем текстов каждого автора - 100000 слов).\n",
    "\n",
    "Во всех текстах:\n",
    "1) разделите текст на предложения, \n",
    "2) разделите предложения по токенам, \n",
    "3) для каждого слова определите нормальную форму и часть речи. \n",
    "\n",
    "Продумайте формат хранения разобранных предложений (например, json).\n",
    "\n",
    "Автоматически составить таблицу (можно использовать pandas) со следующей информацией про каждого автора: \n",
    "\n",
    "1) ФИО,\n",
    "\n",
    "2) количество предложений,\n",
    "\n",
    "3) среднее количество слов в предложении,\n",
    "\n",
    "4) общее количество токенов (слов, знаков пунктуации и т.п.),\n",
    "\n",
    "5) общее количество слов,\n",
    "\n",
    "6) среднее количество слогов в словах (считается по количеству гласных букв),\n",
    "\n",
    "7) максимальное количество слогов в словах,\n",
    "\n",
    "8) самое длинное слово,\n",
    "\n",
    "9) процент существительных среди всех слов,\n",
    "\n",
    "10) процент прилагательных среди всех слов,\n",
    "\n",
    "11) процент глаголов среди всех слов,\n",
    "\n",
    "12) процент наречий среди всех слов,\n",
    "\n",
    "13) размер словаря автора (размер множества всех нормальных форм),\n",
    "\n",
    "14) 10 самых частых слов автора.\n",
    "\n",
    "\n",
    "Сохраните полученную информацию в файл csv или json.\n",
    "\n",
    "Совет: тестируйте на маленьких текстах, чтобы можно было вручную проверить результат."
   ]
  },
  {
   "cell_type": "code",
   "execution_count": 11,
   "id": "8f1ee3d4-3ff6-4f16-a374-4adc656195ad",
   "metadata": {},
   "outputs": [],
   "source": [
    "import pandas, nltk\n",
    "from nltk.tokenize import TweetTokenizer, sent_tokenize\n",
    "\n",
    "\n",
    "def main():\n",
    "    open('all_text.txt', 'w')\n",
    "    for filename in ['1.txt', '2.txt', '3.txt', '4.txt', '5.txt']:\n",
    "        with open(filename, 'r') as file:\n",
    "            tokenizer_words = TweetTokenizer()\n",
    "            tokens_sentences = [tokenizer_words.tokenize(t) for t in nltk.sent_tokenize(file.read())]\n",
    "            with open('all_text.txt', 'a') as newfile:\n",
    "                newfile.write(filename + ':\\n' + str(tokens_sentences) + '\\n\\n')\n",
    "\n",
    "main()\n"
   ]
  }
 ],
 "metadata": {
  "kernelspec": {
   "display_name": "Python 3 (ipykernel)",
   "language": "python",
   "name": "python3"
  },
  "language_info": {
   "codemirror_mode": {
    "name": "ipython",
    "version": 3
   },
   "file_extension": ".py",
   "mimetype": "text/x-python",
   "name": "python",
   "nbconvert_exporter": "python",
   "pygments_lexer": "ipython3",
   "version": "3.11.3"
  }
 },
 "nbformat": 4,
 "nbformat_minor": 5
}
