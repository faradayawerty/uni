{
 "cells": [
  {
   "cell_type": "markdown",
   "id": "7a7ff48a-1a68-44cd-9a0d-41d6fdfa0fea",
   "metadata": {},
   "source": [
    "## Лабораторная работа по UnitTest"
   ]
  },
  {
   "cell_type": "markdown",
   "id": "fd21c82c-4cf7-45ba-b9cd-7341eaf840a5",
   "metadata": {},
   "source": [
    "**Задача 1.** Создать программу, которая тестирует правильность работы кастомной функции возведения в степень. Тестировать только положительные числа до 1000."
   ]
  },
  {
   "cell_type": "code",
   "execution_count": null,
   "id": "5a99c695-2ba4-4042-803e-355b9ec0ce08",
   "metadata": {},
   "outputs": [],
   "source": [
    "# ваш код здесь\n",
    "\n",
    "import unittest\n",
    "\n",
    "def pow(a, b):\n",
    "    ans = 1\n",
    "    for i in range(0, b):\n",
    "        ans *= a\n",
    "    return ans\n",
    "\n",
    "class TestPow(unittest.TestCase):\n",
    "    def test_pow(self):\n",
    "        a = int(input('a = '))\n",
    "        b = int(input('b = '))\n",
    "        self.assertTrue(0 < a < 1000 and 0 < b < 1000)\n",
    "        self.assertEqual(pow(a, b), a ** b) # функция `assertEqual` используется для проверки двух значений на равенство\n",
    "\n",
    "if __name__ == '__main__':\n",
    "    unittest.main(argv=[''], verbosity=2, exit=False)"
   ]
  },
  {
   "cell_type": "markdown",
   "id": "df1b55e4-dc2e-45a8-9660-83939499a537",
   "metadata": {},
   "source": [
    "**Задача 2.** Проверить, что последовательность простых чисел до 1000 является возрастающей."
   ]
  },
  {
   "cell_type": "code",
   "execution_count": null,
   "id": "3430ea69-1551-426a-a33a-f42e074656be",
   "metadata": {},
   "outputs": [],
   "source": [
    "# ваш код здесь\n",
    "\n",
    "import unittest\n",
    "\n",
    "primes = []\n",
    "for i in range(2, 1000):\n",
    "    is_prime = True\n",
    "    for p in primes:\n",
    "        if i%p == 0:\n",
    "            is_prime = False\n",
    "            break\n",
    "    if is_prime:\n",
    "        primes += [i]\n",
    "\n",
    "class TestPrimes(unittest.TestCase):\n",
    "    def test_primes(self):\n",
    "        prev_prime = 1\n",
    "        for p in primes:\n",
    "            self.assertTrue(prev_prime < p)\n",
    "            prev_prime = p\n",
    "\n",
    "if __name__ == '__main__':\n",
    "    unittest.main(argv=[''], verbosity=2, exit=False)"
   ]
  },
  {
   "cell_type": "markdown",
   "id": "f2fef108-9680-45f0-9133-bc397a9d4c15",
   "metadata": {},
   "source": [
    "**Задача 3.** Создать программу, которая тестирует правильность работы кастомной функции целочисленного деления. Функция должна выдавать ошибку при делении на ноль. Тест должен учитывать это."
   ]
  },
  {
   "cell_type": "code",
   "execution_count": null,
   "id": "59783ea2-32f9-4882-b919-fe4e7406e36b",
   "metadata": {},
   "outputs": [],
   "source": [
    "# ваш код здесь\n",
    "\n",
    "import unittest\n",
    "\n",
    "def div(a, b):\n",
    "    if b == 0:\n",
    "        raise ValueError('division by zero is not allowed')\n",
    "    ans = 0\n",
    "    while a > b:\n",
    "        a -= b\n",
    "        ans += 1\n",
    "    return ans\n",
    "\n",
    "class TestDiv(unittest.TestCase):\n",
    "    def test_div(self):\n",
    "        with self.assertRaises(ValueError):\n",
    "            self.assertEqual(div(10, 2), 5)\n",
    "            self.assertEqual(div(0, 2), 0)\n",
    "            self.assertEqual(div(2, 0), 0)\n",
    "        \n",
    "if __name__ == '__main__':\n",
    "    unittest.main(argv=[''], verbosity=2, exit=False)"
   ]
  },
  {
   "cell_type": "markdown",
   "id": "edd8ed0d-1a49-4395-8168-01b7ef64c965",
   "metadata": {},
   "source": [
    "**Задача 4.** Проверить, что формула площади правильного n-угольника, вписанного в единичную окружность, выполняется для `2 < n < 10`."
   ]
  },
  {
   "cell_type": "code",
   "execution_count": null,
   "id": "9e8acd4f-3384-434a-b1d9-84010d738b61",
   "metadata": {},
   "outputs": [],
   "source": [
    "# ваш код здесь\n",
    "\n",
    "import unittest\n",
    "from math import pi, sin\n",
    "\n",
    "class TestPoly(unittest.TestCase):\n",
    "    def test_poly(self):\n",
    "\n",
    "        areas = [1.29, 2, 2.37, 2.59, 2.73, 2.82, 2.89, 2.93]\n",
    "        \n",
    "        for i in range(3, 10):\n",
    "            self.assertEqual( int(100 * 0.5 * i * sin(2*pi/i)) / 100.0 , areas[i - 3])\n",
    "    \n",
    "if __name__ == '__main__':\n",
    "    unittest.main(argv=[''], verbosity=2, exit=False)"
   ]
  },
  {
   "cell_type": "markdown",
   "id": "8ec64e3c-55b4-4148-b970-2682f029c64a",
   "metadata": {},
   "source": [
    "**Задача 5.** Проверить, что `det(AB) = det(A)det(B)` на матрицах из txt-файлов в папке `matricies`."
   ]
  },
  {
   "cell_type": "code",
   "execution_count": null,
   "id": "dd08ae5d-6fab-4e45-8a28-0a231c276c80",
   "metadata": {},
   "outputs": [],
   "source": [
    "# ваш код здесь\n",
    "\n",
    "import unittest, numpy\n",
    "from pathlib import Path\n",
    "\n",
    "class TestDet(unittest.TestCase):\n",
    "    def test_det(self):\n",
    "        matricies = []\n",
    "        for filename in Path(\"matricies\").glob(\"*.txt\"):\n",
    "            #print('processing file {}....'.format(filename))\n",
    "            matricies += [numpy.loadtxt(filename, dtype='i', delimiter=',')]\n",
    "        accuracy = 0.0001\n",
    "        for A in matricies:\n",
    "            for B in matricies:\n",
    "                self.assertTrue(abs(numpy.linalg.det(numpy.matmul(A, B)) - numpy.linalg.det(A) * numpy.linalg.det(B)) < accuracy)\n",
    "\n",
    "if __name__ == '__main__':\n",
    "    unittest.main(argv=[''], verbosity=2, exit=False)"
   ]
  },
  {
   "cell_type": "markdown",
   "id": "2cd8960e-c626-4145-8cc0-b964d2aff8b0",
   "metadata": {},
   "source": [
    "**Задача 6.** Проверить на нескольких функциях, что фундаментальная теорема математического анализа выполняется."
   ]
  },
  {
   "cell_type": "code",
   "execution_count": null,
   "id": "f8623aca-a947-4b85-a810-1f61fbe058a1",
   "metadata": {
    "scrolled": true
   },
   "outputs": [],
   "source": [
    "# ваш код здесь\n",
    "\n",
    "import unittest, numpy as np\n",
    "from scipy import integrate\n",
    "from math import sin, cos, sqrt\n",
    "\n",
    "funcs = [\n",
    "    lambda x: x * x,\n",
    "    lambda x: x ** 3 - x ** 2 + 1,\n",
    "    lambda x: sqrt(x),\n",
    "    lambda x: sin(x)/x,\n",
    "    lambda x: cos(x) ** 2\n",
    "]\n",
    "\n",
    "def derivative(f, x):\n",
    "    try:\n",
    "        accuracy = 0.0001 # работает только при достаточно маленькой точности\n",
    "        return (f(x + accuracy) - f(x)) / accuracy\n",
    "    except:\n",
    "        return ValueError('outside the domain')\n",
    "\n",
    "class TestCalculus(unittest.TestCase):\n",
    "    def test_fundamental_theorem(self):\n",
    "        for f in funcs:\n",
    "            for i in np.arange(1, 10, 0.01).tolist():\n",
    "                self.assertTrue(abs(f(i) - f(1) - integrate.quad(lambda x: derivative(f, x), 1, i)[0]) < 0.1)\n",
    "\n",
    "if __name__ == '__main__':\n",
    "    unittest.main(argv=[''], verbosity=2, exit=False)"
   ]
  },
  {
   "cell_type": "markdown",
   "id": "39a4d0a4-3b26-40e3-98ff-1532749c5cdc",
   "metadata": {},
   "source": [
    "**Задача 7.** Создать тест для программы, обращающейся к URL. Программа должна работать независимо от успешности пришедшего запроса."
   ]
  },
  {
   "cell_type": "code",
   "execution_count": null,
   "id": "bc951e80-23ae-4d6c-a98d-4f4c03e8da61",
   "metadata": {},
   "outputs": [],
   "source": [
    "# ваш код здесь\n",
    "\n",
    "import unittest\n",
    "\n",
    "class TestEmployee(unittest.TestCase):\n",
    "    \n",
    "    def setUp(self):\n",
    "        self.emp_1 = Employee('Corey', 'Schafer', 50000)\n",
    "        self.emp_2 = Employee('Sue', 'Smith', 60000)\n",
    "\n",
    "    # типовой случай - тестирование https-запроса без интернет-соединения\n",
    "    def test_monthly_schedule(self):\n",
    "        with unittest.mock.patch('requests.get') as mocked_get:\n",
    "            mocked_get.return_value.ok = True\n",
    "            mocked_get.return_value.text = 'Success'\n",
    "\n",
    "            schedule = self.emp_1.monthly_schedule('May')\n",
    "            mocked_get.assert_called_with('http://company.com/Schafer/May')\n",
    "            self.assertEqual(schedule, 'Success')\n",
    "\n",
    "            mocked_get.return_value.ok = False\n",
    "\n",
    "            schedule = self.emp_2.monthly_schedule('June')\n",
    "            mocked_get.assert_called_with('http://company.com/Smith/June')\n",
    "            self.assertEqual(schedule, 'Bad Response!')\n",
    "\n",
    "if __name__ == '__main__':\n",
    "    unittest.main(argv=[''], verbosity=2, exit=False)"
   ]
  },
  {
   "cell_type": "markdown",
   "id": "00a4ab3b-459d-4aea-8f69-d8bfab76ae01",
   "metadata": {},
   "source": [
    "**Задача 8.** Протестировать модуль python-weather на различных городах. В городах на экваторе должно быть жарко, а в городах у севера - холодно."
   ]
  },
  {
   "cell_type": "code",
   "execution_count": null,
   "id": "67b6b7ef-31f7-43af-b068-81e623297d88",
   "metadata": {},
   "outputs": [],
   "source": [
    "# ваш код здесь\n",
    "\n",
    "import unittest, requests, re\n",
    "\n",
    "def get_weather(city):\n",
    "    url = 'https://wttr.in/{}?0qT'.format(city)\n",
    "    res = requests.get(url)\n",
    "    return res.text\n",
    "\n",
    "def parse_temp(weather_text):\n",
    "    return re.findall(r'.\\d+', weather_text)[0]\n",
    "\n",
    "class TestWeather(unittest.TestCase):\n",
    "    def test_weather(self):\n",
    "        # проверить, где холоднее - в якутске или в риме\n",
    "        self.assertGreater(float(parse_temp(get_weather('Rome'))), float(parse_temp(get_weather('Yakutsk'))))\n",
    "\n",
    "if __name__ == '__main__':\n",
    "    unittest.main(argv=[''], verbosity=2, exit=False)"
   ]
  },
  {
   "cell_type": "markdown",
   "id": "65aab262-2dbd-4f97-94f6-183486247723",
   "metadata": {},
   "source": [
    "**Задача 9.** Написать редактор фотографий на pillow, который может накладывать различные фильтры на фото. Протестировать его работу на фотографиях из папки `photos`."
   ]
  },
  {
   "cell_type": "code",
   "execution_count": null,
   "id": "ba7ae88b-2589-4558-ad20-b17093f4d97f",
   "metadata": {},
   "outputs": [],
   "source": [
    "# ваш код здесь\n",
    "\n",
    "import unittest\n",
    "from PIL import Image\n",
    "from pathlib import Path\n",
    "\n",
    "def filter_red(img):\n",
    "    w, h = img.size\n",
    "    for x in range(w):\n",
    "        for y in range(h):\n",
    "            r,g,b = img.getpixel((x, y))\n",
    "            img.putpixel((x, y), (r, 0, 0))\n",
    "            \n",
    "def filter_green(img):\n",
    "    w, h = img.size\n",
    "    for x in range(w):\n",
    "        for y in range(h):\n",
    "            r,g,b = img.getpixel((x, y))\n",
    "            img.putpixel((x, y), (0, g, 0))\n",
    "            \n",
    "def filter_blue(img):\n",
    "    w, h = img.size\n",
    "    for x in range(w):\n",
    "        for y in range(h):\n",
    "            r,g,b = img.getpixel((x, y))\n",
    "            img.putpixel((x, y), (0, 0, b))\n",
    "\n",
    "class TestEditor(unittest.TestCase):\n",
    "    def test_editor(self):\n",
    "        for filename in Path(\"photos\").glob(\"*.jpg\"):\n",
    "            print('processing image {}....'.format(filename))\n",
    "            with Image.open(filename) as img:\n",
    "                w, h = img.size\n",
    "\n",
    "                filter_red(img)\n",
    "                r, g, b = img.getpixel((w//2, h//2))\n",
    "                self.assertTrue(r >= 0 and g == 0 and b == 0)\n",
    "\n",
    "                filter_green(img)\n",
    "                r, g, b = img.getpixel((w//2, h//2))\n",
    "                self.assertTrue(r == 0 and g >= 0 and b == 0)\n",
    "\n",
    "                filter_blue(img)\n",
    "                r, g, b = img.getpixel((w//2, h//2))\n",
    "                self.assertTrue(r == 0 and g == 0 and b >= 0)\n",
    "\n",
    "if __name__ == '__main__':\n",
    "    unittest.main(argv=[''], verbosity=2, exit=False)"
   ]
  },
  {
   "cell_type": "markdown",
   "id": "11be1907-10cf-41c2-9352-f016c4b02bbc",
   "metadata": {},
   "source": [
    "**Задача 10.** На писать небольшой физический движок. Протестировать в нём:\n",
    "\n",
    "1. Гравитация\n",
    "2. Коллизии объектов"
   ]
  },
  {
   "cell_type": "code",
   "execution_count": 1,
   "id": "1cc5f657-7179-4b1a-8082-6161fc191b0f",
   "metadata": {},
   "outputs": [
    {
     "name": "stderr",
     "output_type": "stream",
     "text": [
      "test_collision (__main__.TestEngine.test_collision) ... ok\n",
      "test_gravity (__main__.TestEngine.test_gravity) ... ok\n",
      "\n",
      "----------------------------------------------------------------------\n",
      "Ran 2 tests in 0.002s\n",
      "\n",
      "OK\n"
     ]
    }
   ],
   "source": [
    "# ваш код здесь\n",
    "\n",
    "import unittest, pyglet, time\n",
    "from threading import Thread\n",
    "\n",
    "window = pyglet.window.Window()\n",
    "batch = pyglet.graphics.Batch()\n",
    "thread = Thread(target = pyglet.app.run)\n",
    "objects = []\n",
    "\n",
    "collisions = 0\n",
    "pixels_in_air = 0\n",
    "\n",
    "t = time.time()\n",
    "\n",
    "@window.event\n",
    "def on_draw():\n",
    "    window.clear()\n",
    "    for object in objects:\n",
    "        object.draw()\n",
    "        object.update(time.time() - t)\n",
    "\n",
    "class Object:\n",
    "    def __init__(self, x, y, w, h, has_gravity):\n",
    "        self.x = x\n",
    "        self.y = y\n",
    "        self.w = w\n",
    "        self.h = h\n",
    "        self.vx = 0\n",
    "        self.vy = 0\n",
    "        self.has_gravity = has_gravity\n",
    "        self.collides = False\n",
    "    def update(self, dt):\n",
    "        global collisions, pixels_in_air\n",
    "        self.x = self.x + self.vx * dt\n",
    "        self.y = self.y + self.vy * dt\n",
    "\n",
    "        collides = False\n",
    "        for object in objects:\n",
    "            if object is self:\n",
    "                continue\n",
    "            if abs(self.x - object.x) < (self.w + object.w)/2 and abs(self.y - object.y) < (self.h + object.h)/2:\n",
    "                collides = True\n",
    "                break\n",
    "        if collides:\n",
    "            self.vx = 0\n",
    "            self.vy = 0\n",
    "            collisions += 1\n",
    "        if self.has_gravity and not collides:\n",
    "            self.vy -= 10 * dt\n",
    "            pixels_in_air += 1\n",
    "    def draw(self):\n",
    "        x = int(self.x)\n",
    "        y = int(self.y)\n",
    "        w = self.w\n",
    "        h = self.h\n",
    "        pyglet.shapes.Rectangle(x, y, w, h, color=((w*25 + 65*h) % 128 + 128, (h*65 + 31*w) % 128 + 128, (w*45 + 39*h) % 128 + 128), batch=batch).draw()\n",
    "    def set_velocity(self, vx, vy):\n",
    "        self.vx = vx\n",
    "        self.vy = vy\n",
    "\n",
    "class TestEngine(unittest.TestCase):\n",
    "    def test_gravity(self):\n",
    "        global pixels_in_air\n",
    "        self.assertNotEqual(pixels_in_air, 0)\n",
    "    def test_collision(self):\n",
    "        global collisions\n",
    "        self.assertNotEqual(collisions, 0) # ожидается, что хотя бы одна коллизия произошла после трех секунды работы программы\n",
    "    \n",
    "if __name__ == '__main__':\n",
    "    thread.start()\n",
    "\n",
    "    global objects\n",
    "    objects += [Object(50, 50, 250, 50, False)]\n",
    "    objects += [Object(60, 250, 40, 40, True)]\n",
    "    time.sleep(3)\n",
    "    thread.join()\n",
    "    \n",
    "    unittest.main(argv=[''], verbosity=2, exit=False)\n"
   ]
  }
 ],
 "metadata": {
  "kernelspec": {
   "display_name": "Python 3 (ipykernel)",
   "language": "python",
   "name": "python3"
  },
  "language_info": {
   "codemirror_mode": {
    "name": "ipython",
    "version": 3
   },
   "file_extension": ".py",
   "mimetype": "text/x-python",
   "name": "python",
   "nbconvert_exporter": "python",
   "pygments_lexer": "ipython3",
   "version": "3.11.3"
  }
 },
 "nbformat": 4,
 "nbformat_minor": 5
}
