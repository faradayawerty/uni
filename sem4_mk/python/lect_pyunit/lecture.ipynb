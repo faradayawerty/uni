{
 "cells": [
  {
   "cell_type": "markdown",
   "id": "c7e5177e-36b2-493a-8b04-51f3fd305ed7",
   "metadata": {
    "jp-MarkdownHeadingCollapsed": true
   },
   "source": [
    "## UnitTest (PyUnit)\n",
    "\n",
    "**UnitTest** (в прошлом - PyUnit) — это стандартный фреймворк юнит-тестирования на Python.\n",
    "\n",
    "Юнит-тестирование — процесс в программировании, позволяющий проверить на корректность отдельные модули исходного кода программы, наборы из одного или более программных модулей вместе с соответствующими управляющими данными, процедурами использования и обработки.\n",
    "\n",
    "PyUnit – это реализация JUnit на Python, стандартного фреймворка юнит-тестирования Java. "
   ]
  },
  {
   "cell_type": "markdown",
   "id": "aaec0179-43b9-4c57-adc4-a2c51ddc4983",
   "metadata": {},
   "source": [
    "## Первые шаги\n",
    "\n",
    "Напишем небольшой простенький калькулятор, который и будем тестировать."
   ]
  },
  {
   "cell_type": "code",
   "execution_count": null,
   "id": "09093ee5-9a90-4ef9-b694-e60f55b0ff0e",
   "metadata": {},
   "outputs": [],
   "source": [
    "def add(a, b):\n",
    "    return a + b\n",
    "def sub(a, b):\n",
    "    return a - b\n",
    "def mult(a, b):\n",
    "    return a * b\n",
    "def div(a, b):\n",
    "    if b == 0:\n",
    "        raise ValueError('division by zero is not allowed')\n",
    "    return a / b"
   ]
  },
  {
   "cell_type": "markdown",
   "id": "f6d30f5a-6091-4dbb-954e-3789879f0bdf",
   "metadata": {},
   "source": [
    "Чтобы воспользоваться возможностями UnitTest, необходимо создать класс-наследник `unittest.TestCase`"
   ]
  },
  {
   "cell_type": "code",
   "execution_count": null,
   "id": "bd6a081b-d68d-4f67-bc87-3e0616a0836a",
   "metadata": {},
   "outputs": [],
   "source": [
    "import unittest # unittest - стандартный модуль языка Python с версии 2.1, поэтому не требует установки через pip\n",
    "\n",
    "class TestCalc(unittest.TestCase):\n",
    "\n",
    "    # названия методов обязательно должны начинаться с `test_`, иначе unittest их не примет во внимание\n",
    "    def test_mult(self):\n",
    "        expected_result = 50\n",
    "        result = mult(10, 5)\n",
    "        self.assertEqual(result, expected_result) # функция `assertEqual` используется для проверки двух значений на равенство\n",
    "\n",
    "    # этот тест должен провалиться\n",
    "    def test_add(self):\n",
    "        self.assertEqual(add(2, 2), 5)\n",
    "\n",
    "    # хорошей является проверка большого количества значений \n",
    "    def test_sub(self):\n",
    "        self.assertEqual(sub(2, 2), 0)\n",
    "        self.assertEqual(sub(2, 3), -1)\n",
    "        self.assertEqual(sub(3, 2), 1)\n",
    "        self.assertEqual(sub(-3, 2), -5)\n",
    "        self.assertEqual(sub(3, -2), 5)\n",
    "\n",
    "    # тест должен выдать ошибку\n",
    "    def test_div(self):\n",
    "        self.assertEqual(div(10, 2), 5)\n",
    "        self.assertEqual(div(0, 2), 0)\n",
    "        self.assertEqual(div(2, 0), 0)\n",
    "\n",
    "# альтернативно можно запустить тест командой `python -m unittest -v test_module`\n",
    "if __name__ == '__main__':\n",
    "    \"\"\" \n",
    "        verbosity - деталиизрованность вывода (по умолчанию - 1)\n",
    "        argv - список опций командной строки, передаваемых при запуске программы (по умолчанию исопльзуется sys.argv)\n",
    "        exit - при True завершает выполнение с использованием sys.exit(), при False - без\n",
    "    \"\"\"\n",
    "    unittest.main(argv=[''], verbosity=2, exit=False)"
   ]
  },
  {
   "cell_type": "markdown",
   "id": "0becb71f-8c53-4d0a-98d2-c51ec6b3cd5f",
   "metadata": {},
   "source": [
    "## Функции Assert\n",
    "`unittest.TestCase` содержит в себе несколько функий Assert, проверяющих условие\n",
    "\n",
    "\n",
    "| Метод                     | Проверяет, что         | Появился в |\n",
    "|---------------------------|------------------------|------------|\n",
    "| assertEqual(a, b)         | `a == b`               |            |\n",
    "| assertNotEqual(a, b)      | `a != b`               |            |\n",
    "| assertTrue(x)             | `bool(x) is True`      |            |\n",
    "| assertFalse(x)            | `bool(x) is False`     |            |\n",
    "| assertIs(a, b)            | `a is b`               | 3.1        |\n",
    "| assertIsNot(a, b)         | `a is not b`           | 3.1        |\n",
    "| assertIsNone(x)           | `x is None`            | 3.1        |\n",
    "| assertIsNotNone(x)        | `x is not None`        | 3.1        |\n",
    "| assertIn(a, b)            | `a in b`               | 3.1        |\n",
    "| assertNotIn(a, b)         | `a not in b`           | 3.1        |\n",
    "| assertIsInstance(a, b)    | `isinstance(a, b)`     | 3.2        |\n",
    "| assertNotIsInstance(a, b) | `not isinstance(a, b)` | 3.2        |\n",
    "\n"
   ]
  },
  {
   "cell_type": "code",
   "execution_count": null,
   "id": "db8dc169-43b5-4cd1-9258-efd1d10ce32c",
   "metadata": {},
   "outputs": [],
   "source": [
    "import unittest\n",
    "\n",
    "class TestCalc(unittest.TestCase):\n",
    "\n",
    "    # демонстрация работы каждой из функций\n",
    "    def test_add(self):\n",
    "        self.assertEqual(add(2, 2), 4)\n",
    "        #self.assertEqual(add(2, 2), 5)\n",
    "        #self.assertNotEqual(add(2, 2), 4)\n",
    "        self.assertNotEqual(add(2, 2), 5)\n",
    "        #self.assertTrue(add(2, 2) < 4)\n",
    "        self.assertTrue(add(2, 2) < 5)\n",
    "        self.assertFalse(add(2, 2) < 4)\n",
    "        #self.assertFalse(add(2, 2) < 5)\n",
    "        #self.assertIsNone(1)\n",
    "        self.assertIsNone(None)\n",
    "        self.assertIsNotNone(1)\n",
    "        #self.assertIsNotNone(None)\n",
    "        #self.assertIn(add(2, 2), [1, 2, 3])\n",
    "        self.assertIn(add(2, 2), [1, 2, 3, 4, 5])\n",
    "        self.assertNotIn(add(2, 2), [1, 2, 3])\n",
    "        #self.assertNotIn(add(2, 2), [1, 2, 3, 4, 5])\n",
    "\n",
    "if __name__ == '__main__':\n",
    "    unittest.main(argv=[''], verbosity=2, exit=False)"
   ]
  },
  {
   "cell_type": "markdown",
   "id": "367d0ebc-d9d1-40be-b86f-b04328bb8ce7",
   "metadata": {},
   "source": [
    "#### Тестирование исключений\n",
    "`unittest.TestCase` содержит метод `assertRaises`, который можно использовать для проверки успешности выкидывания исключения"
   ]
  },
  {
   "cell_type": "code",
   "execution_count": null,
   "id": "8dd8c013-49e1-4ed0-9f54-e2fbc39d7487",
   "metadata": {},
   "outputs": [],
   "source": [
    "import unittest\n",
    "\n",
    "class TestCalc(unittest.TestCase):\n",
    "    def test_div(self):\n",
    "        #self.assertRaises(ValueError, div, 1, 0) - идентично тому, что ниже, но параметры передаются отдельно\n",
    "        with self.assertRaises(ValueError):\n",
    "            div(1, 0)\n",
    "\n",
    "if __name__ == '__main__':\n",
    "    unittest.main(argv=[''], verbosity=2, exit=False)"
   ]
  },
  {
   "cell_type": "markdown",
   "id": "29dd7cb5-26f7-4413-9351-ed8dead03ed7",
   "metadata": {},
   "source": [
    "В случае чего тест можно пропустить, используя метод `skipTest` в `unittest.TestCase`"
   ]
  },
  {
   "cell_type": "code",
   "execution_count": null,
   "id": "59c30a5a-b1fb-421a-a5ad-9e69ac727a79",
   "metadata": {},
   "outputs": [],
   "source": [
    "import unittest\n",
    "\n",
    "class TestCalc(unittest.TestCase):\n",
    "    def test_add(self):\n",
    "        if 2 + 2 == 4:\n",
    "            self.skipTest('because 2 + 2 = 4')\n",
    "        self.assertEqual(add(2, 2), 4)\n",
    "\n",
    "if __name__ == '__main__':\n",
    "    unittest.main(argv=[''], verbosity=2, exit=False)"
   ]
  },
  {
   "cell_type": "markdown",
   "id": "f44e78e0-c945-4559-9d64-531e5fc3e201",
   "metadata": {},
   "source": [
    "## Методы setUp и tearDown\n",
    "Метод `setUp` содержит код, который запускается *перед* каждым тестом. Метод `tearDown` содержит код, который запускается *после* каждого из тестов."
   ]
  },
  {
   "cell_type": "code",
   "execution_count": null,
   "id": "e233532b-aeba-4988-980c-8c8d599cd017",
   "metadata": {},
   "outputs": [],
   "source": [
    "import requests\n",
    "\n",
    "class Employee:\n",
    "    \"\"\"A sample Employee class\"\"\"\n",
    "\n",
    "    raise_amt = 1.05\n",
    "\n",
    "    def __init__(self, first, last, pay):\n",
    "        self.first = first\n",
    "        self.last = last\n",
    "        self.pay = pay\n",
    "\n",
    "    @property\n",
    "    def email(self):\n",
    "        return '{}.{}@email.com'.format(self.first, self.last)\n",
    "\n",
    "    @property\n",
    "    def fullname(self):\n",
    "        return '{} {}'.format(self.first, self.last)\n",
    "\n",
    "    def apply_raise(self):\n",
    "        self.pay = int(self.pay * self.raise_amt)\n",
    "\n",
    "    def monthly_schedule(self, month):\n",
    "        response = requests.get(f'http://company.com/{self.last}/{month}') # предположим, что метод обращается к некому `company.com`\n",
    "        if response.ok:\n",
    "            return response.text\n",
    "        else:\n",
    "            return 'Bad Response!'"
   ]
  },
  {
   "cell_type": "code",
   "execution_count": null,
   "id": "25ceed15-5e69-4802-b154-c07450c8f8a9",
   "metadata": {},
   "outputs": [],
   "source": [
    "import unittest\n",
    "\n",
    "class TestEmployee(unittest.TestCase):\n",
    "    \n",
    "    def setUp(self):\n",
    "        self.emp_1 = Employee('Corey', 'Schafer', 50000)\n",
    "        self.emp_2 = Employee('Sue', 'Smith', 60000)\n",
    "\n",
    "    def tearDown(self):\n",
    "        print('state of employee #1: {} {} {}'.format(self.emp_1.first, self.emp_1.last, self.emp_1.pay))\n",
    "        print('state of employee #2: {} {} {}'.format(self.emp_2.first, self.emp_2.last, self.emp_2.pay))\n",
    "\n",
    "    def test_email(self):\n",
    "        self.assertEqual(self.emp_1.email, 'Corey.Schafer@email.com')\n",
    "        self.assertEqual(self.emp_2.email, 'Sue.Smith@email.com')\n",
    "        self.emp_1.first = 'John'\n",
    "        self.emp_2.first = 'Jane'\n",
    "        self.assertEqual(self.emp_1.email, 'John.Schafer@email.com')\n",
    "        self.assertEqual(self.emp_2.email, 'Jane.Smith@email.com')\n",
    "\n",
    "    def test_fullname(self):\n",
    "        self.assertEqual(self.emp_1.fullname, 'Corey Schafer')\n",
    "        self.assertEqual(self.emp_2.fullname, 'Sue Smith')\n",
    "        self.emp_1.first = 'John'\n",
    "        self.emp_2.first = 'Jane'\n",
    "        self.assertEqual(self.emp_1.fullname, 'John Schafer')\n",
    "        self.assertEqual(self.emp_2.fullname, 'Jane Smith')\n",
    "\n",
    "    def test_apply_raise(self):\n",
    "        self.emp_1.apply_raise()\n",
    "        self.emp_2.apply_raise()\n",
    "\n",
    "if __name__ == '__main__':\n",
    "    unittest.main(argv=[''], verbosity=2, exit=False)"
   ]
  },
  {
   "cell_type": "markdown",
   "id": "7a02f64d-ba42-451b-9c5d-db3aacb0b899",
   "metadata": {},
   "source": [
    "## Mock-объекты\n",
    "Не всегда удаётся честно получить объект, над которым мы собираемся производить тестирование. Но в этом есть необходимость. В таких случаях можно воспользоваться Mock-объектом (объектом пародией), т.е. объектом, реализующим заданные аспекты моделируемого программного окружения. "
   ]
  },
  {
   "cell_type": "code",
   "execution_count": null,
   "id": "b032040c-b637-4e1b-8fe4-8c74aebb08dd",
   "metadata": {},
   "outputs": [],
   "source": [
    "import unittest\n",
    "\n",
    "class TestEmployee(unittest.TestCase):\n",
    "    \n",
    "    def setUp(self):\n",
    "        self.emp_1 = Employee('Corey', 'Schafer', 50000)\n",
    "        self.emp_2 = Employee('Sue', 'Smith', 60000)\n",
    "\n",
    "    # типовой случай - тестирование https-запроса без интернет-соединения\n",
    "    def test_monthly_schedule(self):\n",
    "        with unittest.mock.patch('requests.get') as mocked_get:\n",
    "            mocked_get.return_value.ok = True\n",
    "            mocked_get.return_value.text = 'Success'\n",
    "\n",
    "            schedule = self.emp_1.monthly_schedule('May')\n",
    "            mocked_get.assert_called_with('http://company.com/Schafer/May')\n",
    "            self.assertEqual(schedule, 'Success')\n",
    "\n",
    "            mocked_get.return_value.ok = False\n",
    "\n",
    "            schedule = self.emp_2.monthly_schedule('June')\n",
    "            mocked_get.assert_called_with('http://company.com/Smith/June')\n",
    "            self.assertEqual(schedule, 'Bad Response!')\n",
    "\n",
    "if __name__ == '__main__':\n",
    "    unittest.main(argv=[''], verbosity=2, exit=False)"
   ]
  }
 ],
 "metadata": {
  "kernelspec": {
   "display_name": "Python 3 (ipykernel)",
   "language": "python",
   "name": "python3"
  },
  "language_info": {
   "codemirror_mode": {
    "name": "ipython",
    "version": 3
   },
   "file_extension": ".py",
   "mimetype": "text/x-python",
   "name": "python",
   "nbconvert_exporter": "python",
   "pygments_lexer": "ipython3",
   "version": "3.11.3"
  }
 },
 "nbformat": 4,
 "nbformat_minor": 5
}
