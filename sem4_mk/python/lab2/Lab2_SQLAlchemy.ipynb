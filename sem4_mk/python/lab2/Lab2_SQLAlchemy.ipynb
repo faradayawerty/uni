{
 "cells": [
  {
   "cell_type": "markdown",
   "id": "04f5a71e-876f-453a-afd6-451a6c8c30a2",
   "metadata": {},
   "source": [
    "# Лабораторная работа 2"
   ]
  },
  {
   "cell_type": "markdown",
   "id": "57c8eae3-20d8-42ef-a06e-cf2abde37268",
   "metadata": {},
   "source": [
    "## Библиотека SQLAlchemy"
   ]
  },
  {
   "cell_type": "markdown",
   "id": "46cd5a8e-6723-41f6-ac40-8cda861b3895",
   "metadata": {},
   "source": [
    "Дан файл с ассортиментом в продуктовом магазине (`Lab2_Товары.txt`). Добавьте в него вручную не менее 10 новых строк в том же формате. У каждого товара должно быть: наименование, цена за единицу (в файле указана уже с учетом скидки), скидка (в %), срок годности, количество (шт)."
   ]
  },
  {
   "cell_type": "markdown",
   "id": "d82368cd-ac90-4cbd-b41b-82abee571e41",
   "metadata": {},
   "source": [
    "**1.** Создать базу данных с информацией о товарах с помощью библиотеки `SQLAlchemy`."
   ]
  },
  {
   "cell_type": "code",
   "execution_count": 7,
   "id": "8a1ba1d9-906c-448a-9382-39ea26e23bf5",
   "metadata": {},
   "outputs": [],
   "source": [
    "# Ваш код здесь"
   ]
  },
  {
   "cell_type": "markdown",
   "id": "ed875ae6-f56a-4251-bba9-e4ff7ad41475",
   "metadata": {},
   "source": [
    "**2.** Удалить товары с неккоректными данными. Анализировать все значения. Указать, какие диапазоны значений вы учитывали как корректные."
   ]
  },
  {
   "cell_type": "code",
   "execution_count": 8,
   "id": "9c780e5d-4558-4729-a514-8e6a017d5d04",
   "metadata": {},
   "outputs": [],
   "source": [
    "# Ваш код здесь"
   ]
  },
  {
   "cell_type": "markdown",
   "id": "855b5cd1-8092-45d4-80f7-9cd656ae9727",
   "metadata": {},
   "source": [
    "**3.** Вывести в поянтном виде (хотя бы для одного пункта использовать библиотеку `PrettyTable`):\n",
    "    \n",
    "    * весь ассортимент\n",
    "    "
   ]
  },
  {
   "cell_type": "code",
   "execution_count": 3,
   "id": "5bee3215-00de-4bd2-8d02-0b3a9951f752",
   "metadata": {},
   "outputs": [],
   "source": [
    "# Ваш код здесь"
   ]
  },
  {
   "cell_type": "markdown",
   "id": "6505249f-9a80-4a71-9801-6d94dd17463f",
   "metadata": {},
   "source": [
    "    * самый дорогой товар без учета скидки и его полную стоимость"
   ]
  },
  {
   "cell_type": "code",
   "execution_count": 4,
   "id": "c631f6b7-059d-41c9-876d-2ceefd580688",
   "metadata": {},
   "outputs": [],
   "source": [
    "# Ваш код здесь"
   ]
  },
  {
   "cell_type": "markdown",
   "id": "b6288b9f-b139-4afb-b2f6-deec044fac7b",
   "metadata": {},
   "source": [
    "    * среднюю стоимость товаров"
   ]
  },
  {
   "cell_type": "code",
   "execution_count": 5,
   "id": "350695dc-2ba6-4d3a-9b37-bd88c3f17455",
   "metadata": {},
   "outputs": [],
   "source": [
    "# Ваш код здесь"
   ]
  },
  {
   "cell_type": "markdown",
   "id": "edf140ba-6445-4f77-a2ca-98d9fe6b6a0d",
   "metadata": {},
   "source": [
    "    * все скоропортящиеся товары (срок годности <= 10 дней)"
   ]
  },
  {
   "cell_type": "code",
   "execution_count": 6,
   "id": "2ee44231-fa93-48d9-82e1-578e84c13576",
   "metadata": {},
   "outputs": [],
   "source": [
    "# Ваш код здесь"
   ]
  },
  {
   "cell_type": "markdown",
   "id": "8184e0f9-5618-4dda-abcb-798fbe7a538b",
   "metadata": {},
   "source": [
    "    * товары со скидкой и стоимостью до 50 руб"
   ]
  },
  {
   "cell_type": "code",
   "execution_count": null,
   "id": "c7fc8486-6267-49f1-97fa-06c87260d2d7",
   "metadata": {},
   "outputs": [],
   "source": [
    "# Ваш код здесь"
   ]
  },
  {
   "cell_type": "markdown",
   "id": "c8604a28-4f50-4547-aadc-2ae721917554",
   "metadata": {},
   "source": [
    "**4.** Посчитать выручку магазина за прошедшую неделю. Будем считать, что на начало недели в магазине было:\n",
    "    \n",
    "    * 150 единиц товаров стоимостью до 100 руб\n",
    "    \n",
    "    * 100 единиц товаров стоимостью до 300 руб\n",
    "    \n",
    "    * по 50 единиц остальных товаров\n",
    "\n",
    "Текущую дату определять автоматически. "
   ]
  },
  {
   "cell_type": "code",
   "execution_count": 3,
   "id": "06b08a26-2770-460c-95a3-f38fe4cdead2",
   "metadata": {},
   "outputs": [],
   "source": [
    "# Ваш код здесь"
   ]
  },
  {
   "cell_type": "markdown",
   "id": "3ae5196f-c347-48d5-8039-21cb6882c3f8",
   "metadata": {},
   "source": [
    "**5.** Заказать товары со склада. Для этого создать новую таблицу, в которую по одному разу включить все товары, которые нужно заказать. Минимальное количество, которое необходимо иметь на следующую неделю (учитывать имеющийся уже товар):\n",
    "\n",
    "    * 50 единиц, если срок годности <= 14 дней\n",
    "\n",
    "    * 100 единиц, если срок годности меньше <= 30 дней\n",
    "    \n",
    "    * 150 единиц, все остальное "
   ]
  },
  {
   "cell_type": "code",
   "execution_count": 4,
   "id": "33e25adf-cd59-4e87-86c3-410f1d60e9de",
   "metadata": {},
   "outputs": [],
   "source": [
    "# Ваш код здесь"
   ]
  },
  {
   "cell_type": "markdown",
   "id": "e4491337-391f-4b38-812e-646dbcc5f26f",
   "metadata": {},
   "source": [
    " **6.** В таблице заказов сократить вдвое все скоропортящиеся товары (срок годности <= 10 дней), при этом изменить БД."
   ]
  },
  {
   "cell_type": "code",
   "execution_count": 10,
   "id": "11e6aec3-f778-42de-8785-c6b93577663b",
   "metadata": {},
   "outputs": [],
   "source": [
    "# Ваш код здесь"
   ]
  }
 ],
 "metadata": {
  "kernelspec": {
   "display_name": "Python 3 (ipykernel)",
   "language": "python",
   "name": "python3"
  },
  "language_info": {
   "codemirror_mode": {
    "name": "ipython",
    "version": 3
   },
   "file_extension": ".py",
   "mimetype": "text/x-python",
   "name": "python",
   "nbconvert_exporter": "python",
   "pygments_lexer": "ipython3",
   "version": "3.11.3"
  }
 },
 "nbformat": 4,
 "nbformat_minor": 5
}
