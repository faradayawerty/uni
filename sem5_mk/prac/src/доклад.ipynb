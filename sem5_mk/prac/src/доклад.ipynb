{
 "cells": [
  {
   "cell_type": "code",
   "execution_count": null,
   "id": "5095748c-bb96-4700-95de-0499a867d3c2",
   "metadata": {},
   "outputs": [],
   "source": [
    "# pip install if needed"
   ]
  },
  {
   "cell_type": "code",
   "execution_count": null,
   "id": "fea61a86-f153-44a7-914d-f65a5b6a788a",
   "metadata": {},
   "outputs": [],
   "source": [
    "import pandas as pd\n",
    "from statsmodels.tsa.seasonal import STL\n",
    "import matplotlib.pyplot as plt\n",
    "from datetime import datetime"
   ]
  },
  {
   "cell_type": "code",
   "execution_count": null,
   "id": "caaf37ce-8a4c-4f37-add4-9919e802b350",
   "metadata": {},
   "outputs": [],
   "source": [
    "gstat = pd.read_csv('multiTimeline.csv')\n",
    "gstat.set_index('month', inplace=True)"
   ]
  },
  {
   "cell_type": "code",
   "execution_count": null,
   "id": "faa51a5c-f79b-4cd2-90d7-eed44786fe0b",
   "metadata": {
    "scrolled": true
   },
   "outputs": [],
   "source": [
    "plt.figure(figsize=(10,4))\n",
    "plt.plot(gstat)"
   ]
  },
  {
   "cell_type": "code",
   "execution_count": null,
   "id": "1686047f-6e50-4544-9152-fb7e5f56c704",
   "metadata": {
    "scrolled": true
   },
   "outputs": [],
   "source": [
    "diff_gstat = gstat.diff()\n",
    "plt.plot(diff_gstat)"
   ]
  },
  {
   "cell_type": "code",
   "execution_count": null,
   "id": "3c183866-aa7c-4209-8227-e05ac23b49c2",
   "metadata": {},
   "outputs": [],
   "source": [
    "stl = STL(diff_gstat)\n",
    "result = stl.fit()\n",
    "seasonal, trend, resid = result.seasonal, result.trend, result.resid"
   ]
  },
  {
   "cell_type": "code",
   "execution_count": null,
   "id": "f32434fb-b44e-4745-ade4-fca5c75a0f4e",
   "metadata": {},
   "outputs": [],
   "source": [
    "plt.figure(figsize=(8,6))\n",
    "\n",
    "plt.subplot(4,1,1)\n",
    "plt.plot(diff_gstat)\n",
    "plt.title('Original Series', fontsize=16)\n",
    "\n",
    "plt.subplot(4,1,2)\n",
    "plt.plot(trend)\n",
    "plt.title('Trend', fontsize=16)\n",
    "\n",
    "plt.subplot(4,1,3)\n",
    "plt.plot(seasonal)\n",
    "plt.title('Seasonal', fontsize=16)\n",
    "\n",
    "plt.subplot(4,1,4)\n",
    "plt.plot(resid)\n",
    "plt.title('Residual', fontsize=16)\n",
    "\n",
    "plt.tight_layout()"
   ]
  },
  {
   "cell_type": "code",
   "execution_count": null,
   "id": "6b57a808-d33b-44e3-9174-86b48e905016",
   "metadata": {},
   "outputs": [],
   "source": [
    "estimated = trend + seasonal\n",
    "plt.figure(figsize=(12,4))\n",
    "plt.plot(ice_cream_interest)\n",
    "plt.plot(estimated)"
   ]
  },
  {
   "cell_type": "code",
   "execution_count": null,
   "id": "83a0715e-9002-4ed4-924d-89d138197f0e",
   "metadata": {},
   "outputs": [],
   "source": [
    "resid_mu = resid.mean()\n",
    "resid_dev = resid.std()\n",
    "\n",
    "lower = resid_mu - 3*resid_dev\n",
    "upper = resid_mu + 3*resid_dev"
   ]
  },
  {
   "cell_type": "code",
   "execution_count": null,
   "id": "20b29b11-5f59-471e-9e20-d55839f4ee2e",
   "metadata": {},
   "outputs": [],
   "source": [
    "plt.figure(figsize=(10,4))\n",
    "plt.plot(resid)\n",
    "\n",
    "plt.fill_between([datetime(2003,1,1), datetime(2021,8,1)], lower, upper, color='g', alpha=0.25, linestyle='--', linewidth=2)\n",
    "plt.xlim(datetime(2003,9,1), datetime(2020,12,1))"
   ]
  },
  {
   "cell_type": "code",
   "execution_count": null,
   "id": "6c68d0ce-f4cf-4c08-82ff-f653614b0423",
   "metadata": {},
   "outputs": [],
   "source": [
    "anomalies = ice_cream_interest[(resid < lower) | (resid > upper)]"
   ]
  },
  {
   "cell_type": "code",
   "execution_count": null,
   "id": "e5bcb73e-3997-4fe7-b282-46c2a8b5cccd",
   "metadata": {},
   "outputs": [],
   "source": [
    "plt.figure(figsize=(10,4))\n",
    "plt.plot(ice_cream_interest)\n",
    "for year in range(2004,2021):\n",
    "    plt.axvline(datetime(year,1,1), color='k', linestyle='--', alpha=0.5)\n",
    "    \n",
    "plt.scatter(anomalies.index, anomalies.interest, color='r', marker='D')"
   ]
  },
  {
   "cell_type": "code",
   "execution_count": null,
   "id": "acd9d57f-008d-4674-8d6f-e6fd3d8b7168",
   "metadata": {},
   "outputs": [],
   "source": [
    "anomalies"
   ]
  }
 ],
 "metadata": {
  "kernelspec": {
   "display_name": "Python 3 (ipykernel)",
   "language": "python",
   "name": "python3"
  },
  "language_info": {
   "codemirror_mode": {
    "name": "ipython",
    "version": 3
   },
   "file_extension": ".py",
   "mimetype": "text/x-python",
   "name": "python",
   "nbconvert_exporter": "python",
   "pygments_lexer": "ipython3",
   "version": "3.11.6"
  }
 },
 "nbformat": 4,
 "nbformat_minor": 5
}
